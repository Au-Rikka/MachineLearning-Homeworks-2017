{
 "cells": [
  {
   "cell_type": "code",
   "execution_count": null,
   "metadata": {
    "collapsed": false
   },
   "outputs": [],
   "source": [
    "%autosave 15\n",
    "%matplotlib inline\n",
    "\n",
    "import numpy as np\n",
    "import scipy as sp\n",
    "import pandas as pd\n",
    "import math as math\n",
    "import random\n",
    "import os\n",
    "\n",
    "from mpl_toolkits.mplot3d import Axes3D\n",
    "import matplotlib.pyplot as plt\n",
    "from IPython.display import display, HTML"
   ]
  },
  {
   "cell_type": "code",
   "execution_count": null,
   "metadata": {
    "collapsed": true
   },
   "outputs": [],
   "source": [
    "SPAM = \"spmsg\"\n",
    "LEGIT = \"legit\"\n",
    "\n",
    "class Email:\n",
    "    def __init__(self, filename, lines):\n",
    "        self.filename = filename\n",
    "        self.isSpam = SPAM in filename\n",
    "        \n",
    "        self.title = list(map(int, (lines[0].strip().split())[1:]))\n",
    "        self.body = []\n",
    "        for line in lines[2:]:\n",
    "            self.body += list(map(int, line.strip().split()))\n",
    "    \n",
    "    def __repr__(self):\n",
    "        return str(self)\n",
    "    \n",
    "    def __str__(self):\n",
    "        kind = \"LEGIT\"\n",
    "        if (self.isSpam):\n",
    "            kind = \"SPAM\"\n",
    "        return kind + \" EMAIL \" + self.filename + \": \" + str(self.title) + \", \" + str(self.body) + \"\\n\""
   ]
  },
  {
   "cell_type": "code",
   "execution_count": null,
   "metadata": {
    "collapsed": true
   },
   "outputs": [],
   "source": [
    "class DictValue:\n",
    "    def __init__(self):\n",
    "        self.sTitle = 0\n",
    "        self.lTitle = 0\n",
    "        self.sBody = 0\n",
    "        self.lBody = 0\n",
    "        \n",
    "    def foundInTitle(self, isSpam):\n",
    "        if (isSpam):\n",
    "            self.sTitle += 1\n",
    "        else:\n",
    "            self.lTitle += 1\n",
    "            \n",
    "    def foundInBody(self, isSpam):\n",
    "        if (isSpam):\n",
    "            self.sBody += 1\n",
    "        else:\n",
    "            self.lBody += 1\n",
    "    \n",
    "    def __repr__(self):\n",
    "        return str(self)\n",
    "    \n",
    "    def __str__(self):\n",
    "        t = (self.sTitle, self.lTitle)\n",
    "        b = (self.sBody, self.lBody)\n",
    "        return \"TITLE: \" + str(t) + \", BODY: \" + str(b)"
   ]
  },
  {
   "cell_type": "code",
   "execution_count": null,
   "metadata": {
    "collapsed": true
   },
   "outputs": [],
   "source": [
    "PARTS_DIR = \"./Bayes/pu1/\"\n",
    "PARTS_NUM = 10\n",
    "\n",
    "def getData():\n",
    "    parts = []  \n",
    "    for i in range(PARTS_NUM):\n",
    "        curPart = PARTS_DIR + \"part\" + str(i + 1)\n",
    "        emails = []\n",
    "        for filename in os.listdir(curPart):\n",
    "            file = open(curPart + \"/\" + filename, 'r')\n",
    "            emails.append(Email(filename, file.readlines()))\n",
    "            file.close()\n",
    "        parts.append(emails)\n",
    "    return parts\n",
    "\n",
    "parts = getData()"
   ]
  },
  {
   "cell_type": "code",
   "execution_count": null,
   "metadata": {
    "collapsed": true
   },
   "outputs": [],
   "source": [
    "# takes: array of emails\n",
    "# returns: Dict where keys are words and values are DictValues (contain key-word statistic for all given emails)\n",
    "def learnBayes(emails):\n",
    "    dict = {}\n",
    "    for email in emails:\n",
    "        for word in email.title:\n",
    "            dict.setdefault(word, DictValue()).foundInTitle(email.isSpam)\n",
    "        for word in email.body:\n",
    "            dict.setdefault(word, DictValue()).foundInBody(email.isSpam)\n",
    "    return dict\n",
    "            \n",
    "#print(learnBayes(parts[0]))"
   ]
  },
  {
   "cell_type": "code",
   "execution_count": null,
   "metadata": {
    "collapsed": true
   },
   "outputs": [],
   "source": [
    "# spamWeight, titleWeight = (0..1)\n",
    "def testBayes(spamDict, emails, spamWeight = 0.5, titleWeight = 0.5):\n",
    "    TP = 0\n",
    "    FP = 0\n",
    "    TN = 0\n",
    "    FN = 0\n",
    "    for email in emails:\n",
    "        p_spam = math.log(spamWeight)\n",
    "        p_legit = math.log(1 - spamWeight)\n",
    "        \n",
    "        for word in email.title:\n",
    "            wf = spamDict.get(word, DictValue())\n",
    "            if (wf.sTitle + wf.lTitle > 0):\n",
    "                x = titleWeight / (wf.sTitle + wf.lTitle)\n",
    "                if (wf.sTitle > 0):\n",
    "                    p_spam += math.log(wf.sTitle * x)\n",
    "                if (wf.lTitle > 0):\n",
    "                    p_legit += math.log(wf.lTitle * x)\n",
    "                    \n",
    "        for word in email.body:\n",
    "            wf = spamDict.get(word, DictValue())\n",
    "            if (wf.sBody + wf.lBody > 0):\n",
    "                x = (1 - titleWeight) / (wf.sBody + wf.lBody)\n",
    "                if (wf.sBody > 0):\n",
    "                    p_spam += math.log(wf.sBody * x)\n",
    "                if (wf.lBody > 0):\n",
    "                    p_legit += math.log(wf.lBody * x)\n",
    "                    \n",
    "        #res.append((email, p_legit >= p_spam))\n",
    "        #res.append((email.isSpam, p_spam >= p_legit))\n",
    "        isCurrentSpam = p_spam >= p_legit\n",
    "        if (email.isSpam != isCurrentSpam):\n",
    "            if isCurrentSpam:\n",
    "                FP += 1\n",
    "            else:\n",
    "                FN += 1\n",
    "        else:\n",
    "            if isCurrentSpam:\n",
    "                TP += 1\n",
    "            else:\n",
    "                TN += 1\n",
    "    if TP == 0:\n",
    "        return 0\n",
    "    precision = TP / (TP + FP)\n",
    "    recall = TP / (TP + FN)\n",
    "\n",
    "    return 2 * (precision * recall) / (precision + recall)"
   ]
  },
  {
   "cell_type": "code",
   "execution_count": null,
   "metadata": {
    "collapsed": false,
    "scrolled": false
   },
   "outputs": [],
   "source": [
    "def cv(spamWeight, titleWeight):\n",
    "    best_result = None\n",
    "    best_score  = -1\n",
    "\n",
    "    for i in range(PARTS_NUM):\n",
    "        learningSet = []\n",
    "        for j in range(PARTS_NUM):\n",
    "            if (j != i):\n",
    "                learningSet += parts[j]\n",
    "        testingSet  = parts[i]\n",
    "    \n",
    "        spamDict = learnBayes(learningSet)\n",
    "        score = testBayes(spamDict, testingSet, spamWeight, titleWeight)\n",
    "        if score > best_score:\n",
    "            best_score = score\n",
    "            best_result = spamDict\n",
    "        print(score)\n",
    "    # and average f1 score for given parameters\n",
    "#     return best_score, best_result\n",
    "\n",
    "cv(1e-9, 1e-9)"
   ]
  },
  {
   "cell_type": "code",
   "execution_count": null,
   "metadata": {
    "collapsed": true
   },
   "outputs": [],
   "source": []
  },
  {
   "cell_type": "code",
   "execution_count": null,
   "metadata": {
    "collapsed": true
   },
   "outputs": [],
   "source": []
  },
  {
   "cell_type": "code",
   "execution_count": null,
   "metadata": {
    "collapsed": true
   },
   "outputs": [],
   "source": [
    "def kNN(metric, data, classes, kernel, cv_params = (1, 10)):\n",
    "    \n",
    "    def compute_score(k, train_suit, test_suit):\n",
    "        true_positive = [0, 0]\n",
    "        false_positive = [0, 0]\n",
    "        all_points = [0, 0]\n",
    "\n",
    "        for point in test_suit:\n",
    "            predicted = predict_class(k, metric, train_suit, classes, point, kernel)\n",
    "            real_class = int(classes[point])\n",
    "            \n",
    "            if predicted == real_class:\n",
    "                true_positive[predicted] += 1\n",
    "            else:\n",
    "                false_positive[predicted] += 1\n",
    "            all_points[real_class] += 1\n",
    "                \n",
    "        if true_positive[1] > 0:\n",
    "            recall = true_positive[1] / all_points[1]\n",
    "            precision = true_positive[1] / (true_positive[1] + false_positive[1])\n",
    "            # F1 measure\n",
    "            return 2 * (precision * recall) / (precision + recall)\n",
    "        return 0\n",
    "\n",
    "\n",
    "    tfold, kfold = cv_params\n",
    "    max_neighbors = 0\n",
    "    max_score = 0\n",
    "    for neighbors in range(2, int(np.sqrt(len(data)))):\n",
    "        average_score = 0\n",
    "        for i in range(tfold):\n",
    "            kfold_index = k_fold_cv(kfold, len(data))\n",
    "            score = 0\n",
    "            for train_suit, test_suit in kfold_index:\n",
    "                training_suit = [data[i] for i in train_suit]\n",
    "                testing_suit = [data[i] for i in test_suit]\n",
    "                score += compute_score(neighbors, training_suit, testing_suit)\n",
    "            average_score += score\n",
    "        \n",
    "        average_score /= (tfold * kfold)\n",
    "        \n",
    "        if average_score > max_score:\n",
    "            max_neighbors = neighbors\n",
    "            max_score = average_score\n",
    "    \n",
    "    return (max_neighbors, max_score)"
   ]
  },
  {
   "cell_type": "code",
   "execution_count": null,
   "metadata": {
    "collapsed": true,
    "scrolled": false
   },
   "outputs": [],
   "source": [
    "results = pd.DataFrame(columns=['k', 'metric', 'accuracy'])\n",
    "\n",
    "\n",
    "best_accuracy = 0\n",
    "best_kernel   = None\n",
    "best_metric   = None\n",
    "best_data     = None\n",
    "best_neighbor = None\n",
    "best_kfold = None\n",
    "\n",
    "pd.set_option('display.height', 250)\n",
    "pd.set_option('display.max_rows', 250)\n",
    "\n",
    "for kfold in range(5, 11):\n",
    "    for kernel in kernels:\n",
    "        for metric in metrics:\n",
    "            for input_data, classes, transform_name, transform in data:\n",
    "                k, accuracy = (kNN(metric, input_data, classes, kernel[0], (1, kfold)))\n",
    "                raw = pd.DataFrame([[kfold, k, metric_names[metric], transform_name, accuracy, kernel[1]]], columns=['folds', 'k', 'metric', 'transformation name', 'accuracy', 'kernel'])\n",
    "                results = results.append(raw, ignore_index=True)\n",
    "            \n",
    "                if accuracy > best_accuracy:\n",
    "                    best_accuracy = accuracy\n",
    "                    best_kernel = kernel[0]\n",
    "                    best_metric = metric\n",
    "                    best_data = (input_data, classes, transform)\n",
    "                    best_neighbor = k\n",
    "                    best_kfold = kfold\n",
    "                \n",
    "                    best_string = str(accuracy) + ', ' + str(k) + ', ' + kernel[1] + ', ' + metric_names[metric] + \", \" + transform_name + \" folds: \" + str(best_kfold)\n",
    "\n",
    "display(results)"
   ]
  }
 ],
 "metadata": {
  "kernelspec": {
   "display_name": "Python 3",
   "language": "python",
   "name": "python3"
  },
  "language_info": {
   "codemirror_mode": {
    "name": "ipython",
    "version": 3
   },
   "file_extension": ".py",
   "mimetype": "text/x-python",
   "name": "python",
   "nbconvert_exporter": "python",
   "pygments_lexer": "ipython3",
   "version": "3.5.0"
  }
 },
 "nbformat": 4,
 "nbformat_minor": 1
}
