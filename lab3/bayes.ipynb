{
 "cells": [
  {
   "cell_type": "code",
   "execution_count": null,
   "metadata": {
    "collapsed": false
   },
   "outputs": [],
   "source": [
    "%autosave 15\n",
    "%matplotlib inline\n",
    "\n",
    "import numpy as np\n",
    "import scipy as sp\n",
    "import pandas as pd\n",
    "import math as math\n",
    "import random\n",
    "import os\n",
    "\n",
    "from mpl_toolkits.mplot3d import Axes3D\n",
    "import matplotlib.pyplot as plt\n",
    "from IPython.display import display, HTML"
   ]
  },
  {
   "cell_type": "code",
   "execution_count": null,
   "metadata": {
    "collapsed": true
   },
   "outputs": [],
   "source": [
    "SPAM = \"spmsg\"\n",
    "LEGIT = \"legit\"\n",
    "\n",
    "class Email:\n",
    "    def __init__(self, filename, lines):\n",
    "        self.filename = filename\n",
    "        self.isSpam = SPAM in filename\n",
    "        \n",
    "        self.title = list(map(int, (lines[0].strip().split())[1:]))\n",
    "        self.body = []\n",
    "        for line in lines[2:]:\n",
    "            self.body += list(map(int, line.strip().split()))\n",
    "    \n",
    "    def __repr__(self):\n",
    "        return str(self)\n",
    "    \n",
    "    def __str__(self):\n",
    "        kind = \"LEGIT\"\n",
    "        if (self.isSpam):\n",
    "            kind = \"SPAM\"\n",
    "        return kind + \" EMAIL \" + self.filename + \": \" + str(self.title) + \", \" + str(self.body) + \"\\n\""
   ]
  },
  {
   "cell_type": "code",
   "execution_count": null,
   "metadata": {
    "collapsed": true
   },
   "outputs": [],
   "source": [
    "class DictValue:\n",
    "    def __init__(self):\n",
    "        self.sTitle = 0\n",
    "        self.lTitle = 0\n",
    "        self.sBody = 0\n",
    "        self.lBody = 0\n",
    "        \n",
    "    def foundInTitle(self, isSpam):\n",
    "        if (isSpam):\n",
    "            self.sTitle += 1\n",
    "        else:\n",
    "            self.lTitle += 1\n",
    "            \n",
    "    def foundInBody(self, isSpam):\n",
    "        if (isSpam):\n",
    "            self.sBody += 1\n",
    "        else:\n",
    "            self.lBody += 1\n",
    "    \n",
    "    def __repr__(self):\n",
    "        return str(self)\n",
    "    \n",
    "    def __str__(self):\n",
    "        t = (self.sTitle, self.lTitle)\n",
    "        b = (self.sBody, self.lBody)\n",
    "        return \"TITLE: \" + str(t) + \", BODY: \" + str(b)"
   ]
  },
  {
   "cell_type": "code",
   "execution_count": null,
   "metadata": {
    "collapsed": true
   },
   "outputs": [],
   "source": [
    "PARTS_DIR = \"./Bayes/pu1/\"\n",
    "PARTS_NUM = 10\n",
    "\n",
    "def getData():\n",
    "    parts = []  \n",
    "    for i in range(PARTS_NUM):\n",
    "        curPart = PARTS_DIR + \"part\" + str(i + 1)\n",
    "        emails = []\n",
    "        for filename in os.listdir(curPart):\n",
    "            file = open(curPart + \"/\" + filename, 'r')\n",
    "            emails.append(Email(filename, file.readlines()))\n",
    "            file.close()\n",
    "        parts.append(emails)\n",
    "    return parts\n",
    "\n",
    "parts = getData()"
   ]
  },
  {
   "cell_type": "code",
   "execution_count": null,
   "metadata": {
    "collapsed": true
   },
   "outputs": [],
   "source": [
    "# takes: array of emails\n",
    "# returns: Dict where keys are words and values are DictValues (contain key-word statistic for all given emails)\n",
    "def learnBayes(emails):\n",
    "    dictName = {}\n",
    "    counters = [0, 0]\n",
    "    unique = set()\n",
    "    for email in emails:\n",
    "        for word in email.title:\n",
    "            unique.add(word)\n",
    "            dictName.setdefault(word, DictValue()).foundInTitle(email.isSpam)\n",
    "            if email.isSpam:\n",
    "                counters[0] += 1\n",
    "            else:\n",
    "                counters[1] += 1\n",
    "        for word in email.body:\n",
    "            unique.add(word)\n",
    "            dictName.setdefault(word, DictValue()).foundInBody(email.isSpam)\n",
    "            if email.isSpam:\n",
    "                counters[0] += 1\n",
    "            else:\n",
    "                counters[1] += 1\n",
    "\n",
    "    return dictName, counters, len(unique)\n",
    "            \n",
    "#print(learnBayes(parts[0]))"
   ]
  },
  {
   "cell_type": "code",
   "execution_count": null,
   "metadata": {
    "collapsed": true
   },
   "outputs": [],
   "source": [
    "# titleWeight = (0..1)\n",
    "def testBayes(spamDict, counters, emails, ns, n, q, z):\n",
    "    TP = 0\n",
    "    FP = 0\n",
    "    TN = 0\n",
    "    FN = 0\n",
    "    min_diff = 10000000000\n",
    "    max_diff = -10000000000\n",
    "    for email in emails:\n",
    "        p_spam = math.log(ns / n)\n",
    "        p_legit = math.log((n - ns) / n)\n",
    "        \n",
    "        for word in email.title:\n",
    "            wf = spamDict.get(word, DictValue())\n",
    "            p_spam += math.log((wf.sTitle + wf.sBody + z) / (counters[0] + z * q))\n",
    "            p_legit += math.log((wf.lTitle + wf.lBody + z) / (counters[1] + z * q))\n",
    "\n",
    "        for word in email.body:\n",
    "            wf = spamDict.get(word, DictValue())\n",
    "            p_spam += math.log((wf.sTitle + wf.sBody + z) / (counters[0] + q * z))\n",
    "            p_legit += math.log((wf.lTitle + wf.lBody + z) / (counters[1] + q * z))\n",
    "\n",
    "        isCurrentSpam = p_spam > p_legit\n",
    "        if (email.isSpam != isCurrentSpam):\n",
    "            if isCurrentSpam:\n",
    "                FP += 1\n",
    "            else:\n",
    "                FN += 1\n",
    "        else:\n",
    "            if isCurrentSpam:\n",
    "                TP += 1\n",
    "            else:\n",
    "                TN += 1\n",
    "        \n",
    "        if (p_spam - p_legit > max_diff):\n",
    "            max_diff = p_spam - p_legit\n",
    "        if (p_spam - p_legit < min_diff):\n",
    "            min_diff = p_spam - p_legit\n",
    "    if TP == 0:\n",
    "        return 0\n",
    "    precision = TP / (TP + FP)\n",
    "    recall = TP / (TP + FN)\n",
    "\n",
    "    return 2 * (precision * recall) / (precision + recall), min_diff, max_diff"
   ]
  },
  {
   "cell_type": "code",
   "execution_count": null,
   "metadata": {
    "collapsed": true,
    "scrolled": false
   },
   "outputs": [],
   "source": [
    "def cv():\n",
    "    best_result = None\n",
    "    best_score  = -1\n",
    "\n",
    "    min_best = 10000000000\n",
    "    max_best = -10000000000\n",
    "    for i in range(PARTS_NUM):\n",
    "        learningSet = []\n",
    "        for j in range(PARTS_NUM):\n",
    "            if (j != i):\n",
    "                learningSet += parts[j]\n",
    "                \n",
    "        ns = 0\n",
    "        n = len(learningSet)\n",
    "        for email in learningSet:\n",
    "            if (email.isSpam):\n",
    "                ns += 1\n",
    "                \n",
    "        testingSet  = parts[i]\n",
    "        \n",
    "        \n",
    "        spamDict, counters, unique = learnBayes(learningSet)\n",
    "        score, min_diff, max_diff = testBayes(spamDict, counters, testingSet, ns, n, unique, 0.9706422018348624)\n",
    "\n",
    "        if min_diff < min_best:\n",
    "            min_best = min_diff\n",
    "        if max_diff > max_best:\n",
    "            max_best = max_diff\n",
    "\n",
    "        if score > best_score:\n",
    "            best_score = score\n",
    "            best_result = spamDict, counters, testingSet, ns, n, unique\n",
    "        print(score)\n",
    "    \n",
    "    return best_result, min_best, max_best"
   ]
  },
  {
   "cell_type": "code",
   "execution_count": null,
   "metadata": {
    "collapsed": false
   },
   "outputs": [],
   "source": [
    "result, min_v, max_v = cv()\n",
    "spamDict, counters, testingSet, ns, n, unique = result\n",
    "print(min_v, max_v)"
   ]
  },
  {
   "cell_type": "code",
   "execution_count": null,
   "metadata": {
    "collapsed": true
   },
   "outputs": [],
   "source": [
    "def getROC(spamDict, counters, emails, ns, n, q, z, w):\n",
    "    TP = 0\n",
    "    FP = 0\n",
    "    TN = 0\n",
    "    FN = 0\n",
    "    \n",
    "    P = 0\n",
    "    N = 0\n",
    "    for email in emails:\n",
    "        if email.isSpam:\n",
    "            P += 1\n",
    "        else:\n",
    "            N += 1\n",
    "            \n",
    "        p_spam = math.log(ns / n)\n",
    "        p_legit = math.log((n - ns) / n)\n",
    "        \n",
    "        for word in email.title:\n",
    "            wf = spamDict.get(word, DictValue())\n",
    "            p_spam += math.log((wf.sTitle + wf.sBody + z) / (counters[0] + z * q))\n",
    "            p_legit += math.log((wf.lTitle + wf.lBody + z) / (counters[1] + z * q))\n",
    "\n",
    "        for word in email.body:\n",
    "            wf = spamDict.get(word, DictValue())\n",
    "            p_spam += math.log((wf.sTitle + wf.sBody + z) / (counters[0] + q * z))\n",
    "            p_legit += math.log((wf.lTitle + wf.lBody + z) / (counters[1] + q * z))\n",
    "\n",
    "        isCurrentSpam = p_spam > p_legit\n",
    "        if p_spam - p_legit < w:\n",
    "            if (email.isSpam != isCurrentSpam):\n",
    "                if isCurrentSpam:\n",
    "                    FP += 1\n",
    "                else:\n",
    "                    FN += 1\n",
    "            else:\n",
    "                if isCurrentSpam:\n",
    "                    TP += 1\n",
    "                else:\n",
    "                    TN += 1\n",
    "    return TP / P, FP / N"
   ]
  },
  {
   "cell_type": "code",
   "execution_count": null,
   "metadata": {
    "collapsed": false
   },
   "outputs": [],
   "source": [
    "npoints = []\n",
    "FPR_MAX = -10000000000000000\n",
    "TPR_MAX = -10000000000000000\n",
    "for w in np.arange(min_v, max_v, 50):\n",
    "    FPR, TPR = getROC(spamDict, counters, testingSet, ns, n, unique, 0.9406422018348624, w)\n",
    "    npoints += [(TPR, FPR)]\n",
    "    if FPR > FPR_MAX:\n",
    "        FPR_MAX = FPR\n",
    "    if TPR > TPR_MAX:\n",
    "        TPR_MAX = TPR\n",
    "points = []\n",
    "\n",
    "for TPR, FPR in npoints:\n",
    "    points += [np.array([TPR/TPR_MAX, FPR/FPR_MAX])]\n",
    "\n",
    "points = np.array(points)\n"
   ]
  },
  {
   "cell_type": "code",
   "execution_count": null,
   "metadata": {
    "collapsed": false,
    "scrolled": false
   },
   "outputs": [],
   "source": [
    "print(points)\n",
    "plt.plot(points[:,0], points[:,1])"
   ]
  }
 ],
 "metadata": {
  "kernelspec": {
   "display_name": "Python 3",
   "language": "python",
   "name": "python3"
  },
  "language_info": {
   "codemirror_mode": {
    "name": "ipython",
    "version": 3
   },
   "file_extension": ".py",
   "mimetype": "text/x-python",
   "name": "python",
   "nbconvert_exporter": "python",
   "pygments_lexer": "ipython3",
   "version": "3.5.0"
  }
 },
 "nbformat": 4,
 "nbformat_minor": 1
}
