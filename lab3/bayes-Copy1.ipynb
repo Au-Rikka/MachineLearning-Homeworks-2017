{
 "cells": [
  {
   "cell_type": "code",
   "execution_count": null,
   "metadata": {
    "collapsed": true
   },
   "outputs": [],
   "source": [
    "%autosave 15\n",
    "%matplotlib inline\n",
    "\n",
    "import numpy as np\n",
    "import scipy as sp\n",
    "import pandas as pd\n",
    "import math as math\n",
    "import random\n",
    "import os\n",
    "\n",
    "from mpl_toolkits.mplot3d import Axes3D\n",
    "import matplotlib.pyplot as plt\n",
    "from IPython.display import display, HTML"
   ]
  },
  {
   "cell_type": "code",
   "execution_count": null,
   "metadata": {
    "collapsed": true
   },
   "outputs": [],
   "source": [
    "SPAM = \"spmsg\"\n",
    "LEGIT = \"legit\"\n",
    "\n",
    "class Email:\n",
    "    def __init__(self, filename, lines):\n",
    "        self.filename = filename\n",
    "        self.isSpam = SPAM in filename\n",
    "        \n",
    "        self.title = list(map(int, (lines[0].strip().split())[1:]))\n",
    "        self.body = []\n",
    "        for line in lines[2:]:\n",
    "            self.body += list(map(int, line.strip().split()))\n",
    "    \n",
    "    def __repr__(self):\n",
    "        return str(self)\n",
    "    \n",
    "    def __str__(self):\n",
    "        kind = \"LEGIT\"\n",
    "        if (self.isSpam):\n",
    "            kind = \"SPAM\"\n",
    "        return kind + \" EMAIL \" + self.filename + \": \" + str(self.title) + \", \" + str(self.body) + \"\\n\""
   ]
  },
  {
   "cell_type": "code",
   "execution_count": null,
   "metadata": {
    "collapsed": true
   },
   "outputs": [],
   "source": [
    "class DictValue:\n",
    "    def __init__(self):\n",
    "        self.sTitle = 0\n",
    "        self.lTitle = 0\n",
    "        self.sBody = 0\n",
    "        self.lBody = 0\n",
    "        self.s = 0\n",
    "        self.l = 0\n",
    "        \n",
    "    def foundInTitle(self, isSpam):\n",
    "        if (isSpam):\n",
    "            self.sTitle += 1\n",
    "            self.s += 1\n",
    "        else:\n",
    "            self.lTitle += 1\n",
    "            self.l += 1\n",
    "            \n",
    "    def foundInBody(self, isSpam):\n",
    "        if (isSpam):\n",
    "            self.sBody += 1\n",
    "            self.s += 1\n",
    "        else:\n",
    "            self.lBody += 1\n",
    "            self.l += 1\n",
    "    \n",
    "    def __repr__(self):\n",
    "        return str(self)\n",
    "    \n",
    "    def __str__(self):\n",
    "        t = (self.sTitle, self.lTitle)\n",
    "        b = (self.sBody, self.lBody)\n",
    "        return \"S: \" + str(self.s) + \", L: \" + str(self.l)"
   ]
  },
  {
   "cell_type": "code",
   "execution_count": null,
   "metadata": {
    "collapsed": true
   },
   "outputs": [],
   "source": [
    "PARTS_DIR = \"./Bayes/pu1/\"\n",
    "PARTS_NUM = 10\n",
    "\n",
    "def getData():\n",
    "    parts = []  \n",
    "    for i in range(PARTS_NUM):\n",
    "        curPart = PARTS_DIR + \"part\" + str(i + 1)\n",
    "        emails = []\n",
    "        for filename in os.listdir(curPart):\n",
    "            file = open(curPart + \"/\" + filename, 'r')\n",
    "            emails.append(Email(filename, file.readlines()))\n",
    "            file.close()\n",
    "        parts.append(emails)\n",
    "    return parts\n",
    "\n",
    "parts = getData()"
   ]
  },
  {
   "cell_type": "code",
   "execution_count": null,
   "metadata": {
    "collapsed": true
   },
   "outputs": [],
   "source": [
    "# takes: array of emails\n",
    "# returns: Dict where keys are words and values are DictValues (contain key-word statistic for all given emails)\n",
    "def learnBayes(emails):\n",
    "    d = {}\n",
    "    s_t, s_b = 0, 0\n",
    "    l_t, l_b = 0, 0\n",
    "    for email in emails:\n",
    "        for word in email.title:\n",
    "            d.setdefault(word, DictValue()).foundInTitle(email.isSpam)\n",
    "            if (email.isSpam):\n",
    "                s_t += 1\n",
    "            else:\n",
    "                l_t += 1\n",
    "        for word in email.body:\n",
    "            d.setdefault(word, DictValue()).foundInBody(email.isSpam)\n",
    "            if (email.isSpam):\n",
    "                s_b += 1\n",
    "            else:\n",
    "                l_b += 1   \n",
    "                \n",
    "    print((s_t + s_b), (l_t + l_b) )   \n",
    "    for key in d.keys():\n",
    "        val = d.get(key)\n",
    "        print(val)\n",
    "        val.sTitle /= s_t\n",
    "        val.lTitle /= l_t\n",
    "        val.sBody /= s_b\n",
    "        val.lBody /= l_b\n",
    "        val.s /= (s_t + s_b)\n",
    "        val.l /= (l_t + l_b) \n",
    "        print(val)\n",
    "        print()\n",
    "    \n",
    "    \n",
    "    return (d, s_t + s_b, l_t + l_b)\n",
    "            \n",
    "learnBayes(parts[0])"
   ]
  },
  {
   "cell_type": "code",
   "execution_count": null,
   "metadata": {
    "collapsed": true
   },
   "outputs": [],
   "source": [
    "# titleWeight = (0..1)\n",
    "def testBayes(spamDict, emails, ns, n, spamWeight = 1, legitWeight = 1, titleWeight = 0.5):\n",
    "    TP = 0\n",
    "    FP = 0\n",
    "    TN = 0\n",
    "    FN = 0\n",
    "    for email in emails:\n",
    "        p_spam = math.log(ns / n) * spamWeight\n",
    "        p_legit = math.log((n - ns) / n) * legitWeight\n",
    "        \n",
    "        for word in email.title:\n",
    "            wf = spamDict.get(word, DictValue())\n",
    "            if (wf.s > 0):\n",
    "                p_spam += math.log(wf.s)\n",
    "            if (wf.l > 0):\n",
    "                p_legit += math.log(wf.l)\n",
    "        \n",
    "        #for word in email.title:\n",
    "        #    wf = spamDict.get(word, DictValue())\n",
    "        #    if (wf.sTitle + wf.lTitle > 0):\n",
    "        #        x = 1 / (wf.sTitle + wf.lTitle)\n",
    "        #        if (wf.sTitle > 0):\n",
    "        #            p_spam += math.log(wf.sTitle * x)\n",
    "        #        if (wf.lTitle > 0):\n",
    "        #            p_legit += math.log(wf.lTitle * x)\n",
    "\n",
    "        #for word in email.body:\n",
    "        #    wf = spamDict.get(word, DictValue())\n",
    "        #    if (wf.sBody + wf.lBody > 0):\n",
    "        #        x = 1 / (wf.sBody + wf.lBody)\n",
    "        #        if (wf.sBody > 0):\n",
    "        #            p_spam += math.log(wf.sBody * x)\n",
    "        #        if (wf.lBody > 0):\n",
    "        #            p_legit += math.log(wf.lBody * x)\n",
    "                    \n",
    "        #res.append((email, p_legit >= p_spam))\n",
    "        #res.append((email.isSpam, p_spam >= p_legit))\n",
    "        \n",
    "        print(p_spam, p_legit)\n",
    "        isCurrentSpam = p_spam >= p_legit\n",
    "        if (email.isSpam != isCurrentSpam):\n",
    "            if isCurrentSpam:\n",
    "                FP += 1\n",
    "            else:\n",
    "                FN += 1\n",
    "        else:\n",
    "            if isCurrentSpam:\n",
    "                TP += 1\n",
    "            else:\n",
    "                TN += 1\n",
    "    if TP == 0:\n",
    "        return 0\n",
    "    precision = TP / (TP + FP)\n",
    "    recall = TP / (TP + FN)\n",
    "\n",
    "    return 2 * (precision * recall) / (precision + recall)"
   ]
  },
  {
   "cell_type": "code",
   "execution_count": null,
   "metadata": {
    "collapsed": true,
    "scrolled": false
   },
   "outputs": [],
   "source": [
    "def cv(spamWeight = 1, legitWeight = 1, titleWeight = 0.5):\n",
    "    best_result = None\n",
    "    best_score  = -1\n",
    "\n",
    "    avScore = 0\n",
    "    for i in range(PARTS_NUM):\n",
    "        learningSet = []\n",
    "        for j in range(PARTS_NUM):\n",
    "            if (j != i):\n",
    "                learningSet += parts[j]\n",
    "                \n",
    "        testingSet  = parts[i]\n",
    "        \n",
    "        spamDict, s, l = learnBayes(learningSet)   \n",
    "        \n",
    "        score = testBayes(spamDict, testingSet, s, s + l, spamWeight, legitWeight, titleWeight)\n",
    "        if score > best_score:\n",
    "            best_score = score\n",
    "            best_result = spamDict\n",
    "        print(score)\n",
    "        avScore += score\n",
    "    \n",
    "    return avScore / PARTS_NUM"
   ]
  },
  {
   "cell_type": "code",
   "execution_count": null,
   "metadata": {
    "collapsed": true
   },
   "outputs": [],
   "source": [
    "cv()"
   ]
  },
  {
   "cell_type": "code",
   "execution_count": null,
   "metadata": {
    "collapsed": true
   },
   "outputs": [],
   "source": [
    "for sw in range(1, 50, 10):\n",
    "    for lw in range(1, 50, 10):\n",
    "        score = cv(sw, lw)\n",
    "        print(sw, lw, score)\n",
    "    "
   ]
  },
  {
   "cell_type": "code",
   "execution_count": null,
   "metadata": {
    "collapsed": true
   },
   "outputs": [],
   "source": []
  }
 ],
 "metadata": {
  "kernelspec": {
   "display_name": "Python 3",
   "language": "python",
   "name": "python3"
  },
  "language_info": {
   "codemirror_mode": {
    "name": "ipython",
    "version": 3
   },
   "file_extension": ".py",
   "mimetype": "text/x-python",
   "name": "python",
   "nbconvert_exporter": "python",
   "pygments_lexer": "ipython3",
   "version": "3.6.1"
  }
 },
 "nbformat": 4,
 "nbformat_minor": 1
}
