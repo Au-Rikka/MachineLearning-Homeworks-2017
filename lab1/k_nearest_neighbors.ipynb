{
 "cells": [
  {
   "cell_type": "code",
   "execution_count": 11,
   "metadata": {
    "collapsed": true
   },
   "outputs": [],
   "source": [
    "import numpy as np"
   ]
  },
  {
   "cell_type": "code",
   "execution_count": 9,
   "metadata": {
    "collapsed": true
   },
   "outputs": [],
   "source": [
    "def get_data():\n",
    "    fin = open('chips.txt', 'r')\n",
    "    classes = dict()\n",
    "    data = list()\n",
    "    \n",
    "    for x, y, z in [map(float, x.split(',')) for x in fin.readlines()]:\n",
    "        data.append((x, y))\n",
    "        classes[(x, y)] = z\n",
    "    \n",
    "    fin.close()\n",
    "    return (data, classes)"
   ]
  },
  {
   "cell_type": "code",
   "execution_count": null,
   "metadata": {
    "collapsed": true
   },
   "outputs": [],
   "source": [
    "def k_fold_cv(k, length):\n",
    "    one_fold_length = (length + k - 1) // k\n",
    "    indexies = [i for i in range(length)]\n",
    "    result = list()\n",
    "    for i in range(k):\n",
    "        temp = list()\n",
    "        for j in range(one_fold_length):\n",
    "            index = indexies[int(np.random.uniform(0, len(indexies)))]\n",
    "            temp.append(index)\n",
    "            indexies.remove(index)\n",
    "        result.append(temp)\n",
    "    return result\n",
    "\n",
    "def predict_class(k, metric, learn_suit, classes, point):\n",
    "    distances = [(metric(data[i], point), (x, y)) for (x, y) in test]\n",
    "    distances.sort()\n",
    "\n",
    "    count_zero = 0\n",
    "    count_one = 0\n",
    "    for j in range(k):\n",
    "        dist, p = distances[j]\n",
    "        if colors[p] == 0:\n",
    "            count_zero += 1\n",
    "        else:\n",
    "            count_zero -= 1\n",
    "    if count_zero > count_one:\n",
    "        return 0\n",
    "    else:\n",
    "        return 1\n",
    "\n",
    "\n",
    "def learn_parameter_k(metric, test, classes):\n",
    "    def leave_one_out(k):\n",
    "        result = 0\n",
    "        for i in range(len(test)):\n",
    "            value = test[i]\n",
    "            del test[i]\n",
    "            color = predict_class(k, metric, test, colors, value)\n",
    "            test.insert(i, value)\n",
    "            \n",
    "            if (color != classes[test[i]])\n",
    "                result += 1\n",
    "        return result\n",
    "                \n",
    "    \n",
    "    current_k = -1\n",
    "    current_score = len(test) + 1\n",
    "    for k in range(1, len(test) + 1, 2):\n",
    "        temp = leave_one_out(k)\n",
    "        if temp < current_score:\n",
    "            current_score = temp\n",
    "            current_k = k\n",
    "    return current_k\n",
    "\n",
    "def kNN(metric, data, classes):\n",
    "    def compute_score(k, point, learn_suit):\n",
    "        \n",
    "    kfold_index = k_fold_cv(10, len(data))\n",
    "    for it in range(10):\n",
    "        learn_suit = [data[i] for i in kfold_index[it]]\n",
    "        training_suit = list()\n",
    "        for point in data:\n",
    "            if point not in learn_suit:\n",
    "                training_suit.append(point)\n",
    "        k = learn_parameter_k(metric, learn_suit, classes)\n"
   ]
  },
  {
   "cell_type": "code",
   "execution_count": null,
   "metadata": {
    "collapsed": true
   },
   "outputs": [],
   "source": [
    "\n",
    "    \n",
    "    "
   ]
  }
 ],
 "metadata": {
  "kernelspec": {
   "display_name": "Python 3",
   "language": "python",
   "name": "python3"
  },
  "language_info": {
   "codemirror_mode": {
    "name": "ipython",
    "version": 3
   },
   "file_extension": ".py",
   "mimetype": "text/x-python",
   "name": "python",
   "nbconvert_exporter": "python",
   "pygments_lexer": "ipython3",
   "version": "3.5.0"
  }
 },
 "nbformat": 4,
 "nbformat_minor": 1
}
