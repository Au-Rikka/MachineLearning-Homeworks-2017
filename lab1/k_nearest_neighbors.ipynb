{
 "cells": [
  {
   "cell_type": "code",
   "execution_count": null,
   "metadata": {
    "collapsed": false
   },
   "outputs": [],
   "source": [
    "%autosave 15\n",
    "%matplotlib inline\n",
    "\n",
    "import numpy as np\n",
    "import scipy as sp\n",
    "import pandas as pd\n",
    "import math\n",
    "import random\n",
    "\n",
    "from mpl_toolkits.mplot3d import Axes3D\n",
    "import matplotlib.pyplot as plt\n",
    "from IPython.display import display, HTML"
   ]
  },
  {
   "cell_type": "code",
   "execution_count": null,
   "metadata": {
    "collapsed": true
   },
   "outputs": [],
   "source": [
    "def printAllPoints(data, classes):\n",
    "    green = [[], []]\n",
    "    blue = [[], []]\n",
    "    for (x, y) in data:\n",
    "        if (classes[(x, y)] == 0):\n",
    "            green[0].append(x)\n",
    "            green[1].append(y)\n",
    "        else:\n",
    "            blue[0].append(x)\n",
    "            blue[1].append(y)\n",
    "    plt.plot(green[0], green[1], 'g.', blue[0], blue[1], 'b.')"
   ]
  },
  {
   "cell_type": "code",
   "execution_count": null,
   "metadata": {
    "collapsed": true
   },
   "outputs": [],
   "source": [
    "def get_data(transform, name):\n",
    "    fin = open('chips.txt', 'r')\n",
    "    lines = fin.readlines()\n",
    "    fin.close()\n",
    "    \n",
    "    classes = dict()\n",
    "    data = list()\n",
    "    \n",
    "    for x, y, z in [map(float, x.split(',')) for x in lines]:\n",
    "        a, b = transform(x, y)\n",
    "        data.append((a, b))\n",
    "        classes[(a, b)] = z\n",
    "    \n",
    "    return (data, classes, name)"
   ]
  },
  {
   "cell_type": "code",
   "execution_count": null,
   "metadata": {
    "collapsed": true
   },
   "outputs": [],
   "source": [
    "def toPolar(x, y, x0, y0):\n",
    "    x, y = x - x0, y - y0\n",
    "    r = (x ** 2 + y ** 2) ** (1 / 2)\n",
    "    a = math.atan2(x, y)\n",
    "    return (r, a)\n",
    "\n",
    "def getCenter():\n",
    "    fin = open('chips.txt', 'r')\n",
    "    lines = fin.readlines()\n",
    "    fin.close()\n",
    "\n",
    "    x0, y0 = 0, 0\n",
    "    for x, y, z in [map(float, x.split(',')) for x in lines]:\n",
    "        x0 += x\n",
    "        y0 += y\n",
    "    x0 = x0 / len(lines)\n",
    "    y0 = y0 / len(lines)\n",
    "    \n",
    "    return (x0, y0)"
   ]
  },
  {
   "cell_type": "code",
   "execution_count": null,
   "metadata": {
    "collapsed": true
   },
   "outputs": [],
   "source": [
    "simpleData = get_data(lambda x, y:(x, y), '-')\n",
    "sumData = get_data(lambda x, y:(x, x + y), 'x, y -> x, x + y')\n",
    "polarData = get_data(lambda x, y: toPolar(x, y, 0, 0), 'polar(0, 0)')\n",
    "\n",
    "center = getCenter()\n",
    "polarData2 = get_data(lambda x, y: toPolar(x, y, center[0], center[1]), 'polar(center_x, center_y)')\n",
    "\n",
    "\n",
    "data = [simpleData, sumData, polarData, polarData2]"
   ]
  },
  {
   "cell_type": "code",
   "execution_count": null,
   "metadata": {
    "collapsed": false
   },
   "outputs": [],
   "source": [
    "printAllPoints(simpleData[0], simpleData[1])"
   ]
  },
  {
   "cell_type": "code",
   "execution_count": null,
   "metadata": {
    "collapsed": false
   },
   "outputs": [],
   "source": [
    "printAllPoints(sumData[0], sumData[1])"
   ]
  },
  {
   "cell_type": "code",
   "execution_count": null,
   "metadata": {
    "collapsed": false
   },
   "outputs": [],
   "source": [
    "printAllPoints(polarData[0], polarData[1])"
   ]
  },
  {
   "cell_type": "code",
   "execution_count": null,
   "metadata": {
    "collapsed": false
   },
   "outputs": [],
   "source": [
    "printAllPoints(polarData2[0], polarData2[1])"
   ]
  },
  {
   "cell_type": "code",
   "execution_count": null,
   "metadata": {
    "collapsed": false
   },
   "outputs": [],
   "source": [
    "def minkowskiDistance(x, y, p):\n",
    "    res = 0\n",
    "    for i in range(len(x)):\n",
    "        res += abs(x[i] - y[i]) ** p\n",
    "    return res ** (1 / p)\n",
    "\n",
    "# https://en.wikipedia.org/wiki/Cosine_similarity\n",
    "def cosineSimilarity(x, y):\n",
    "    res, a, b = 0, 0, 0\n",
    "    for i in range(len(x)):\n",
    "        res += x[i] * y[i]\n",
    "        a += x[i] ** 2\n",
    "        b += y[i] ** 2\n",
    "    a = a ** (1 / 2)\n",
    "    b = b ** (1 / 2)\n",
    "    return res / a / b\n",
    "    \n",
    "\n",
    "metrics = [lambda x, y: minkowskiDistance(x, y, 1), \n",
    "           lambda x, y: minkowskiDistance(x, y, 2),\n",
    "           lambda x, y: cosineSimilarity(x, y)]    \n",
    "\n",
    "metric_names = dict()\n",
    "metric_names[metrics[0]] = 'minkowski with p = 1'\n",
    "metric_names[metrics[1]] = 'minkowski with p = 2'\n",
    "metric_names[metrics[2]] = 'cosine'\n",
    "\n",
    "#for metric in metrics:\n",
    "#    print(metric((1, 1), (2, 2)))"
   ]
  },
  {
   "cell_type": "code",
   "execution_count": null,
   "metadata": {
    "collapsed": true
   },
   "outputs": [],
   "source": [
    "def k_fold_cv(k, length):\n",
    "    one_fold_length = length // k\n",
    "    others = length % k\n",
    "    indexies = [i for i in range(length)]\n",
    "    result = list()\n",
    "    for i in range(k):\n",
    "        learn_suit = list()\n",
    "        train_suit = list()\n",
    "\n",
    "        for j in range(one_fold_length):\n",
    "            index = indexies[int(np.random.uniform(0, len(indexies))) % len(indexies)]\n",
    "            learn_suit.append(index)\n",
    "            indexies.remove(index)\n",
    "        if others > 0:\n",
    "            others -= 1\n",
    "            index = indexies[int(np.random.uniform(0, len(indexies))) % len(indexies)]\n",
    "            learn_suit.append(index)\n",
    "            indexies.remove(index)\n",
    "        \n",
    "        for j in range(length):\n",
    "            if j not in learn_suit:\n",
    "                train_suit.append(j)\n",
    "        \n",
    "        result.append((learn_suit, train_suit))\n",
    "    return result\n",
    "\n",
    "\n",
    "def predict_class(k, metric, learn_suit, classes, point):\n",
    "    distances = [(metric(l_point, point), l_point) for l_point in learn_suit]\n",
    "    distances.sort()\n",
    "\n",
    "    count_zero = 0\n",
    "    count_one = 0\n",
    "    for j in range(k):\n",
    "        dist, p = distances[j]\n",
    "        if classes[p] == 0:\n",
    "            count_zero += 1\n",
    "        else:\n",
    "            count_zero -= 1\n",
    "    if count_zero > count_one:\n",
    "        return 0\n",
    "    else:\n",
    "        return 1\n",
    "\n",
    "\n",
    "# def leave_one_out(k):\n",
    "#     result = 0\n",
    "#     for i in range(len(test)):\n",
    "#         value = test[i]\n",
    "#         del test[i]\n",
    "#         color = predict_class(k, metric, test, colors, value)\n",
    "#         test.insert(i, value)\n",
    "            \n",
    "#         if (color != classes[test[i]])\n",
    "#             result += 1\n",
    "#     return result\n",
    "\n",
    "def kNN(metric, data, classes, draw = False, cv_params = (10, 10)):\n",
    "    def compute_score(k, learn_suit, train_suit):\n",
    "        true_ones = 0\n",
    "        ones = 0\n",
    "        true_zeros = 0\n",
    "        zeros = 0\n",
    "\n",
    "        for point in train_suit:\n",
    "            predicted = predict_class(k, metric, learn_suit, classes, point)\n",
    "            real_class = classes[point]\n",
    "            \n",
    "            if predicted == real_class:\n",
    "                color = \"\"\n",
    "                if predicted == 0:\n",
    "                    true_zeros += 1\n",
    "                    color = \"g.\"\n",
    "                else:\n",
    "                    true_ones += 1\n",
    "                    color = \"b.\"\n",
    "                if draw:                    \n",
    "                    plt.plot(point[0], point[1], color)\n",
    "            else:\n",
    "                if draw:\n",
    "                    plt.plot(point[0], point[1], 'ro')\n",
    "            \n",
    "            if real_class == 0:\n",
    "                zeros += 1\n",
    "            else:\n",
    "                ones += 1\n",
    "        \n",
    "        if draw:\n",
    "            plt.title('k = ' + str(k))\n",
    "            plt.show()\n",
    "#         if ones == 0 or zeros == 0:\n",
    "        # accuracy\n",
    "        return (true_zeros + true_ones) / (zeros + ones)\n",
    "        \n",
    "#         recall = true_ones / ones\n",
    "#         specifity = true_zeros / zeros\n",
    "#         precision = true_ones / (true_ones + true_zeros)\n",
    "        # f1 measure\n",
    "#         return 2 * (precision * recall) / (precision + recall)\n",
    "\n",
    "    def learn_parameter_k(metric, learn_suit, train_suit):\n",
    "        current_k = -1\n",
    "        current_score = -1\n",
    "        \n",
    "        for k in range(1, len(learn_suit), 2):\n",
    "            temp = compute_score(k, learn_suit, train_suit)\n",
    "            if temp > current_score:\n",
    "                current_score = temp\n",
    "                current_k = k\n",
    "        return current_k, current_score\n",
    "\n",
    "    tfold, kfold = cv_params\n",
    "    accumulator_k = 0\n",
    "    accumulator_score = 0\n",
    "    for i in range(tfold):\n",
    "        kfold_index = k_fold_cv(kfold, len(data))\n",
    "        for learn_suit, train_suit in kfold_index:\n",
    "            learning_suit = [data[i] for i in learn_suit]\n",
    "            training_suit = [data[i] for i in train_suit]\n",
    "            k, score = learn_parameter_k(metric, learning_suit, training_suit)\n",
    "            accumulator_k += k\n",
    "            accumulator_score += score\n",
    "    average_k = accumulator_k / (tfold * kfold)\n",
    "    average_score = accumulator_score / (tfold * kfold)\n",
    "    return (average_k, average_score)\n"
   ]
  },
  {
   "cell_type": "code",
   "execution_count": null,
   "metadata": {
    "collapsed": false
   },
   "outputs": [],
   "source": [
    "results = pd.DataFrame(columns=['k', 'metric', 'accuracy'])\n",
    "\n",
    "for metric in metrics:\n",
    "    for input_data, classes, transform_name in data:\n",
    "        k, accuracy = (kNN(metric, input_data, classes))\n",
    "        raw = pd.DataFrame([[k, metric_names[metric], transform_name, accuracy]], columns=['k', 'metric', 'transformation name', 'accuracy'])\n",
    "        results = results.append(raw, ignore_index=True)\n",
    "\n",
    "display(results)"
   ]
  },
  {
   "cell_type": "code",
   "execution_count": null,
   "metadata": {
    "collapsed": false,
    "scrolled": false
   },
   "outputs": [],
   "source": [
    "kNN(metrics[0], data[0][0], data[0][1], draw=True, cv_params=(1, 10))"
   ]
  },
  {
   "cell_type": "code",
   "execution_count": null,
   "metadata": {
    "collapsed": true
   },
   "outputs": [],
   "source": []
  }
 ],
 "metadata": {
  "kernelspec": {
   "display_name": "Python 3",
   "language": "python",
   "name": "python3"
  },
  "language_info": {
   "codemirror_mode": {
    "name": "ipython",
    "version": 3
   },
   "file_extension": ".py",
   "mimetype": "text/x-python",
   "name": "python",
   "nbconvert_exporter": "python",
   "pygments_lexer": "ipython3",
   "version": "3.5.0"
  }
 },
 "nbformat": 4,
 "nbformat_minor": 1
}
