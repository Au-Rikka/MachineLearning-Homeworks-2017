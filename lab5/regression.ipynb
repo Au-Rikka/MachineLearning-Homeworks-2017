{
 "cells": [
  {
   "cell_type": "code",
   "execution_count": null,
   "metadata": {},
   "outputs": [],
   "source": [
    "%autosave 15\n",
    "import pandas as pd\n",
    "import matplotlib.pyplot as plt\n",
    "from matplotlib.colors import ListedColormap\n",
    "%matplotlib inline\n",
    "\n",
    "import numpy as np\n",
    "import scipy as sp\n",
    "from scipy import stats as sps\n",
    "import scipy.optimize as spo\n",
    "\n",
    "import math\n",
    "from collections import namedtuple\n",
    "from functools import partial\n",
    "from IPython.display import display, HTML"
   ]
  },
  {
   "cell_type": "code",
   "execution_count": null,
   "metadata": {},
   "outputs": [],
   "source": [
    "data = pd.read_csv('non-parametric.csv', sep=';', names=['id', 'x', 'y'])\n",
    "\n",
    "#1st parameter is text\n",
    "ids = data['id'].values[1:].astype('int')\n",
    "X = data['x'].values[1:].astype('float32')\n",
    "Y = data['y'].values[1:].astype('float32')\n",
    "n = len(data) - 1\n",
    "print('dataset size:', n)"
   ]
  },
  {
   "cell_type": "code",
   "execution_count": null,
   "metadata": {},
   "outputs": [],
   "source": [
    "plt.plot(X, Y)"
   ]
  },
  {
   "cell_type": "code",
   "execution_count": null,
   "metadata": {
    "collapsed": true
   },
   "outputs": [],
   "source": [
    "class SplineRegression():\n",
    "    \n",
    "    def __init__(self, k = 20):\n",
    "        self.k = k\n",
    "        \n",
    "    def fit(self, x, y):\n",
    "        self.x = x\n",
    "        self.y = y\n",
    "    \n",
    "    \n",
    "    def createSegmentFunction(self, x, y):\n",
    "        def getCoefficients(a, b, c, d):\n",
    "            a3 = (-a + 3 * (b - c) + d) / 6.0\n",
    "            a2 = (a - 2 * b + c) / 2.0\n",
    "            a1 = (c - a) / 2.0\n",
    "            a0 = (a + 4 * b + c) / 6.0\n",
    "            return a3, a2, a1, a0\n",
    "        \n",
    "        x3, x2, x1, x0 = getCoefficients(x[0], x[1], x[2], x[3])\n",
    "        y3, y2, y1, y0 = getCoefficients(y[0], y[1], y[2], y[3])\n",
    "        \n",
    "        def f(t):\n",
    "            tx = ((x3 * t + x2) * t + x1) * t + x0\n",
    "            ty = ((y3 * t + y2) * t + y1) * t + y0\n",
    "            return (tx, ty)\n",
    "        \n",
    "        return f\n",
    "\n",
    "        \n",
    "    def getMorePoints(self):\n",
    "        resx, resy = [], [] \n",
    "        n = len(self.x)\n",
    "        for i in range(0, n - 2):\n",
    "            px = np.concatenate([self.x[max(0, i - 1) : max(i, 1)],\n",
    "                                 self.x[i : i + 2], \n",
    "                                 self.x[min(i + 2, n - 1) : min(i + 3, n)]\n",
    "                                ])\n",
    "            py = np.concatenate([self.y[max(0, i - 1) : max(i, 1)],\n",
    "                                 self.y[i : i + 2],\n",
    "                                 self.y[min(i + 2, n - 1) : min(i + 3, n)]\n",
    "                                ])\n",
    "            f = self.createSegmentFunction(px, py)\n",
    "            for i in range(self.k + 1):\n",
    "                x, y = f(i / self.k)\n",
    "                resx.append(x)\n",
    "                resy.append(y)\n",
    "        return resx, resy    \n",
    "    \n",
    "    \n",
    "    def predict(self, curx):\n",
    "        resx, resy = self.getMorePoints()\n",
    "        ansx, ansy = resx[0], resy[0]\n",
    "        for i in range(1, len(resx)):\n",
    "            if abs(resx[i] - curx) < abs(ansx[i] - curx):\n",
    "                ansx = resx[i]\n",
    "                ansy = resy[i]\n",
    "        return ansy\n",
    "        "
   ]
  },
  {
   "cell_type": "code",
   "execution_count": null,
   "metadata": {},
   "outputs": [],
   "source": [
    "spline = SplineRegression()\n",
    "spline.fit(X, Y)\n",
    "xx, yy = spline.getMorePoints()\n",
    "\n",
    "plt.plot(xx, yy)"
   ]
  },
  {
   "cell_type": "code",
   "execution_count": null,
   "metadata": {
    "collapsed": true
   },
   "outputs": [],
   "source": [
    "class SmoothingMethodRegression():\n",
    "    \n",
    "    def __init__(self, kernel, k):\n",
    "        self.kernel = kernel\n",
    "        self.k = k\n",
    "        \n",
    "    def fit(self, x, y, kernel):\n",
    "        self.x = x\n",
    "        self.y = y\n",
    "        self.gamma = np.array([1 for i in range(len(x))])\n",
    "        \n",
    "        work = True\n",
    "        while work:\n",
    "            work = False\n",
    "            new_gamma = list()\n",
    "            for i in range(len(x)):\n",
    "                sum1 = 0\n",
    "                sum2 = 0\n",
    "                dist = [(np.abs(x[j] - x[i]), j) for j in range(len(x))]\n",
    "                dist.sort()\n",
    "                h = dist[self.k][0]\n",
    "                for j in range(self.k):\n",
    "                    elem = dist[j]\n",
    "                    if elem[1] != i:\n",
    "                        value = self.kernel(elem[0] / h)\n",
    "                        sum1 += self.gamma[elem[1]] * self.y[elem[1]] * value\n",
    "                        sum2 += self.gamma[elem[1]] * value\n",
    "                a_i = sum1 / sum2\n",
    "                new_gamma.append(kernel(np.abs(a_i - y[i])))\n",
    "            new_gamma = np.array(new_gamma)\n",
    "            \n",
    "            for e in (new_gamma - self.gamma):\n",
    "                if e > 1e-5:\n",
    "                    work = True\n",
    "            self.gamma = new_gamma\n",
    "\n",
    "        \n",
    "        \n",
    "    def predict(self, x):\n",
    "        sum1 = 0\n",
    "        sum2 = 0\n",
    "        dist = [(np.abs(self.x[i] - x), i) for i in range(len(self.x))]\n",
    "        dist.sort()\n",
    "        h = dist[self.k][0]\n",
    "        for i in range(self.k):\n",
    "            elem = dist[i]\n",
    "            value = self.kernel(elem[0] / h)\n",
    "            sum1 += self.gamma[elem[1]] * self.y[elem[1]] * value\n",
    "            sum2 += self.gamma[elem[1]] * value\n",
    "        result = sum1 / sum2\n",
    "        return result"
   ]
  },
  {
   "cell_type": "code",
   "execution_count": null,
   "metadata": {
    "collapsed": true
   },
   "outputs": [],
   "source": [
    "def gaussKernel(x):\n",
    "    return np.exp(- (x ** 2) / 2)\n",
    "\n",
    "def quadKernel(x):\n",
    "    return ((1 - x ** 2) ** 2) * 15 / 16\n",
    "\n",
    "kernels = [(gaussKernel, \"gauss\"), (quadKernel, \"quad\")]"
   ]
  },
  {
   "cell_type": "code",
   "execution_count": null,
   "metadata": {
    "collapsed": true
   },
   "outputs": [],
   "source": [
    "def computeScore(model, x, y):\n",
    "    acc = 0\n",
    "    for i in range(len(x)):\n",
    "        acc += (model.predict(x[i]) - y[i]) ** 2\n",
    "    return acc / len(x)"
   ]
  },
  {
   "cell_type": "code",
   "execution_count": null,
   "metadata": {},
   "outputs": [],
   "source": [
    "results = pd.DataFrame(columns=['kernel', 'k', 'MSE', 'RMSE'])\n",
    "\n",
    "best_MSE = 3000000000 # mnoga\n",
    "best = None\n",
    "for kernel, name in kernels:\n",
    "    for k in range(7, 30):\n",
    "        model = SmoothingMethodRegression(kernel, k)\n",
    "        model.fit(X, Y, gaussKernel)\n",
    "        MSE = computeScore(model, X, Y)\n",
    "        if MSE < best_MSE:\n",
    "            best_MSE = MSE\n",
    "            best = (kernel, k)\n",
    "        raw = pd.DataFrame([[name, k, MSE, MSE ** (1/2)]], columns=['kernel', 'k', 'MSE', 'RMSE'])\n",
    "        results = results.append(raw, ignore_index=True)\n",
    "#         print(name, k, \"MSE\", MSE, \"RMSE\", MSE ** (1/2))\n",
    "display(results)"
   ]
  },
  {
   "cell_type": "code",
   "execution_count": null,
   "metadata": {},
   "outputs": [],
   "source": [
    "best_smooth = SmoothingMethodRegression(best[0], best[1])\n",
    "best_smooth.fit(X, Y, gaussKernel)\n",
    "Y_new = [best_smooth.predict(x) for x in X]\n",
    "plt.plot(X, Y_new)\n",
    "plt.plot(X, Y)"
   ]
  },
  {
   "cell_type": "code",
   "execution_count": null,
   "metadata": {
    "collapsed": true
   },
   "outputs": [],
   "source": []
  }
 ],
 "metadata": {
  "kernelspec": {
   "display_name": "Python 3",
   "language": "python",
   "name": "python3"
  },
  "language_info": {
   "codemirror_mode": {
    "name": "ipython",
    "version": 3
   },
   "file_extension": ".py",
   "mimetype": "text/x-python",
   "name": "python",
   "nbconvert_exporter": "python",
   "pygments_lexer": "ipython3",
   "version": "3.6.1"
  }
 },
 "nbformat": 4,
 "nbformat_minor": 1
}
