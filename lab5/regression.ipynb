{
 "cells": [
  {
   "cell_type": "code",
   "execution_count": 1,
   "metadata": {
    "collapsed": false
   },
   "outputs": [
    {
     "data": {
      "application/javascript": [
       "IPython.notebook.set_autosave_interval(15000)"
      ]
     },
     "metadata": {},
     "output_type": "display_data"
    },
    {
     "name": "stdout",
     "output_type": "stream",
     "text": [
      "Autosaving every 15 seconds\n"
     ]
    }
   ],
   "source": [
    "%autosave 15\n",
    "import pandas as pd\n",
    "import matplotlib.pyplot as plt\n",
    "from matplotlib.colors import ListedColormap\n",
    "%matplotlib inline\n",
    "\n",
    "import numpy as np\n",
    "import scipy as sp\n",
    "from scipy import stats as sps\n",
    "import scipy.optimize as spo\n",
    "\n",
    "import math\n",
    "from collections import namedtuple\n",
    "from functools import partial"
   ]
  },
  {
   "cell_type": "code",
   "execution_count": 2,
   "metadata": {
    "collapsed": false
   },
   "outputs": [
    {
     "name": "stdout",
     "output_type": "stream",
     "text": [
      "dataset size: 136\n"
     ]
    }
   ],
   "source": [
    "data = pd.read_csv('non-parametric.csv', sep=';', names=['id', 'x', 'y'])\n",
    "\n",
    "#1st parameter is text\n",
    "ids = data['id'].values[1:].astype('int')\n",
    "X = data['x'].values[1:].astype('float32')\n",
    "Y = data['y'].values[1:].astype('float32')\n",
    "n = len(data) - 1\n",
    "print('dataset size:', n)"
   ]
  },
  {
   "cell_type": "code",
   "execution_count": 3,
   "metadata": {
    "collapsed": false
   },
   "outputs": [
    {
     "data": {
      "text/plain": [
       "[<matplotlib.lines.Line2D at 0x109683a20>]"
      ]
     },
     "execution_count": 3,
     "metadata": {},
     "output_type": "execute_result"
    },
    {
     "data": {
      "image/png": "[encoded data removed]",
      "text/plain": [
       "<matplotlib.figure.Figure at 0x10471d7f0>"
      ]
     },
     "metadata": {},
     "output_type": "display_data"
    }
   ],
   "source": [
    "plt.plot(X, Y)"
   ]
  },
  {
   "cell_type": "code",
   "execution_count": 36,
   "metadata": {
    "collapsed": true
   },
   "outputs": [],
   "source": [
    "class SmoothingMethodRegression():\n",
    "    \n",
    "    def __init__(self, kernel, k):\n",
    "        self.kernel = kernel\n",
    "        self.k = k\n",
    "        \n",
    "    def fit(self, x, y):\n",
    "        self.x = x\n",
    "        self.y = y\n",
    "        \n",
    "    def predict(self, x):\n",
    "        sum1 = 0\n",
    "        sum2 = 0\n",
    "        dist = [(np.abs(self.x[i] - x), i) for i in range(len(self.x))]\n",
    "        dist.sort()\n",
    "        h = dist[self.k][0]\n",
    "        if h == 0:\n",
    "            print(dist)\n",
    "        for i in range(self.k):\n",
    "            elem = dist[i]\n",
    "            value = self.kernel(elem[0] / h)\n",
    "            sum1 += self.y[elem[1]] * value\n",
    "            sum2 += value\n",
    "        result = sum1 / sum2\n",
    "        return result"
   ]
  },
  {
   "cell_type": "code",
   "execution_count": 38,
   "metadata": {
    "collapsed": true
   },
   "outputs": [],
   "source": [
    "def gaussKernel(x):\n",
    "    return np.exp(- (x ** 2) / 2)\n",
    "\n",
    "def quadKernel(x):\n",
    "    return (1 - x ** 2) ** 2\n",
    "\n",
    "kernels = [(gaussKernel, \"gauss\"), (quadKernel, \"quad\")]"
   ]
  },
  {
   "cell_type": "code",
   "execution_count": 21,
   "metadata": {
    "collapsed": true
   },
   "outputs": [],
   "source": [
    "def computeScore(model, x, y):\n",
    "    acc = 0\n",
    "    for i in range(len(x)):\n",
    "        acc += (model.predict(x[i]) - y[i]) ** 2\n",
    "    return acc / len(x)"
   ]
  },
  {
   "cell_type": "code",
   "execution_count": 45,
   "metadata": {
    "collapsed": false
   },
   "outputs": [
    {
     "name": "stdout",
     "output_type": "stream",
     "text": [
      "gauss 7 score 701.838801077\n",
      "gauss 8 score 692.473722365\n",
      "gauss 9 score 720.119836196\n",
      "gauss 10 score 743.740484902\n",
      "gauss 11 score 753.933705938\n",
      "gauss 12 score 756.949677355\n",
      "gauss 13 score 774.772119576\n",
      "gauss 14 score 778.060419265\n",
      "gauss 15 score 775.484898793\n",
      "gauss 16 score 791.04234343\n",
      "gauss 17 score 802.680759729\n",
      "gauss 18 score 809.352592473\n",
      "gauss 19 score 816.536241762\n",
      "gauss 20 score 812.347029498\n",
      "gauss 21 score 809.06825278\n",
      "gauss 22 score 826.005905182\n",
      "gauss 23 score 827.873192745\n",
      "gauss 24 score 840.907259238\n",
      "gauss 25 score 853.874750757\n",
      "gauss 26 score 868.945957746\n",
      "gauss 27 score 882.714415809\n",
      "gauss 28 score 897.775488234\n",
      "gauss 29 score 922.304688814\n",
      "quad 7 score 627.579324727\n",
      "quad 8 score 635.049054212\n",
      "quad 9 score 652.569343536\n",
      "quad 10 score 661.597588186\n",
      "quad 11 score 677.164199308\n",
      "quad 12 score 687.299784256\n",
      "quad 13 score 695.738043834\n",
      "quad 14 score 700.873048867\n",
      "quad 15 score 708.9922173\n",
      "quad 16 score 721.263918659\n",
      "quad 17 score 724.22571789\n",
      "quad 18 score 726.840587888\n",
      "quad 19 score 735.20979362\n",
      "quad 20 score 745.767931801\n",
      "quad 21 score 748.598477214\n",
      "quad 22 score 757.699286586\n",
      "quad 23 score 763.235135085\n",
      "quad 24 score 768.595418237\n",
      "quad 25 score 774.328375597\n",
      "quad 26 score 780.123257204\n",
      "quad 27 score 786.62849445\n",
      "quad 28 score 793.648873094\n",
      "quad 29 score 804.052571386\n"
     ]
    }
   ],
   "source": [
    "best_MSE = 3000000000 # mnoga\n",
    "best = None\n",
    "for kernel, name in kernels:\n",
    "    for k in range(7, 30):\n",
    "        model = SmoothingMethodRegression(kernel, k)\n",
    "        model.fit(X, Y)\n",
    "        MSE = computeScore(model, X, Y)\n",
    "        if MSE < best_MSE:\n",
    "            best_MSE = MSE\n",
    "            best = (kernel, k)\n",
    "        print(name, k, \"score\", MSE)"
   ]
  },
  {
   "cell_type": "code",
   "execution_count": 46,
   "metadata": {
    "collapsed": false
   },
   "outputs": [
    {
     "data": {
      "text/plain": [
       "[<matplotlib.lines.Line2D at 0x109a17b70>]"
      ]
     },
     "execution_count": 46,
     "metadata": {},
     "output_type": "execute_result"
    },
    {
     "data": {
      "image/png": "[encoded data removed]",
      "text/plain": [
       "<matplotlib.figure.Figure at 0x1098c7b38>"
      ]
     },
     "metadata": {},
     "output_type": "display_data"
    }
   ],
   "source": [
    "best_smooth = SmoothingMethodRegression(best[0], best[1])\n",
    "best_smooth.fit(X, Y)\n",
    "Y_new = [best_smooth.predict(x) for x in X]\n",
    "plt.plot(X, Y_new)"
   ]
  }
 ],
 "metadata": {
  "kernelspec": {
   "display_name": "Python 3",
   "language": "python",
   "name": "python3"
  },
  "language_info": {
   "codemirror_mode": {
    "name": "ipython",
    "version": 3
   },
   "file_extension": ".py",
   "mimetype": "text/x-python",
   "name": "python",
   "nbconvert_exporter": "python",
   "pygments_lexer": "ipython3",
   "version": "3.5.0"
  }
 },
 "nbformat": 4,
 "nbformat_minor": 1
}
