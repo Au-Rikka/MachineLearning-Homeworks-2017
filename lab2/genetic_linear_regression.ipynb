{
 "cells": [
  {
   "cell_type": "code",
   "execution_count": null,
   "metadata": {
    "collapsed": false
   },
   "outputs": [],
   "source": [
    "%autosave 15\n",
    "%matplotlib inline\n",
    "\n",
    "import numpy as np\n",
    "import scipy as sp\n",
    "import pandas as pd\n",
    "import math\n",
    "import random\n",
    "\n",
    "from mpl_toolkits.mplot3d import Axes3D\n",
    "import matplotlib.pyplot as plt\n",
    "from IPython.display import display, HTML"
   ]
  },
  {
   "cell_type": "code",
   "execution_count": null,
   "metadata": {
    "collapsed": true
   },
   "outputs": [],
   "source": [
    "def getData():\n",
    "    fin = open('prices.txt', 'r')\n",
    "    lines = fin.readlines()\n",
    "    fin.close()\n",
    "    \n",
    "    actualPrice = dict()\n",
    "    data = list()\n",
    "    \n",
    "    for area, rooms, price in [map(int, x.split(',')) for x in lines[1:]]:\n",
    "        data.append((area, rooms))\n",
    "        actualPrice[(area, rooms)] = price\n",
    "    \n",
    "    return (data, actualPrice)\n",
    "\n",
    "data, actualPrice = getData()"
   ]
  },
  {
   "cell_type": "code",
   "execution_count": null,
   "metadata": {
    "collapsed": true
   },
   "outputs": [],
   "source": [
    "def k_fold_cv(k, length):\n",
    "    one_fold_length = length // k\n",
    "    others = length % k\n",
    "    indexies = [i for i in range(length)]\n",
    "    result = list()\n",
    "    for i in range(k):\n",
    "        test_suit = list()\n",
    "        train_suit = list()\n",
    "\n",
    "        for j in range(one_fold_length):\n",
    "            index = indexies[int(np.random.uniform(0, len(indexies))) % len(indexies)]\n",
    "            test_suit.append(index)\n",
    "            indexies.remove(index)\n",
    "        if others > 0:\n",
    "            others -= 1\n",
    "            index = indexies[int(np.random.uniform(0, len(indexies))) % len(indexies)]\n",
    "            test_suit.append(index)\n",
    "            indexies.remove(index)\n",
    "        \n",
    "        for j in range(length):\n",
    "            if j not in test_suit:\n",
    "                train_suit.append(j)\n",
    "        \n",
    "        result.append((train_suit, test_suit))\n",
    "    return result"
   ]
  },
  {
   "cell_type": "code",
   "execution_count": null,
   "metadata": {
    "collapsed": true
   },
   "outputs": [],
   "source": [
    "# w - вектор коэффициентов [area, rooms, free]\n",
    "\n",
    "def predictPrice(area, rooms, w):\n",
    "    return area * w[0] + rooms * w[1] + w[2]\n",
    "\n",
    "\n",
    "def standardDeviation(w, data):\n",
    "    s = 0\n",
    "    for area, rooms in data:\n",
    "        s += (predictPrice(area, rooms, w) - actualPrice[(area, rooms)]) ** 2\n",
    "    res = s / len(data)\n",
    "    return np.sqrt(res)"
   ]
  },
  {
   "cell_type": "code",
   "execution_count": null,
   "metadata": {
    "collapsed": true
   },
   "outputs": [],
   "source": [
    "def getArrays(w, data):\n",
    "    x  = [d[0] for d in data]\n",
    "    y  = [d[1] for d in data]\n",
    "    pp = [predictPrice(d[0], d[1], w) for d in data]\n",
    "    ap = [actualPrice[(d[0], d[1])] for d in data]\n",
    "    return x, y, pp, ap\n",
    "\n",
    "#предсказанные значения vs реальные\n",
    "def printResults1(w, data):\n",
    "    x, y, pp, ap = getArrays(w, data)\n",
    "    fig = plt.figure()\n",
    "    ax = Axes3D(fig)\n",
    "    ax.scatter(xs=x, ys=y, zs=pp, zdir='z', color='r')\n",
    "    ax.scatter(xs=x, ys=y, zs=ap, zdir='z', label='ss', color='g')\n",
    "    ax.set_xlabel('area')\n",
    "    ax.set_ylabel('rooms')\n",
    "    ax.set_zlabel('price')\n",
    "    plt.show()\n",
    "    \n",
    "#плоскость, полученная в результате регрессии    \n",
    "def printResults2(w, data):\n",
    "    x, y, pp, ap = getArrays(w, data)\n",
    "    ax = Axes3D(plt.figure())\n",
    "    x_surf=np.arange(0, 5000, 1)   \n",
    "    y_surf=np.arange(0, 5, 1)\n",
    "    X, Y = np.meshgrid(x_surf, y_surf)\n",
    "    Z = predictPrice(X, Y, w)\n",
    "    ax.scatter(xs=x, ys=y, zs=ap, zdir='z', label='ys=0, zdir=z', color='g')\n",
    "    ax.plot_surface(X, Y, Z, rstride=10, cstride=10, color='r')\n",
    "    ax.set_xlabel('area')\n",
    "    ax.set_ylabel('rooms')\n",
    "    ax.set_zlabel('price')\n",
    "    plt.show()"
   ]
  },
  {
   "cell_type": "code",
   "execution_count": null,
   "metadata": {
    "collapsed": true
   },
   "outputs": [],
   "source": [
    "# w0 - вектор коэффициентов [area, rooms, free]\n",
    "def gradient(w, trainingData, step):\n",
    "    dw = [0, 0, 0]\n",
    "    for area, rooms in trainingData:\n",
    "        err = predictPrice(area, rooms, w) - actualPrice[(area, rooms)]\n",
    "        dw[0] += err * area\n",
    "        dw[1] += err * rooms\n",
    "        dw[2] += err\n",
    "    dw = [dwi * 2 / len(trainingData) for dwi in dw]\n",
    "    return [w[i] - step * dw[i] for i in range(len(w))]\n",
    "\n",
    "# w0 - вектор начальных коэффициентов [area, rooms, free]\n",
    "# step - размер шага (используется переменный шаг)\n",
    "# маленький шаг - медленно, большой - есть шанс застрять, не доходя до минимума \n",
    "# eps - критерий_остановки разность между векторами, или разность между стандартными отклонениями\n",
    "# n - максимальное количество шагов\n",
    "def gradientDescent(w0, trainingData, step, epsQ, epsV, n):\n",
    "    w = w0\n",
    "    for i in range(1, n + 1):\n",
    "        prevw = w\n",
    "        prevSD = standardDeviation(w, trainingData)\n",
    "        w = gradient(w, trainingData, step / i)\n",
    "        if (abs(prevSD - standardDeviation(w, trainingData)) < epsQ):\n",
    "            return w\n",
    "        if (sum([(prevw[i] - w[i]) ** 2 for i in range(len(w))]) ** 0.5 < epsV):\n",
    "            return w\n",
    "    return w"
   ]
  },
  {
   "cell_type": "code",
   "execution_count": null,
   "metadata": {
    "collapsed": true
   },
   "outputs": [],
   "source": [
    "def gradientLinearRegression(w0, data, step, cv_params = (1, 10)):\n",
    "    tfold, kfold = cv_params\n",
    "    average_err = 0\n",
    "    for i in range(tfold):\n",
    "        kfold_index = k_fold_cv(kfold, len(data))\n",
    "        for train_suit, test_suit in kfold_index:\n",
    "            training_suit = [data[i] for i in train_suit]\n",
    "            testing_suit = [data[i] for i in test_suit]\n",
    "            w = gradientDescent(w0, training_suit, step, 0.1)\n",
    "            print(w)\n",
    "            average_err += standardDeviation(w, testing_suit)\n",
    "        \n",
    "    average_err /= tfold * kfold\n",
    "    \n",
    "    return average_err"
   ]
  },
  {
   "cell_type": "code",
   "execution_count": null,
   "metadata": {
    "collapsed": false
   },
   "outputs": [],
   "source": [
    "w = gradientDescent([0, 0, 0], data, 0.0000001, 0.1, 0, 10000000)\n",
    "print('weights:', w, 'deviation', standardDeviation(w, data))\n",
    "resValues = pd.DataFrame(columns=['area', 'rooms', 'price', 'predict'])\n",
    "for area, rooms in data:\n",
    "    cur = pd.DataFrame([[area, rooms, actualPrice[(area, rooms)], predictPrice(area, rooms, w)]], \n",
    "                       columns=['area', 'rooms', 'price', 'predict'])\n",
    "    resValues = resValues.append(cur, ignore_index=True)\n",
    "\n",
    "display(resValues)"
   ]
  },
  {
   "cell_type": "code",
   "execution_count": null,
   "metadata": {
    "collapsed": false
   },
   "outputs": [],
   "source": [
    "printResults2(w, data)"
   ]
  },
  {
   "cell_type": "code",
   "execution_count": null,
   "metadata": {
    "collapsed": false
   },
   "outputs": [],
   "source": [
    "def differential_evolution(trainingData, crossover_probability=0.8):\n",
    "    F = 0.7\n",
    "    def generate_vector():\n",
    "        return [np.random.uniform(-1000000,1000000) for i in range(3)]\n",
    "    \n",
    "    population = [generate_vector() for i in range(20)]\n",
    "    \n",
    "    for i in range(10000):\n",
    "        for j in range(len(population)):\n",
    "            old_entity = population[j]\n",
    "            ind = list()\n",
    "            while len(ind) < 3:\n",
    "                temp = int(np.random.uniform(0, len(population)))\n",
    "                if temp != j:\n",
    "                    ind.append(temp)\n",
    "            ind = [population[k] for k in ind]\n",
    "            new_entity = [ind[0][k] + F * (ind[1][k] - ind[2][k]) for k in range(3)]\n",
    "            \n",
    "            for k in range(3):\n",
    "                if np.random.uniform(0, 1) > crossover_probability:\n",
    "                    new_entity[k] = old_entity[k]\n",
    "            if standardDeviation(new_entity, trainingData) < standardDeviation(old_entity, trainingData):\n",
    "                population[j] = new_entity\n",
    "           \n",
    "    deviation = -1\n",
    "    result = None\n",
    "    for ent in population:\n",
    "        current = standardDeviation(ent, trainingData)\n",
    "        if deviation == -1 or deviation > current:\n",
    "            deviation = current\n",
    "            result    = ent\n",
    "    return result, deviation\n",
    "\n",
    "w_evolution, accuracy = differential_evolution(data)\n",
    "print('weights:', w_evolution, 'deviation', accuracy)"
   ]
  },
  {
   "cell_type": "code",
   "execution_count": null,
   "metadata": {
    "collapsed": false
   },
   "outputs": [],
   "source": [
    "printResults2(w, data)"
   ]
  }
 ],
 "metadata": {
  "kernelspec": {
   "display_name": "Python 3",
   "language": "python",
   "name": "python3"
  },
  "language_info": {
   "codemirror_mode": {
    "name": "ipython",
    "version": 3
   },
   "file_extension": ".py",
   "mimetype": "text/x-python",
   "name": "python",
   "nbconvert_exporter": "python",
   "pygments_lexer": "ipython3",
   "version": "3.5.0"
  }
 },
 "nbformat": 4,
 "nbformat_minor": 1
}
