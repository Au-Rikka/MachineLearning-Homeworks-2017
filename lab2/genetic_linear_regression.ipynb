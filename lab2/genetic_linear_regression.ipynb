{
 "cells": [
  {
   "cell_type": "code",
   "execution_count": 104,
   "metadata": {},
   "outputs": [
    {
     "data": {
      "application/javascript": [
       "IPython.notebook.set_autosave_interval(15000)"
      ]
     },
     "metadata": {},
     "output_type": "display_data"
    },
    {
     "name": "stdout",
     "output_type": "stream",
     "text": [
      "Autosaving every 15 seconds\n"
     ]
    }
   ],
   "source": [
    "%autosave 15\n",
    "%matplotlib inline\n",
    "\n",
    "import numpy as np\n",
    "import scipy as sp\n",
    "import pandas as pd\n",
    "import math\n",
    "import random\n",
    "\n",
    "from mpl_toolkits.mplot3d import Axes3D\n",
    "import matplotlib.pyplot as plt\n",
    "from IPython.display import display, HTML"
   ]
  },
  {
   "cell_type": "code",
   "execution_count": 203,
   "metadata": {},
   "outputs": [],
   "source": [
    "ndata = []\n",
    "nactualPrice = dict()\n",
    "ff_areas = []\n",
    "ff_rooms = []\n",
    "\n",
    "def getData():\n",
    "    fin = open('prices.txt', 'r')\n",
    "    lines = fin.readlines()\n",
    "    fin.close()\n",
    "    \n",
    "    actualPrice = dict()\n",
    "    data = list()\n",
    "    \n",
    "    areas = []\n",
    "    rooms = []\n",
    "    for area, room, price in [map(int, x.split(',')) for x in lines[1:]]:\n",
    "        data.append((area, room))\n",
    "        actualPrice[(area, room)] = price\n",
    "        areas.append(area)\n",
    "        rooms.append(room)\n",
    "        ff_areas.append(area)\n",
    "        ff_rooms.append(rooms)\n",
    "    \n",
    "    for area, room, price in [map(int, x.split(',')) for x in lines[1:]]:\n",
    "        ndata.append(((area - min(areas)) / (max(areas) - min(areas)),\n",
    "                     (room - min(rooms)) / (max(rooms) - min(rooms)))\n",
    "                    )\n",
    "        nactualPrice[ndata[-1]] = price\n",
    "    \n",
    "    \n",
    "    return (data, actualPrice)\n",
    "\n",
    "data, actualPrice = getData()\n",
    "max_area = max(ff_areas)\n",
    "min_area = min(ff_areas)\n",
    "min_rooms = min(ff_rooms)\n",
    "max_rooms = max(ff_rooms)\n",
    "def normalize(area, room):\n",
    "    return (area - min_area) / (max_area - min_area), (room - min_rooms) / (max_rooms - min_rooms)"
   ]
  },
  {
   "cell_type": "code",
   "execution_count": 52,
   "metadata": {
    "collapsed": true
   },
   "outputs": [],
   "source": [
    "def k_fold_cv(k, length):\n",
    "    one_fold_length = length // k\n",
    "    others = length % k\n",
    "    indexies = [i for i in range(length)]\n",
    "    result = list()\n",
    "    for i in range(k):\n",
    "        test_suit = list()\n",
    "        train_suit = list()\n",
    "\n",
    "        for j in range(one_fold_length):\n",
    "            index = indexies[int(np.random.uniform(0, len(indexies))) % len(indexies)]\n",
    "            test_suit.append(index)\n",
    "            indexies.remove(index)\n",
    "        if others > 0:\n",
    "            others -= 1\n",
    "            index = indexies[int(np.random.uniform(0, len(indexies))) % len(indexies)]\n",
    "            test_suit.append(index)\n",
    "            indexies.remove(index)\n",
    "        \n",
    "        for j in range(length):\n",
    "            if j not in test_suit:\n",
    "                train_suit.append(j)\n",
    "        \n",
    "        result.append((train_suit, test_suit))\n",
    "    return result"
   ]
  },
  {
   "cell_type": "code",
   "execution_count": 213,
   "metadata": {
    "collapsed": true
   },
   "outputs": [],
   "source": [
    "# w - вектор коэффициентов [area, rooms, free]\n",
    "\n",
    "def predictPrice(area, room, w):\n",
    "    return area * w[0] + room * w[1] + w[2]\n",
    "\n",
    "def predictPrice2(area, room, w):\n",
    "    area, room = normalize(area, room)\n",
    "    return area * w[0] + room * w[1] + w[2]\n",
    "\n",
    "\n",
    "def standardDeviation(w, data):\n",
    "    s = 0\n",
    "    for area, rooms in data:\n",
    "        s += (predictPrice(area, rooms, w) - nactualPrice[(area, rooms)]) ** 2\n",
    "    res = s / len(data)\n",
    "    return np.sqrt(res)"
   ]
  },
  {
   "cell_type": "code",
   "execution_count": 208,
   "metadata": {
    "collapsed": true
   },
   "outputs": [],
   "source": [
    "def getArrays(w, data):\n",
    "    x  = [d[0] for d in data]\n",
    "    y  = [d[1] for d in data]\n",
    "    print(data)\n",
    "    pp = list()\n",
    "    ap = list()\n",
    "    for d in data:\n",
    "        pp.append(predictPrice2(d[0], d[1], w))\n",
    "        ap.append(actualPrice[(d[0], d[1])])\n",
    "    return x, y, pp, ap\n",
    "\n",
    "#предсказанные значения vs реальные\n",
    "def printResults1(w, data):\n",
    "    x, y, pp, ap = getArrays(w, data)\n",
    "    fig = plt.figure()\n",
    "    ax = Axes3D(fig)\n",
    "    ax.scatter(xs=x, ys=y, zs=pp, zdir='z', color='r')\n",
    "    ax.scatter(xs=x, ys=y, zs=ap, zdir='z', label='ss', color='g')\n",
    "    ax.set_xlabel('area')\n",
    "    ax.set_ylabel('rooms')\n",
    "    ax.set_zlabel('price')\n",
    "    plt.show()\n",
    "    \n",
    "#плоскость, полученная в результате регрессии    \n",
    "def printResults2(w, data):\n",
    "    x, y, pp, ap = getArrays(w, data)\n",
    "    ax = Axes3D(plt.figure())\n",
    "    x_surf=np.arange(0, 5000, 50)   \n",
    "    y_surf=np.arange(0, 5, 0.5)\n",
    "    X, Y = np.meshgrid(x_surf, y_surf)\n",
    "    Z = predictPrice2(X, Y, w)\n",
    "    ax.scatter(xs=x, ys=y, zs=ap, zdir='z', label='ys=0, zdir=z', color='g')\n",
    "    ax.plot_surface(X, Y, Z, rstride=10, cstride=10, color='b', alpha=0.45)\n",
    "    ax.set_xlabel('area')\n",
    "    ax.set_ylabel('rooms')\n",
    "    ax.set_zlabel('price')\n",
    "    plt.show()"
   ]
  },
  {
   "cell_type": "code",
   "execution_count": 165,
   "metadata": {},
   "outputs": [],
   "source": [
    "# w0 - вектор коэффициентов [area, rooms, free]\n",
    "def gradient(w, trainingData, step):\n",
    "    dw = [0, 0, 0]\n",
    "    for area, rooms in trainingData:\n",
    "        err = predictPrice(area, rooms, w) - nactualPrice[(area, rooms)]\n",
    "        dw[0] += err * area\n",
    "        dw[1] += err * rooms\n",
    "        dw[2] += err\n",
    "    dw = [dwi * 2 / len(trainingData) for dwi in dw]\n",
    "    dw = [w[i] - step * dw[i] for i in range(len(w))]\n",
    "    dw = [dw[i]  for i in range(len(dw))]\n",
    "#     print(dw)\n",
    "    return dw\n",
    "\n",
    "# w0 - вектор начальных коэффициентов [area, rooms, free]\n",
    "# step - размер шага (используется переменный шаг)\n",
    "# маленький шаг - медленно, большой - есть шанс застрять, не доходя до минимума \n",
    "# eps - критерий_остановки разность между векторами, или разность между стандартными отклонениями\n",
    "# n - максимальное количество шагов\n",
    "\n",
    "steps = list()\n",
    "errors = list()\n",
    "\n",
    "def gradientDescent(w0, trainingData, step, epsQ, epsV, n):\n",
    "    w = w0\n",
    "\n",
    "#     steps = list()\n",
    "#     errors = list()\n",
    "\n",
    "    for i in range(1, n + 1):\n",
    "        steps.append(i)\n",
    "        prevw = w\n",
    "        prevSD = standardDeviation(w, trainingData)\n",
    "        w = gradient(w, trainingData, step)\n",
    "        errors.append(standardDeviation(w, trainingData))\n",
    "#         print(errors[-1])\n",
    "#         if (abs(prevSD - standardDeviation(w, trainingData)) < epsQ):\n",
    "#             plt.plot(steps, errors ,'go')\n",
    "#             plt.show()\n",
    "\n",
    "#             return w\n",
    "#         if (sum([(prevw[i] - w[i]) ** 2 for i in range(len(w))]) ** 0.5 < epsV):\n",
    "#             plt.plot(steps, errors ,'go')\n",
    "#             plt.show()\n",
    "\n",
    "#             return w\n",
    "\n",
    "#     print(steps)\n",
    "\n",
    "#     plt.show()\n",
    "    return w"
   ]
  },
  {
   "cell_type": "code",
   "execution_count": null,
   "metadata": {
    "collapsed": true
   },
   "outputs": [],
   "source": []
  },
  {
   "cell_type": "code",
   "execution_count": 117,
   "metadata": {},
   "outputs": [
    {
     "data": {
      "image/png": "[encoded data removed]",
      "text/plain": [
       "<matplotlib.figure.Figure at 0x10e9a8e80>"
      ]
     },
     "metadata": {},
     "output_type": "display_data"
    }
   ],
   "source": [
    "plt.plot(steps, errors ,'g.')\n",
    "plt.yscale('log')"
   ]
  },
  {
   "cell_type": "code",
   "execution_count": 77,
   "metadata": {},
   "outputs": [
    {
     "name": "stdout",
     "output_type": "stream",
     "text": [
      "[1e-07, [165.08184443623108, 0.2539113285855466, 0.08036674643037604], 69254.169991938004]\n",
      "[5e-07, [165.35776910704715, 0.28895026610584323, 0.1003849590860165], 69251.15758811128]\n",
      "[1e-06, [165.38930041534357, 0.34443378558903404, 0.13224429504688273], 69251.120543336947]\n",
      "[5e-08, [162.61368149367797, 0.24871438288948833, 0.0783605688313167], 69506.510484302009]\n"
     ]
    }
   ],
   "source": [
    "#resValues = pd.DataFrame(columns=['initial step', 'w', 'err'])\n",
    "\n",
    "for initialStep in [0.0000001, 0.0000005, 0.000001, 0.00000005]:\n",
    "    w = gradientDescent([0, 0, 0], data, initialStep, 0.1, 0, 1000000)\n",
    "    print([initialStep, w, standardDeviation(w, data)])"
   ]
  },
  {
   "cell_type": "code",
   "execution_count": 120,
   "metadata": {},
   "outputs": [],
   "source": [
    "from tqdm import tqdm"
   ]
  },
  {
   "cell_type": "code",
   "execution_count": 122,
   "metadata": {
    "scrolled": false
   },
   "outputs": [
    {
     "name": "stderr",
     "output_type": "stream",
     "text": [
      "\n",
      "  0%|          | 0/40 [00:00<?, ?it/s]\u001b[A\n",
      "\u001b[A"
     ]
    },
    {
     "ename": "KeyboardInterrupt",
     "evalue": "",
     "output_type": "error",
     "traceback": [
      "\u001b[0;31m---------------------------------------------------------------------------\u001b[0m",
      "\u001b[0;31mKeyboardInterrupt\u001b[0m                         Traceback (most recent call last)",
      "\u001b[0;32m<ipython-input-122-89da459ecb7c>\u001b[0m in \u001b[0;36m<module>\u001b[0;34m()\u001b[0m\n\u001b[1;32m      4\u001b[0m     \u001b[0mw0\u001b[0m \u001b[0;34m=\u001b[0m \u001b[0;34m[\u001b[0m\u001b[0mi\u001b[0m\u001b[0;34m,\u001b[0m \u001b[0mi\u001b[0m\u001b[0;34m,\u001b[0m \u001b[0mi\u001b[0m\u001b[0;34m]\u001b[0m\u001b[0;34m\u001b[0m\u001b[0m\n\u001b[1;32m      5\u001b[0m     \u001b[0;31m#w0 = [np.random.uniform(-1000,1000) for i in range(3)]\u001b[0m\u001b[0;34m\u001b[0m\u001b[0;34m\u001b[0m\u001b[0m\n\u001b[0;32m----> 6\u001b[0;31m     \u001b[0mw\u001b[0m \u001b[0;34m=\u001b[0m \u001b[0mgradientDescent\u001b[0m\u001b[0;34m(\u001b[0m\u001b[0mw0\u001b[0m\u001b[0;34m,\u001b[0m \u001b[0mdata\u001b[0m\u001b[0;34m,\u001b[0m \u001b[0;36m0.001\u001b[0m\u001b[0;34m,\u001b[0m \u001b[0;36m0.1\u001b[0m\u001b[0;34m,\u001b[0m \u001b[0;36m0\u001b[0m\u001b[0;34m,\u001b[0m \u001b[0;36m1000000\u001b[0m\u001b[0;34m)\u001b[0m\u001b[0;34m\u001b[0m\u001b[0m\n\u001b[0m\u001b[1;32m      7\u001b[0m     \u001b[0msd\u001b[0m \u001b[0;34m=\u001b[0m \u001b[0mstandardDeviation\u001b[0m\u001b[0;34m(\u001b[0m\u001b[0mw\u001b[0m\u001b[0;34m,\u001b[0m \u001b[0mdata\u001b[0m\u001b[0;34m)\u001b[0m\u001b[0;34m\u001b[0m\u001b[0m\n\u001b[1;32m      8\u001b[0m     \u001b[0mprint\u001b[0m\u001b[0;34m(\u001b[0m\u001b[0msd\u001b[0m\u001b[0;34m,\u001b[0m \u001b[0mw0\u001b[0m\u001b[0;34m,\u001b[0m \u001b[0mw\u001b[0m\u001b[0;34m)\u001b[0m\u001b[0;34m\u001b[0m\u001b[0m\n",
      "\u001b[0;32m<ipython-input-115-9115ccf9cacc>\u001b[0m in \u001b[0;36mgradientDescent\u001b[0;34m(w0, trainingData, step, epsQ, epsV, n)\u001b[0m\n\u001b[1;32m     30\u001b[0m         \u001b[0mprevw\u001b[0m \u001b[0;34m=\u001b[0m \u001b[0mw\u001b[0m\u001b[0;34m\u001b[0m\u001b[0m\n\u001b[1;32m     31\u001b[0m         \u001b[0mprevSD\u001b[0m \u001b[0;34m=\u001b[0m \u001b[0mstandardDeviation\u001b[0m\u001b[0;34m(\u001b[0m\u001b[0mw\u001b[0m\u001b[0;34m,\u001b[0m \u001b[0mtrainingData\u001b[0m\u001b[0;34m)\u001b[0m\u001b[0;34m\u001b[0m\u001b[0m\n\u001b[0;32m---> 32\u001b[0;31m         \u001b[0mw\u001b[0m \u001b[0;34m=\u001b[0m \u001b[0mgradient\u001b[0m\u001b[0;34m(\u001b[0m\u001b[0mw\u001b[0m\u001b[0;34m,\u001b[0m \u001b[0mtrainingData\u001b[0m\u001b[0;34m,\u001b[0m \u001b[0mstep\u001b[0m\u001b[0;34m)\u001b[0m\u001b[0;34m\u001b[0m\u001b[0m\n\u001b[0m\u001b[1;32m     33\u001b[0m         \u001b[0merrors\u001b[0m\u001b[0;34m.\u001b[0m\u001b[0mappend\u001b[0m\u001b[0;34m(\u001b[0m\u001b[0mstandardDeviation\u001b[0m\u001b[0;34m(\u001b[0m\u001b[0mw\u001b[0m\u001b[0;34m,\u001b[0m \u001b[0mtrainingData\u001b[0m\u001b[0;34m)\u001b[0m\u001b[0;34m)\u001b[0m\u001b[0;34m\u001b[0m\u001b[0m\n\u001b[1;32m     34\u001b[0m \u001b[0;31m#         if (abs(prevSD - standardDeviation(w, trainingData)) < epsQ):\u001b[0m\u001b[0;34m\u001b[0m\u001b[0;34m\u001b[0m\u001b[0m\n",
      "\u001b[0;32m<ipython-input-115-9115ccf9cacc>\u001b[0m in \u001b[0;36mgradient\u001b[0;34m(w, trainingData, step)\u001b[0m\n\u001b[1;32m      9\u001b[0m     \u001b[0mdw\u001b[0m \u001b[0;34m=\u001b[0m \u001b[0;34m[\u001b[0m\u001b[0mdwi\u001b[0m \u001b[0;34m*\u001b[0m \u001b[0;36m2\u001b[0m \u001b[0;34m/\u001b[0m \u001b[0mlen\u001b[0m\u001b[0;34m(\u001b[0m\u001b[0mtrainingData\u001b[0m\u001b[0;34m)\u001b[0m \u001b[0;32mfor\u001b[0m \u001b[0mdwi\u001b[0m \u001b[0;32min\u001b[0m \u001b[0mdw\u001b[0m\u001b[0;34m]\u001b[0m\u001b[0;34m\u001b[0m\u001b[0m\n\u001b[1;32m     10\u001b[0m     \u001b[0mdw\u001b[0m \u001b[0;34m=\u001b[0m \u001b[0;34m[\u001b[0m\u001b[0mw\u001b[0m\u001b[0;34m[\u001b[0m\u001b[0mi\u001b[0m\u001b[0;34m]\u001b[0m \u001b[0;34m-\u001b[0m \u001b[0mstep\u001b[0m \u001b[0;34m*\u001b[0m \u001b[0mdw\u001b[0m\u001b[0;34m[\u001b[0m\u001b[0mi\u001b[0m\u001b[0;34m]\u001b[0m \u001b[0;32mfor\u001b[0m \u001b[0mi\u001b[0m \u001b[0;32min\u001b[0m \u001b[0mrange\u001b[0m\u001b[0;34m(\u001b[0m\u001b[0mlen\u001b[0m\u001b[0;34m(\u001b[0m\u001b[0mw\u001b[0m\u001b[0;34m)\u001b[0m\u001b[0;34m)\u001b[0m\u001b[0;34m]\u001b[0m\u001b[0;34m\u001b[0m\u001b[0m\n\u001b[0;32m---> 11\u001b[0;31m     \u001b[0;32mreturn\u001b[0m \u001b[0;34m[\u001b[0m\u001b[0mdw\u001b[0m\u001b[0;34m[\u001b[0m\u001b[0mi\u001b[0m\u001b[0;34m]\u001b[0m \u001b[0;34m/\u001b[0m \u001b[0mnp\u001b[0m\u001b[0;34m.\u001b[0m\u001b[0mlinalg\u001b[0m\u001b[0;34m.\u001b[0m\u001b[0mnorm\u001b[0m\u001b[0;34m(\u001b[0m\u001b[0mnp\u001b[0m\u001b[0;34m.\u001b[0m\u001b[0marray\u001b[0m\u001b[0;34m(\u001b[0m\u001b[0mdw\u001b[0m\u001b[0;34m)\u001b[0m\u001b[0;34m)\u001b[0m \u001b[0;32mfor\u001b[0m \u001b[0mi\u001b[0m \u001b[0;32min\u001b[0m \u001b[0mrange\u001b[0m\u001b[0;34m(\u001b[0m\u001b[0mlen\u001b[0m\u001b[0;34m(\u001b[0m\u001b[0mdw\u001b[0m\u001b[0;34m)\u001b[0m\u001b[0;34m)\u001b[0m\u001b[0;34m]\u001b[0m\u001b[0;34m\u001b[0m\u001b[0m\n\u001b[0m\u001b[1;32m     12\u001b[0m \u001b[0;34m\u001b[0m\u001b[0m\n\u001b[1;32m     13\u001b[0m \u001b[0;31m# w0 - вектор начальных коэффициентов [area, rooms, free]\u001b[0m\u001b[0;34m\u001b[0m\u001b[0;34m\u001b[0m\u001b[0m\n",
      "\u001b[0;31mKeyboardInterrupt\u001b[0m: "
     ]
    }
   ],
   "source": [
    "m = 100000\n",
    "mw = [0, 0, 0]\n",
    "for i in tqdm(range(0, 20000, 500)):\n",
    "    w0 = [i, i, i]\n",
    "    #w0 = [np.random.uniform(-1000,1000) for i in range(3)]\n",
    "    w = gradientDescent(w0, data, 0.001, 0.1, 0, 1000000)\n",
    "    sd = standardDeviation(w, data)\n",
    "    print(sd, w0, w)\n",
    "    if (sd < m):\n",
    "        m = sd\n",
    "        mw = w0\n",
    "print(m, mw)"
   ]
  },
  {
   "cell_type": "code",
   "execution_count": 215,
   "metadata": {
    "scrolled": false
   },
   "outputs": [
    {
     "name": "stdout",
     "output_type": "stream",
     "text": [
      "weights: [504777.9039879095, -34952.076449310654, 199467.38469348647]\n",
      "deviation 63926.2082499\n"
     ]
    }
   ],
   "source": [
    "w = gradientDescent([0, 0, 0], ndata, 0.6, 0, 0, 10000)\n",
    "resValues = pd.DataFrame(columns=['area', 'rooms', 'price', 'predict'])\n",
    "for area, rooms in data:\n",
    "    cur = pd.DataFrame([[area, rooms, actualPrice[(area, rooms)], predictPrice(area, rooms, w)]], \n",
    "                       columns=['area', 'rooms', 'price', 'predict'])\n",
    "    resValues = resValues.append(cur, ignore_index=True)\n",
    "\n",
    "print('weights:', w)\n",
    "print('deviation', standardDeviation(w, ndata))\n",
    "\n",
    "# display(resValues)"
   ]
  },
  {
   "cell_type": "code",
   "execution_count": 214,
   "metadata": {},
   "outputs": [
    {
     "name": "stdout",
     "output_type": "stream",
     "text": [
      "[(2104, 3), (1600, 3), (2400, 3), (1416, 2), (3000, 4), (1985, 4), (1534, 3), (1427, 3), (1380, 3), (1494, 3), (1940, 4), (2000, 3), (1890, 3), (4478, 5), (1268, 3), (2300, 4), (1320, 2), (1236, 3), (2609, 4), (3031, 4), (1767, 3), (1888, 2), (1604, 3), (1962, 4), (3890, 3), (1100, 3), (1458, 3), (2526, 3), (2200, 3), (2637, 3), (1839, 2), (1000, 1), (2040, 4), (3137, 3), (1811, 4), (1437, 3), (1239, 3), (2132, 4), (4215, 4), (2162, 4), (1664, 2), (2238, 3), (2567, 4), (1200, 3), (852, 2), (1852, 4), (1203, 3)]\n"
     ]
    },
    {
     "ename": "TypeError",
     "evalue": "unsupported operand type(s) for -: 'int' and 'list'",
     "output_type": "error",
     "traceback": [
      "\u001b[0;31m---------------------------------------------------------------------------\u001b[0m",
      "\u001b[0;31mTypeError\u001b[0m                                 Traceback (most recent call last)",
      "\u001b[0;32m<ipython-input-214-90a6b0f250b4>\u001b[0m in \u001b[0;36m<module>\u001b[0;34m()\u001b[0m\n\u001b[0;32m----> 1\u001b[0;31m \u001b[0mprintResults2\u001b[0m\u001b[0;34m(\u001b[0m\u001b[0mw\u001b[0m\u001b[0;34m,\u001b[0m \u001b[0mdata\u001b[0m\u001b[0;34m)\u001b[0m\u001b[0;34m\u001b[0m\u001b[0m\n\u001b[0m",
      "\u001b[0;32m<ipython-input-208-07d57831c9ab>\u001b[0m in \u001b[0;36mprintResults2\u001b[0;34m(w, data)\u001b[0m\n\u001b[1;32m     24\u001b[0m \u001b[0;31m#плоскость, полученная в результате регрессии\u001b[0m\u001b[0;34m\u001b[0m\u001b[0;34m\u001b[0m\u001b[0m\n\u001b[1;32m     25\u001b[0m \u001b[0;32mdef\u001b[0m \u001b[0mprintResults2\u001b[0m\u001b[0;34m(\u001b[0m\u001b[0mw\u001b[0m\u001b[0;34m,\u001b[0m \u001b[0mdata\u001b[0m\u001b[0;34m)\u001b[0m\u001b[0;34m:\u001b[0m\u001b[0;34m\u001b[0m\u001b[0m\n\u001b[0;32m---> 26\u001b[0;31m     \u001b[0mx\u001b[0m\u001b[0;34m,\u001b[0m \u001b[0my\u001b[0m\u001b[0;34m,\u001b[0m \u001b[0mpp\u001b[0m\u001b[0;34m,\u001b[0m \u001b[0map\u001b[0m \u001b[0;34m=\u001b[0m \u001b[0mgetArrays\u001b[0m\u001b[0;34m(\u001b[0m\u001b[0mw\u001b[0m\u001b[0;34m,\u001b[0m \u001b[0mdata\u001b[0m\u001b[0;34m)\u001b[0m\u001b[0;34m\u001b[0m\u001b[0m\n\u001b[0m\u001b[1;32m     27\u001b[0m     \u001b[0max\u001b[0m \u001b[0;34m=\u001b[0m \u001b[0mAxes3D\u001b[0m\u001b[0;34m(\u001b[0m\u001b[0mplt\u001b[0m\u001b[0;34m.\u001b[0m\u001b[0mfigure\u001b[0m\u001b[0;34m(\u001b[0m\u001b[0;34m)\u001b[0m\u001b[0;34m)\u001b[0m\u001b[0;34m\u001b[0m\u001b[0m\n\u001b[1;32m     28\u001b[0m     \u001b[0mx_surf\u001b[0m\u001b[0;34m=\u001b[0m\u001b[0mnp\u001b[0m\u001b[0;34m.\u001b[0m\u001b[0marange\u001b[0m\u001b[0;34m(\u001b[0m\u001b[0;36m0\u001b[0m\u001b[0;34m,\u001b[0m \u001b[0;36m5000\u001b[0m\u001b[0;34m,\u001b[0m \u001b[0;36m50\u001b[0m\u001b[0;34m)\u001b[0m\u001b[0;34m\u001b[0m\u001b[0m\n",
      "\u001b[0;32m<ipython-input-208-07d57831c9ab>\u001b[0m in \u001b[0;36mgetArrays\u001b[0;34m(w, data)\u001b[0m\n\u001b[1;32m      6\u001b[0m     \u001b[0map\u001b[0m \u001b[0;34m=\u001b[0m \u001b[0mlist\u001b[0m\u001b[0;34m(\u001b[0m\u001b[0;34m)\u001b[0m\u001b[0;34m\u001b[0m\u001b[0m\n\u001b[1;32m      7\u001b[0m     \u001b[0;32mfor\u001b[0m \u001b[0md\u001b[0m \u001b[0;32min\u001b[0m \u001b[0mdata\u001b[0m\u001b[0;34m:\u001b[0m\u001b[0;34m\u001b[0m\u001b[0m\n\u001b[0;32m----> 8\u001b[0;31m         \u001b[0mpp\u001b[0m\u001b[0;34m.\u001b[0m\u001b[0mappend\u001b[0m\u001b[0;34m(\u001b[0m\u001b[0mpredictPrice2\u001b[0m\u001b[0;34m(\u001b[0m\u001b[0md\u001b[0m\u001b[0;34m[\u001b[0m\u001b[0;36m0\u001b[0m\u001b[0;34m]\u001b[0m\u001b[0;34m,\u001b[0m \u001b[0md\u001b[0m\u001b[0;34m[\u001b[0m\u001b[0;36m1\u001b[0m\u001b[0;34m]\u001b[0m\u001b[0;34m,\u001b[0m \u001b[0mw\u001b[0m\u001b[0;34m)\u001b[0m\u001b[0;34m)\u001b[0m\u001b[0;34m\u001b[0m\u001b[0m\n\u001b[0m\u001b[1;32m      9\u001b[0m         \u001b[0map\u001b[0m\u001b[0;34m.\u001b[0m\u001b[0mappend\u001b[0m\u001b[0;34m(\u001b[0m\u001b[0mactualPrice\u001b[0m\u001b[0;34m[\u001b[0m\u001b[0;34m(\u001b[0m\u001b[0md\u001b[0m\u001b[0;34m[\u001b[0m\u001b[0;36m0\u001b[0m\u001b[0;34m]\u001b[0m\u001b[0;34m,\u001b[0m \u001b[0md\u001b[0m\u001b[0;34m[\u001b[0m\u001b[0;36m1\u001b[0m\u001b[0;34m]\u001b[0m\u001b[0;34m)\u001b[0m\u001b[0;34m]\u001b[0m\u001b[0;34m)\u001b[0m\u001b[0;34m\u001b[0m\u001b[0m\n\u001b[1;32m     10\u001b[0m     \u001b[0;32mreturn\u001b[0m \u001b[0mx\u001b[0m\u001b[0;34m,\u001b[0m \u001b[0my\u001b[0m\u001b[0;34m,\u001b[0m \u001b[0mpp\u001b[0m\u001b[0;34m,\u001b[0m \u001b[0map\u001b[0m\u001b[0;34m\u001b[0m\u001b[0m\n",
      "\u001b[0;32m<ipython-input-213-7360bfab4b72>\u001b[0m in \u001b[0;36mpredictPrice2\u001b[0;34m(area, room, w)\u001b[0m\n\u001b[1;32m      5\u001b[0m \u001b[0;34m\u001b[0m\u001b[0m\n\u001b[1;32m      6\u001b[0m \u001b[0;32mdef\u001b[0m \u001b[0mpredictPrice2\u001b[0m\u001b[0;34m(\u001b[0m\u001b[0marea\u001b[0m\u001b[0;34m,\u001b[0m \u001b[0mroom\u001b[0m\u001b[0;34m,\u001b[0m \u001b[0mw\u001b[0m\u001b[0;34m)\u001b[0m\u001b[0;34m:\u001b[0m\u001b[0;34m\u001b[0m\u001b[0m\n\u001b[0;32m----> 7\u001b[0;31m     \u001b[0marea\u001b[0m\u001b[0;34m,\u001b[0m \u001b[0mroom\u001b[0m \u001b[0;34m=\u001b[0m \u001b[0mnormalize\u001b[0m\u001b[0;34m(\u001b[0m\u001b[0marea\u001b[0m\u001b[0;34m,\u001b[0m \u001b[0mroom\u001b[0m\u001b[0;34m)\u001b[0m\u001b[0;34m\u001b[0m\u001b[0m\n\u001b[0m\u001b[1;32m      8\u001b[0m     \u001b[0;32mreturn\u001b[0m \u001b[0marea\u001b[0m \u001b[0;34m*\u001b[0m \u001b[0mw\u001b[0m\u001b[0;34m[\u001b[0m\u001b[0;36m0\u001b[0m\u001b[0;34m]\u001b[0m \u001b[0;34m+\u001b[0m \u001b[0mroom\u001b[0m \u001b[0;34m*\u001b[0m \u001b[0mw\u001b[0m\u001b[0;34m[\u001b[0m\u001b[0;36m1\u001b[0m\u001b[0;34m]\u001b[0m \u001b[0;34m+\u001b[0m \u001b[0mw\u001b[0m\u001b[0;34m[\u001b[0m\u001b[0;36m2\u001b[0m\u001b[0;34m]\u001b[0m\u001b[0;34m\u001b[0m\u001b[0m\n\u001b[1;32m      9\u001b[0m \u001b[0;34m\u001b[0m\u001b[0m\n",
      "\u001b[0;32m<ipython-input-203-ce5cb58bf2a6>\u001b[0m in \u001b[0;36mnormalize\u001b[0;34m(area, room)\u001b[0m\n\u001b[1;32m     37\u001b[0m \u001b[0mmax_rooms\u001b[0m \u001b[0;34m=\u001b[0m \u001b[0mmax\u001b[0m\u001b[0;34m(\u001b[0m\u001b[0mff_rooms\u001b[0m\u001b[0;34m)\u001b[0m\u001b[0;34m\u001b[0m\u001b[0m\n\u001b[1;32m     38\u001b[0m \u001b[0;32mdef\u001b[0m \u001b[0mnormalize\u001b[0m\u001b[0;34m(\u001b[0m\u001b[0marea\u001b[0m\u001b[0;34m,\u001b[0m \u001b[0mroom\u001b[0m\u001b[0;34m)\u001b[0m\u001b[0;34m:\u001b[0m\u001b[0;34m\u001b[0m\u001b[0m\n\u001b[0;32m---> 39\u001b[0;31m     \u001b[0;32mreturn\u001b[0m \u001b[0;34m(\u001b[0m\u001b[0marea\u001b[0m \u001b[0;34m-\u001b[0m \u001b[0mmin_area\u001b[0m\u001b[0;34m)\u001b[0m \u001b[0;34m/\u001b[0m \u001b[0;34m(\u001b[0m\u001b[0mmax_area\u001b[0m \u001b[0;34m-\u001b[0m \u001b[0mmin_area\u001b[0m\u001b[0;34m)\u001b[0m\u001b[0;34m,\u001b[0m \u001b[0;34m(\u001b[0m\u001b[0mroom\u001b[0m \u001b[0;34m-\u001b[0m \u001b[0mmin_rooms\u001b[0m\u001b[0;34m)\u001b[0m \u001b[0;34m/\u001b[0m \u001b[0;34m(\u001b[0m\u001b[0mmax_rooms\u001b[0m \u001b[0;34m-\u001b[0m \u001b[0mmin_rooms\u001b[0m\u001b[0;34m)\u001b[0m\u001b[0;34m\u001b[0m\u001b[0m\n\u001b[0m",
      "\u001b[0;31mTypeError\u001b[0m: unsupported operand type(s) for -: 'int' and 'list'"
     ]
    }
   ],
   "source": [
    "printResults2(w, data)"
   ]
  },
  {
   "cell_type": "code",
   "execution_count": 73,
   "metadata": {},
   "outputs": [
    {
     "data": {
      "text/plain": [
       "362192.07088631147"
      ]
     },
     "execution_count": 73,
     "metadata": {},
     "output_type": "execute_result"
    }
   ],
   "source": [
    "standardDeviation([0, 0, 0], data)"
   ]
  },
  {
   "cell_type": "code",
   "execution_count": 216,
   "metadata": {},
   "outputs": [
    {
     "name": "stdout",
     "output_type": "stream",
     "text": [
      "weights: [504777.9042485998, -34952.07266575688, 199467.3825572089] deviation 63926.2082499\n"
     ]
    }
   ],
   "source": [
    "def differential_evolution(trainingData, crossover_probability=0.8):\n",
    "    F = 0.7\n",
    "    def generate_vector():\n",
    "        return [np.random.uniform(-1000000,1000000) for i in range(3)]\n",
    "    \n",
    "    population = [generate_vector() for i in range(20)]\n",
    "    \n",
    "    for i in range(10000):\n",
    "        for j in range(len(population)):\n",
    "            old_entity = population[j]\n",
    "            ind = list()\n",
    "            while len(ind) < 3:\n",
    "                temp = int(np.random.uniform(0, len(population)))\n",
    "                if temp != j:\n",
    "                    ind.append(temp)\n",
    "            ind = [population[k] for k in ind]\n",
    "            new_entity = [ind[0][k] + F * (ind[1][k] - ind[2][k]) for k in range(3)]\n",
    "            \n",
    "            for k in range(3):\n",
    "                if np.random.uniform(0, 1) > crossover_probability:\n",
    "                    new_entity[k] = old_entity[k]\n",
    "            if standardDeviation(new_entity, trainingData) < standardDeviation(old_entity, trainingData):\n",
    "                population[j] = new_entity\n",
    "           \n",
    "    deviation = -1\n",
    "    result = None\n",
    "    for ent in population:\n",
    "        current = standardDeviation(ent, trainingData)\n",
    "        if deviation == -1 or deviation > current:\n",
    "            deviation = current\n",
    "            result    = ent\n",
    "    return result, deviation\n",
    "\n",
    "w_evolution, accuracy = differential_evolution(ndata)\n",
    "print('weights:', w_evolution, 'deviation', accuracy)"
   ]
  },
  {
   "cell_type": "code",
   "execution_count": 211,
   "metadata": {},
   "outputs": [
    {
     "name": "stdout",
     "output_type": "stream",
     "text": [
      "[(2104, 3), (1600, 3), (2400, 3), (1416, 2), (3000, 4), (1985, 4), (1534, 3), (1427, 3), (1380, 3), (1494, 3), (1940, 4), (2000, 3), (1890, 3), (4478, 5), (1268, 3), (2300, 4), (1320, 2), (1236, 3), (2609, 4), (3031, 4), (1767, 3), (1888, 2), (1604, 3), (1962, 4), (3890, 3), (1100, 3), (1458, 3), (2526, 3), (2200, 3), (2637, 3), (1839, 2), (1000, 1), (2040, 4), (3137, 3), (1811, 4), (1437, 3), (1239, 3), (2132, 4), (4215, 4), (2162, 4), (1664, 2), (2238, 3), (2567, 4), (1200, 3), (852, 2), (1852, 4), (1203, 3)]\n"
     ]
    },
    {
     "ename": "TypeError",
     "evalue": "unsupported operand type(s) for -: 'int' and 'list'",
     "output_type": "error",
     "traceback": [
      "\u001b[0;31m---------------------------------------------------------------------------\u001b[0m",
      "\u001b[0;31mTypeError\u001b[0m                                 Traceback (most recent call last)",
      "\u001b[0;32m<ipython-input-211-90a6b0f250b4>\u001b[0m in \u001b[0;36m<module>\u001b[0;34m()\u001b[0m\n\u001b[0;32m----> 1\u001b[0;31m \u001b[0mprintResults2\u001b[0m\u001b[0;34m(\u001b[0m\u001b[0mw\u001b[0m\u001b[0;34m,\u001b[0m \u001b[0mdata\u001b[0m\u001b[0;34m)\u001b[0m\u001b[0;34m\u001b[0m\u001b[0m\n\u001b[0m",
      "\u001b[0;32m<ipython-input-208-07d57831c9ab>\u001b[0m in \u001b[0;36mprintResults2\u001b[0;34m(w, data)\u001b[0m\n\u001b[1;32m     24\u001b[0m \u001b[0;31m#плоскость, полученная в результате регрессии\u001b[0m\u001b[0;34m\u001b[0m\u001b[0;34m\u001b[0m\u001b[0m\n\u001b[1;32m     25\u001b[0m \u001b[0;32mdef\u001b[0m \u001b[0mprintResults2\u001b[0m\u001b[0;34m(\u001b[0m\u001b[0mw\u001b[0m\u001b[0;34m,\u001b[0m \u001b[0mdata\u001b[0m\u001b[0;34m)\u001b[0m\u001b[0;34m:\u001b[0m\u001b[0;34m\u001b[0m\u001b[0m\n\u001b[0;32m---> 26\u001b[0;31m     \u001b[0mx\u001b[0m\u001b[0;34m,\u001b[0m \u001b[0my\u001b[0m\u001b[0;34m,\u001b[0m \u001b[0mpp\u001b[0m\u001b[0;34m,\u001b[0m \u001b[0map\u001b[0m \u001b[0;34m=\u001b[0m \u001b[0mgetArrays\u001b[0m\u001b[0;34m(\u001b[0m\u001b[0mw\u001b[0m\u001b[0;34m,\u001b[0m \u001b[0mdata\u001b[0m\u001b[0;34m)\u001b[0m\u001b[0;34m\u001b[0m\u001b[0m\n\u001b[0m\u001b[1;32m     27\u001b[0m     \u001b[0max\u001b[0m \u001b[0;34m=\u001b[0m \u001b[0mAxes3D\u001b[0m\u001b[0;34m(\u001b[0m\u001b[0mplt\u001b[0m\u001b[0;34m.\u001b[0m\u001b[0mfigure\u001b[0m\u001b[0;34m(\u001b[0m\u001b[0;34m)\u001b[0m\u001b[0;34m)\u001b[0m\u001b[0;34m\u001b[0m\u001b[0m\n\u001b[1;32m     28\u001b[0m     \u001b[0mx_surf\u001b[0m\u001b[0;34m=\u001b[0m\u001b[0mnp\u001b[0m\u001b[0;34m.\u001b[0m\u001b[0marange\u001b[0m\u001b[0;34m(\u001b[0m\u001b[0;36m0\u001b[0m\u001b[0;34m,\u001b[0m \u001b[0;36m5000\u001b[0m\u001b[0;34m,\u001b[0m \u001b[0;36m50\u001b[0m\u001b[0;34m)\u001b[0m\u001b[0;34m\u001b[0m\u001b[0m\n",
      "\u001b[0;32m<ipython-input-208-07d57831c9ab>\u001b[0m in \u001b[0;36mgetArrays\u001b[0;34m(w, data)\u001b[0m\n\u001b[1;32m      6\u001b[0m     \u001b[0map\u001b[0m \u001b[0;34m=\u001b[0m \u001b[0mlist\u001b[0m\u001b[0;34m(\u001b[0m\u001b[0;34m)\u001b[0m\u001b[0;34m\u001b[0m\u001b[0m\n\u001b[1;32m      7\u001b[0m     \u001b[0;32mfor\u001b[0m \u001b[0md\u001b[0m \u001b[0;32min\u001b[0m \u001b[0mdata\u001b[0m\u001b[0;34m:\u001b[0m\u001b[0;34m\u001b[0m\u001b[0m\n\u001b[0;32m----> 8\u001b[0;31m         \u001b[0mpp\u001b[0m\u001b[0;34m.\u001b[0m\u001b[0mappend\u001b[0m\u001b[0;34m(\u001b[0m\u001b[0mpredictPrice2\u001b[0m\u001b[0;34m(\u001b[0m\u001b[0md\u001b[0m\u001b[0;34m[\u001b[0m\u001b[0;36m0\u001b[0m\u001b[0;34m]\u001b[0m\u001b[0;34m,\u001b[0m \u001b[0md\u001b[0m\u001b[0;34m[\u001b[0m\u001b[0;36m1\u001b[0m\u001b[0;34m]\u001b[0m\u001b[0;34m,\u001b[0m \u001b[0mw\u001b[0m\u001b[0;34m)\u001b[0m\u001b[0;34m)\u001b[0m\u001b[0;34m\u001b[0m\u001b[0m\n\u001b[0m\u001b[1;32m      9\u001b[0m         \u001b[0map\u001b[0m\u001b[0;34m.\u001b[0m\u001b[0mappend\u001b[0m\u001b[0;34m(\u001b[0m\u001b[0mactualPrice\u001b[0m\u001b[0;34m[\u001b[0m\u001b[0;34m(\u001b[0m\u001b[0md\u001b[0m\u001b[0;34m[\u001b[0m\u001b[0;36m0\u001b[0m\u001b[0;34m]\u001b[0m\u001b[0;34m,\u001b[0m \u001b[0md\u001b[0m\u001b[0;34m[\u001b[0m\u001b[0;36m1\u001b[0m\u001b[0;34m]\u001b[0m\u001b[0;34m)\u001b[0m\u001b[0;34m]\u001b[0m\u001b[0;34m)\u001b[0m\u001b[0;34m\u001b[0m\u001b[0m\n\u001b[1;32m     10\u001b[0m     \u001b[0;32mreturn\u001b[0m \u001b[0mx\u001b[0m\u001b[0;34m,\u001b[0m \u001b[0my\u001b[0m\u001b[0;34m,\u001b[0m \u001b[0mpp\u001b[0m\u001b[0;34m,\u001b[0m \u001b[0map\u001b[0m\u001b[0;34m\u001b[0m\u001b[0m\n",
      "\u001b[0;32m<ipython-input-210-f10e49e4c53d>\u001b[0m in \u001b[0;36mpredictPrice2\u001b[0;34m(area, rooms, w)\u001b[0m\n\u001b[1;32m      5\u001b[0m \u001b[0;34m\u001b[0m\u001b[0m\n\u001b[1;32m      6\u001b[0m \u001b[0;32mdef\u001b[0m \u001b[0mpredictPrice2\u001b[0m\u001b[0;34m(\u001b[0m\u001b[0marea\u001b[0m\u001b[0;34m,\u001b[0m \u001b[0mrooms\u001b[0m\u001b[0;34m,\u001b[0m \u001b[0mw\u001b[0m\u001b[0;34m)\u001b[0m\u001b[0;34m:\u001b[0m\u001b[0;34m\u001b[0m\u001b[0m\n\u001b[0;32m----> 7\u001b[0;31m     \u001b[0marea\u001b[0m\u001b[0;34m,\u001b[0m \u001b[0mrooms\u001b[0m \u001b[0;34m=\u001b[0m \u001b[0mnormalize\u001b[0m\u001b[0;34m(\u001b[0m\u001b[0marea\u001b[0m\u001b[0;34m,\u001b[0m \u001b[0mrooms\u001b[0m\u001b[0;34m)\u001b[0m\u001b[0;34m\u001b[0m\u001b[0m\n\u001b[0m\u001b[1;32m      8\u001b[0m     \u001b[0;32mreturn\u001b[0m \u001b[0marea\u001b[0m \u001b[0;34m*\u001b[0m \u001b[0mw\u001b[0m\u001b[0;34m[\u001b[0m\u001b[0;36m0\u001b[0m\u001b[0;34m]\u001b[0m \u001b[0;34m+\u001b[0m \u001b[0mrooms\u001b[0m \u001b[0;34m*\u001b[0m \u001b[0mw\u001b[0m\u001b[0;34m[\u001b[0m\u001b[0;36m1\u001b[0m\u001b[0;34m]\u001b[0m \u001b[0;34m+\u001b[0m \u001b[0mw\u001b[0m\u001b[0;34m[\u001b[0m\u001b[0;36m2\u001b[0m\u001b[0;34m]\u001b[0m\u001b[0;34m\u001b[0m\u001b[0m\n\u001b[1;32m      9\u001b[0m \u001b[0;34m\u001b[0m\u001b[0m\n",
      "\u001b[0;32m<ipython-input-203-ce5cb58bf2a6>\u001b[0m in \u001b[0;36mnormalize\u001b[0;34m(area, room)\u001b[0m\n\u001b[1;32m     37\u001b[0m \u001b[0mmax_rooms\u001b[0m \u001b[0;34m=\u001b[0m \u001b[0mmax\u001b[0m\u001b[0;34m(\u001b[0m\u001b[0mff_rooms\u001b[0m\u001b[0;34m)\u001b[0m\u001b[0;34m\u001b[0m\u001b[0m\n\u001b[1;32m     38\u001b[0m \u001b[0;32mdef\u001b[0m \u001b[0mnormalize\u001b[0m\u001b[0;34m(\u001b[0m\u001b[0marea\u001b[0m\u001b[0;34m,\u001b[0m \u001b[0mroom\u001b[0m\u001b[0;34m)\u001b[0m\u001b[0;34m:\u001b[0m\u001b[0;34m\u001b[0m\u001b[0m\n\u001b[0;32m---> 39\u001b[0;31m     \u001b[0;32mreturn\u001b[0m \u001b[0;34m(\u001b[0m\u001b[0marea\u001b[0m \u001b[0;34m-\u001b[0m \u001b[0mmin_area\u001b[0m\u001b[0;34m)\u001b[0m \u001b[0;34m/\u001b[0m \u001b[0;34m(\u001b[0m\u001b[0mmax_area\u001b[0m \u001b[0;34m-\u001b[0m \u001b[0mmin_area\u001b[0m\u001b[0;34m)\u001b[0m\u001b[0;34m,\u001b[0m \u001b[0;34m(\u001b[0m\u001b[0mroom\u001b[0m \u001b[0;34m-\u001b[0m \u001b[0mmin_rooms\u001b[0m\u001b[0;34m)\u001b[0m \u001b[0;34m/\u001b[0m \u001b[0;34m(\u001b[0m\u001b[0mmax_rooms\u001b[0m \u001b[0;34m-\u001b[0m \u001b[0mmin_rooms\u001b[0m\u001b[0;34m)\u001b[0m\u001b[0;34m\u001b[0m\u001b[0m\n\u001b[0m",
      "\u001b[0;31mTypeError\u001b[0m: unsupported operand type(s) for -: 'int' and 'list'"
     ]
    }
   ],
   "source": [
    "printResults2(w, data)"
   ]
  },
  {
   "cell_type": "code",
   "execution_count": 62,
   "metadata": {},
   "outputs": [
    {
     "name": "stdout",
     "output_type": "stream",
     "text": [
      "area:  100  rooms:  1\n",
      "gradient:  44601.6109425326\n",
      "genetics:  94780.9578454603\n"
     ]
    }
   ],
   "source": [
    "extra_points = [(100, 1)]\n",
    "\n",
    "for area, rooms in extra_points:\n",
    "    print('area: ', area, ' rooms: ', rooms)\n",
    "    print('gradient: ', predictPrice(area, rooms, w))\n",
    "    print('genetics: ', predictPrice(area, rooms, w_evolution))"
   ]
  },
  {
   "cell_type": "code",
   "execution_count": null,
   "metadata": {
    "collapsed": true
   },
   "outputs": [],
   "source": []
  }
 ],
 "metadata": {
  "kernelspec": {
   "display_name": "Python 3",
   "language": "python",
   "name": "python3"
  },
  "language_info": {
   "codemirror_mode": {
    "name": "ipython",
    "version": 3
   },
   "file_extension": ".py",
   "mimetype": "text/x-python",
   "name": "python",
   "nbconvert_exporter": "python",
   "pygments_lexer": "ipython3",
   "version": "3.6.1"
  }
 },
 "nbformat": 4,
 "nbformat_minor": 1
}
