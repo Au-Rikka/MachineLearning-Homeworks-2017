{
 "cells": [
  {
   "cell_type": "code",
   "execution_count": null,
   "metadata": {
    "collapsed": true
   },
   "outputs": [],
   "source": [
    "%autosave 15\n",
    "%matplotlib inline\n",
    "\n",
    "import numpy as np\n",
    "import scipy as sp\n",
    "import pandas as pd\n",
    "import math\n",
    "import random\n",
    "\n",
    "from mpl_toolkits.mplot3d import Axes3D\n",
    "import matplotlib.pyplot as plt\n",
    "from IPython.display import display, HTML"
   ]
  },
  {
   "cell_type": "code",
   "execution_count": null,
   "metadata": {
    "collapsed": true
   },
   "outputs": [],
   "source": [
    "def getData():\n",
    "    fin = open('prices.txt', 'r')\n",
    "    lines = fin.readlines()\n",
    "    fin.close()\n",
    "    \n",
    "    actualPrice = dict()\n",
    "    data = list()\n",
    "    \n",
    "    for area, rooms, price in [map(int, x.split(',')) for x in lines[1:]]:\n",
    "        data.append((area, rooms))\n",
    "        actualPrice[(area, rooms)] = price\n",
    "    \n",
    "    return (data, actualPrice)\n",
    "\n",
    "data, actualPrice = getData()"
   ]
  },
  {
   "cell_type": "code",
   "execution_count": null,
   "metadata": {
    "collapsed": true
   },
   "outputs": [],
   "source": [
    "def k_fold_cv(k, length):\n",
    "    one_fold_length = length // k\n",
    "    others = length % k\n",
    "    indexies = [i for i in range(length)]\n",
    "    result = list()\n",
    "    for i in range(k):\n",
    "        test_suit = list()\n",
    "        train_suit = list()\n",
    "\n",
    "        for j in range(one_fold_length):\n",
    "            index = indexies[int(np.random.uniform(0, len(indexies))) % len(indexies)]\n",
    "            test_suit.append(index)\n",
    "            indexies.remove(index)\n",
    "        if others > 0:\n",
    "            others -= 1\n",
    "            index = indexies[int(np.random.uniform(0, len(indexies))) % len(indexies)]\n",
    "            test_suit.append(index)\n",
    "            indexies.remove(index)\n",
    "        \n",
    "        for j in range(length):\n",
    "            if j not in test_suit:\n",
    "                train_suit.append(j)\n",
    "        \n",
    "        result.append((train_suit, test_suit))\n",
    "    return result"
   ]
  },
  {
   "cell_type": "code",
   "execution_count": null,
   "metadata": {
    "collapsed": true
   },
   "outputs": [],
   "source": [
    "# w - вектор коэффициентов [area, rooms, free]\n",
    "def standardDeviation(data, w, actualPrice):\n",
    "    sum = 0\n",
    "    for area, rooms in data:\n",
    "        pp = area * w[0] + rooms * w[1] + w[2]\n",
    "        ap = actualPrice[(area, rooms)]\n",
    "        sum += (pp - ap) ** 2\n",
    "    res = (sum / len(data)) ** 0.5\n",
    "    return res"
   ]
  },
  {
   "cell_type": "code",
   "execution_count": null,
   "metadata": {
    "collapsed": true
   },
   "outputs": [],
   "source": [
    "# w0 - вектор начальных коэффициентов [area, rooms, free]\n",
    "\n",
    "# step - размер шага \n",
    "# маленький шаг - медленно, большой - есть шанс застрять, не доходя до минимума (и даже удаляться от него))\n",
    "\n",
    "# eps - критерий_остановки (разность между векторами, полученными в соседних шагах)\n",
    "# ??? проверить критерий остановки\n",
    "def gradient(w0, step, eps):\n",
    "    w = w0\n",
    "    while True:\n",
    "        w1 =\n",
    "        diff = sum([(w1[i] - w[i]) ** 2 for i in range(len(w))]) ** 0.5\n",
    "        if (diff < eps):\n",
    "            return w1"
   ]
  },
  {
   "cell_type": "code",
   "execution_count": null,
   "metadata": {
    "collapsed": true
   },
   "outputs": [],
   "source": [
    "def predict_class(k, metric, learn_suit, classes, point, kernel):\n",
    "    distances = [(metric(l_point, point), l_point) for l_point in learn_suit]\n",
    "    distances.sort()\n",
    "    \n",
    "    d = distances[k][0]\n",
    "    if (d == 0):\n",
    "        d = 1\n",
    "    \n",
    "    s = [0, 0]\n",
    "    for j in range(k):\n",
    "        dist, p = distances[j]\n",
    "        s[int(classes[p])] += kernel(dist / d)\n",
    "        \n",
    "    if (s[0] > s[1]):\n",
    "        return 0\n",
    "    else:\n",
    "        return 1"
   ]
  },
  {
   "cell_type": "code",
   "execution_count": null,
   "metadata": {
    "collapsed": true
   },
   "outputs": [],
   "source": [
    "def kNN(metric, data, classes, kernel, cv_params = (1, 10)):\n",
    "    \n",
    "    def compute_score(k, train_suit, test_suit):\n",
    "        true_positive = [0, 0]\n",
    "        false_positive = [0, 0]\n",
    "        all_points = [0, 0]\n",
    "\n",
    "        for point in test_suit:\n",
    "            predicted = predict_class(k, metric, train_suit, classes, point, kernel)\n",
    "            real_class = int(classes[point])\n",
    "            \n",
    "            if predicted == real_class:\n",
    "                true_positive[predicted] += 1\n",
    "            else:\n",
    "                false_positive[predicted] += 1\n",
    "            all_points[real_class] += 1\n",
    "                \n",
    "        if true_positive[1] > 0:\n",
    "            recall = true_positive[1] / all_points[1]\n",
    "            precision = true_positive[1] / (true_positive[1] + false_positive[1])\n",
    "            # F1 measure\n",
    "            return 2 * (precision * recall) / (precision + recall)\n",
    "        return 0\n",
    "\n",
    "\n",
    "    tfold, kfold = cv_params\n",
    "    max_neighbors = 0\n",
    "    max_score = 0\n",
    "    for neighbors in range(2, int(np.sqrt(len(data)))):\n",
    "        average_score = 0\n",
    "        for i in range(tfold):\n",
    "            kfold_index = k_fold_cv(kfold, len(data))\n",
    "            score = 0\n",
    "            for train_suit, test_suit in kfold_index:\n",
    "                training_suit = [data[i] for i in train_suit]\n",
    "                testing_suit = [data[i] for i in test_suit]\n",
    "                score += compute_score(neighbors, training_suit, testing_suit)\n",
    "            average_score += score\n",
    "        \n",
    "        average_score /= (tfold * kfold)\n",
    "        \n",
    "        if average_score > max_score:\n",
    "            max_neighbors = neighbors\n",
    "            max_score = average_score\n",
    "    \n",
    "    return (max_neighbors, max_score)"
   ]
  },
  {
   "cell_type": "code",
   "execution_count": null,
   "metadata": {
    "collapsed": true,
    "scrolled": false
   },
   "outputs": [],
   "source": [
    "results = pd.DataFrame(columns=['k', 'metric', 'accuracy'])\n",
    "\n",
    "\n",
    "best_accuracy = 0\n",
    "best_kernel   = None\n",
    "best_metric   = None\n",
    "best_data     = None\n",
    "best_neighbor = None\n",
    "best_kfold = None\n",
    "\n",
    "pd.set_option('display.height', 250)\n",
    "pd.set_option('display.max_rows', 250)\n",
    "\n",
    "for kfold in range(5, 11):\n",
    "    for kernel in kernels:\n",
    "        for metric in metrics:\n",
    "            for input_data, classes, transform_name, transform in data:\n",
    "                k, accuracy = (kNN(metric, input_data, classes, kernel[0], (1, kfold)))\n",
    "                raw = pd.DataFrame([[kfold, k, metric_names[metric], transform_name, accuracy, kernel[1]]], columns=['folds', 'k', 'metric', 'transformation name', 'accuracy', 'kernel'])\n",
    "                results = results.append(raw, ignore_index=True)\n",
    "            \n",
    "                if accuracy > best_accuracy:\n",
    "                    best_accuracy = accuracy\n",
    "                    best_kernel = kernel[0]\n",
    "                    best_metric = metric\n",
    "                    best_data = (input_data, classes, transform)\n",
    "                    best_neighbor = k\n",
    "                    best_kfold = kfold\n",
    "                \n",
    "                    best_string = str(accuracy) + ', ' + str(k) + ', ' + kernel[1] + ', ' + metric_names[metric] + \", \" + transform_name + \" folds: \" + str(best_kfold)\n",
    "\n",
    "display(results)"
   ]
  },
  {
   "cell_type": "code",
   "execution_count": null,
   "metadata": {
    "collapsed": true
   },
   "outputs": [],
   "source": []
  }
 ],
 "metadata": {
  "kernelspec": {
   "display_name": "Python 3",
   "language": "python",
   "name": "python3"
  },
  "language_info": {
   "codemirror_mode": {
    "name": "ipython",
    "version": 3
   },
   "file_extension": ".py",
   "mimetype": "text/x-python",
   "name": "python",
   "nbconvert_exporter": "python",
   "pygments_lexer": "ipython3",
   "version": "3.6.1"
  }
 },
 "nbformat": 4,
 "nbformat_minor": 1
}
