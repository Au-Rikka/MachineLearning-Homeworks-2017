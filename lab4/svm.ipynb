{
 "cells": [
  {
   "cell_type": "code",
   "execution_count": null,
   "metadata": {},
   "outputs": [],
   "source": [
    "# Требуется написать SVM без библиотек\n",
    "# посчитать у него f-меру и confusion матрицу. \n",
    "# Разобраться в том, что такое критерий Вилкоксона, и сравнить с его помощью kNN и SVM, посчитать p-value. \n",
    "# Всё это на старом наборе данных chips.txt из первой лабы.  \n",
    "\n",
    "# Уметь отвечать на любую теорию, как про SVM, так и про статистический тест."
   ]
  },
  {
   "cell_type": "code",
   "execution_count": null,
   "metadata": {},
   "outputs": [],
   "source": [
    "%autosave 15\n",
    "%matplotlib inline\n",
    "\n",
    "import numpy as np\n",
    "import scipy as sp\n",
    "import pandas as pd\n",
    "import math\n",
    "import random\n",
    "\n",
    "from mpl_toolkits.mplot3d import Axes3D\n",
    "import matplotlib.pyplot as plt\n",
    "from IPython.display import display, HTML"
   ]
  },
  {
   "cell_type": "code",
   "execution_count": 20,
   "metadata": {},
   "outputs": [
    {
     "name": "stdout",
     "output_type": "stream",
     "text": [
      "118\n"
     ]
    }
   ],
   "source": [
    "def getData():\n",
    "    fin = open('chips.txt', 'r')\n",
    "    lines = fin.readlines()\n",
    "    fin.close()\n",
    "    \n",
    "    classes = dict()\n",
    "    data = list()\n",
    "    \n",
    "    for x, y, z in [map(float, x.split(',')) for x in lines]:\n",
    "        data.append((x, y))\n",
    "        classes[(x, y)] = z\n",
    "    \n",
    "    return (data, classes)\n",
    "\n",
    "originData, trueClasses = getData()"
   ]
  },
  {
   "cell_type": "code",
   "execution_count": null,
   "metadata": {
    "collapsed": true
   },
   "outputs": [],
   "source": [
    "def printAllPoints(data, classes):\n",
    "    green = [[], []]\n",
    "    blue = [[], []]\n",
    "    for (x, y) in data:\n",
    "        if (classes[(x, y)] == 0):\n",
    "            green[0].append(x)\n",
    "            green[1].append(y)\n",
    "        else:\n",
    "            blue[0].append(x)\n",
    "            blue[1].append(y)\n",
    "    plt.plot(green[0], green[1], 'g.', blue[0], blue[1], 'b.')"
   ]
  },
  {
   "cell_type": "code",
   "execution_count": null,
   "metadata": {
    "collapsed": true
   },
   "outputs": [],
   "source": []
  },
  {
   "cell_type": "code",
   "execution_count": null,
   "metadata": {
    "collapsed": true
   },
   "outputs": [],
   "source": [
    "def getConfusion(pClasses):\n",
    "    true_positive = [0, 0]\n",
    "    false_positive = [0, 0]\n",
    "    \n",
    "    for point in originData:\n",
    "        trueClass = trueClasses[point]\n",
    "        predictedClass = pClasses[point]\n",
    "        \n",
    "        if predicted == real_class:\n",
    "            true_positive[predicted] += 1\n",
    "        else:\n",
    "            false_positive[predicted] += 1\n",
    "    \n",
    "    return (true_positive, false_negative)\n",
    "    \n",
    "    \n",
    "\n",
    "def getF1Score(true_positive, false_positive):\n",
    "    all_points = [0, 0]\n",
    "    all_points[0] = true_positive[0] + false_positive[1]\n",
    "    all_points[1] = true_positive[1] + false_positive[0]\n",
    "       \n",
    "    if true_positive[1] > 0:\n",
    "        recall = true_positive[1] / all_points[1]\n",
    "        precision = true_positive[1] / (true_positive[1] + false_positive[1])\n",
    "        # F1 measure\n",
    "        return 2 * (precision * recall) / (precision + recall)\n",
    "    return 0"
   ]
  },
  {
   "cell_type": "code",
   "execution_count": null,
   "metadata": {
    "collapsed": true
   },
   "outputs": [],
   "source": [
    "# H0: difference between predicted classes follows a symmetric distribution around zero\n",
    "# H1: difference between predicted does not follow a symmetric distribution around zero.\n",
    "\n",
    "# reference link: https://en.wikipedia.org/wiki/Wilcoxon_signed-rank_test\n",
    "\n",
    "def getWilcoxonRank(clases1, classes2):\n",
    "    diff = 0\n",
    "    n = 0\n",
    "    for point in originData: \n",
    "        diff += classes1[point] - classes2[point]\n",
    "        if (classes1[point] - classes2[point] != 0):\n",
    "            n += 1\n",
    "    \n",
    "    # two-sided, for one-sided should count only + or - values\n",
    "    \n",
    "    diff *= (n + 1) / 2  # домножаем на ранг. все значения по модулю = 1 => ранг каждого - (1 + 2 + .. + n) / n \n",
    "    \n",
    "    \n",
    "    #Find the \"area beyond z\", using a table of areas under the normal curve (such as the one on my website). \n",
    "    #The area beyond z = 0.0099. \n",
    "    #In other words, values of W as large as ours are likely to occur by chance with a probability of 0.0099. \n",
    "    #This is the one-tailed probability of obtaining W however; \n",
    "    # we were merely seeing whether there was a difference in the ratings of Ant and Dec (a two-tailed, or non-directional, hypothesis), \n",
    "    # so we need to multiply this probability by 2, to get p = .019, which rounds to p = .02.\n",
    "    \n",
    "    if (n > 20):\n",
    "        # z_score\n",
    "        mean = n * (n + 1) / 4\n",
    "        sd = (n * (n + 1) * (2 * n + 1) / 24) ** 0.5\n",
    "        zScore = (diff - mean) / sd\n",
    "        print(\"ZScore: \", zScore)\n",
    "    else:\n",
    "        # ok\n",
    "        print(\"WScore: \", wScore)"
   ]
  },
  {
   "cell_type": "code",
   "execution_count": null,
   "metadata": {},
   "outputs": [],
   "source": [
    "def k_fold_cv():\n",
    "    cData = originData[::]\n",
    "    random.shuffle(cData)\n",
    "    foldSize = len(cData) // k\n",
    "    folds = [cData[i * foldSize : min((i + 1) * foldSize, len(cData))] for i in range(k)]\n",
    "    return folds\n",
    "\n",
    "\n",
    "# solution should be a function with two arguments: learningSet, testingSet, which returns dict classes[(x, y)]\n",
    "def getResult(solution):\n",
    "    predictedClasses = dict()\n",
    "    \n",
    "    folds = k_fold_cv()\n",
    "    \n",
    "    for i in range(len(folds)):\n",
    "        learningSet = folds[0:i] + folds[i + 1:]\n",
    "        testingSet = folds[i:i + 1] \n",
    "        predictedClasses.update(solve(learingSet, testingSet))\n",
    "    \n",
    "    tp, fp = getConfusion(predictedClasses)\n",
    "    f1 = getF1Score((tp, fp))\n",
    "    \n",
    "    return predictedClasses, (tp, fp), getF1Score(predictedClasses)"
   ]
  },
  {
   "cell_type": "code",
   "execution_count": null,
   "metadata": {
    "collapsed": true
   },
   "outputs": [],
   "source": []
  },
  {
   "cell_type": "code",
   "execution_count": null,
   "metadata": {
    "collapsed": true
   },
   "outputs": [],
   "source": []
  },
  {
   "cell_type": "code",
   "execution_count": null,
   "metadata": {
    "collapsed": true
   },
   "outputs": [],
   "source": []
  },
  {
   "cell_type": "code",
   "execution_count": null,
   "metadata": {
    "collapsed": true
   },
   "outputs": [],
   "source": []
  },
  {
   "cell_type": "code",
   "execution_count": null,
   "metadata": {
    "collapsed": true
   },
   "outputs": [],
   "source": []
  },
  {
   "cell_type": "code",
   "execution_count": null,
   "metadata": {
    "collapsed": true
   },
   "outputs": [],
   "source": []
  },
  {
   "cell_type": "code",
   "execution_count": null,
   "metadata": {
    "collapsed": true
   },
   "outputs": [],
   "source": [
    "def toPolar(x, y, x0, y0):\n",
    "    x, y = x - x0, y - y0\n",
    "    r = (x ** 2 + y ** 2) ** (1 / 2)\n",
    "    a = math.atan2(x, y)\n",
    "    return (r, a)\n",
    "\n",
    "def getCenter():\n",
    "    fin = open('chips.txt', 'r')\n",
    "    lines = fin.readlines()\n",
    "    fin.close()\n",
    "\n",
    "    x0, y0 = 0, 0\n",
    "    for x, y, z in [map(float, x.split(',')) for x in lines]:\n",
    "        x0 += x\n",
    "        y0 += y\n",
    "    x0 = x0 / len(lines)\n",
    "    y0 = y0 / len(lines)\n",
    "    \n",
    "    return (x0, y0)"
   ]
  },
  {
   "cell_type": "code",
   "execution_count": null,
   "metadata": {
    "collapsed": true
   },
   "outputs": [],
   "source": [
    "simpleData = get_data(lambda x, y:(x, y), '-')\n",
    "sumData = get_data(lambda x, y:(x, x + y), 'x, y -> x, x + y')\n",
    "polarData = get_data(lambda x, y: toPolar(x, y, 0, 0), 'polar(0, 0)')\n",
    "\n",
    "center = getCenter()\n",
    "polarData2 = get_data(lambda x, y: toPolar(x, y, center[0], center[1]), 'polar(center_x, center_y)')\n",
    "\n",
    "\n",
    "\n",
    "wideData = get_data(lambda x, y: (toPolar(x, y, center[0], center[1])[0] * 10, \n",
    "                           toPolar(x, y, center[0], center[1])[0] + toPolar(x, y, center[0], center[1])[1]\n",
    "                          ), \n",
    "             'wide')\n",
    "printAllPoints(wideData[0], wideData[1])\n",
    "\n",
    "\n",
    "data = [simpleData, sumData, polarData, polarData2, wideData]"
   ]
  },
  {
   "cell_type": "code",
   "execution_count": null,
   "metadata": {
    "collapsed": true
   },
   "outputs": [],
   "source": [
    "printAllPoints(wideData[0], wideData[1])"
   ]
  },
  {
   "cell_type": "code",
   "execution_count": null,
   "metadata": {
    "collapsed": true
   },
   "outputs": [],
   "source": [
    "printAllPoints(simpleData[0], simpleData[1])"
   ]
  },
  {
   "cell_type": "code",
   "execution_count": null,
   "metadata": {
    "collapsed": true
   },
   "outputs": [],
   "source": [
    "printAllPoints(sumData[0], sumData[1])"
   ]
  },
  {
   "cell_type": "code",
   "execution_count": null,
   "metadata": {
    "collapsed": true
   },
   "outputs": [],
   "source": [
    "printAllPoints(polarData[0], polarData[1])"
   ]
  },
  {
   "cell_type": "code",
   "execution_count": null,
   "metadata": {
    "collapsed": true
   },
   "outputs": [],
   "source": [
    "printAllPoints(polarData2[0], polarData2[1])"
   ]
  },
  {
   "cell_type": "code",
   "execution_count": null,
   "metadata": {
    "collapsed": true
   },
   "outputs": [],
   "source": [
    "def minkowskiDistance(x, y, p):\n",
    "    res = 0\n",
    "    for i in range(len(x)):\n",
    "        res += abs(x[i] - y[i]) ** p\n",
    "    return res ** (1 / p)\n",
    "\n",
    "# https://en.wikipedia.org/wiki/Cosine_similarity\n",
    "def cosineSimilarity(x, y):\n",
    "    res, a, b = 0, 0, 0\n",
    "    for i in range(len(x)):\n",
    "        res += x[i] * y[i]\n",
    "        a += x[i] ** 2\n",
    "        b += y[i] ** 2\n",
    "    a = a ** (1 / 2)\n",
    "    b = b ** (1 / 2)\n",
    "    return res / a / b\n",
    "    \n",
    "\n",
    "metrics = [lambda x, y: minkowskiDistance(x, y, 1), \n",
    "           lambda x, y: minkowskiDistance(x, y, 2)\n",
    "          ]\n",
    "#lambda x, y: cosineSimilarity(x, y)]    \n",
    "\n",
    "metric_names = dict()\n",
    "metric_names[metrics[0]] = 'minkowski with p = 1'\n",
    "metric_names[metrics[1]] = 'minkowski with p = 2'\n",
    "#metric_names[metrics[2]] = 'cosine'\n",
    "\n",
    "#for metric in metrics:\n",
    "#    print(metric((1, 1), (2, 2)))"
   ]
  },
  {
   "cell_type": "code",
   "execution_count": null,
   "metadata": {
    "collapsed": true
   },
   "outputs": [],
   "source": [
    "def k_fold_cv(k, length):\n",
    "    one_fold_length = length // k\n",
    "    others = length % k\n",
    "    indexies = [i for i in range(length)]\n",
    "    result = list()\n",
    "    for i in range(k):\n",
    "        test_suit = list()\n",
    "        train_suit = list()\n",
    "\n",
    "        for j in range(one_fold_length):\n",
    "            index = indexies[int(np.random.uniform(0, len(indexies))) % len(indexies)]\n",
    "            test_suit.append(index)\n",
    "            indexies.remove(index)\n",
    "        if others > 0:\n",
    "            others -= 1\n",
    "            index = indexies[int(np.random.uniform(0, len(indexies))) % len(indexies)]\n",
    "            test_suit.append(index)\n",
    "            indexies.remove(index)\n",
    "        \n",
    "        for j in range(length):\n",
    "            if j not in test_suit:\n",
    "                train_suit.append(j)\n",
    "        \n",
    "        result.append((train_suit, test_suit))\n",
    "    return result"
   ]
  },
  {
   "cell_type": "code",
   "execution_count": null,
   "metadata": {
    "collapsed": true
   },
   "outputs": [],
   "source": [
    "def predict_class(k, metric, learn_suit, classes, point, kernel):\n",
    "    distances = [(metric(l_point, point), l_point) for l_point in learn_suit]\n",
    "    distances.sort()\n",
    "    \n",
    "    d = distances[k][0]\n",
    "    if (d == 0):\n",
    "        d = 1\n",
    "    \n",
    "    s = [0, 0]\n",
    "    for j in range(k):\n",
    "        dist, p = distances[j]\n",
    "        s[int(classes[p])] += kernel(dist / d)\n",
    "        \n",
    "    if (s[0] > s[1]):\n",
    "        return 0\n",
    "    else:\n",
    "        return 1"
   ]
  },
  {
   "cell_type": "code",
   "execution_count": null,
   "metadata": {
    "collapsed": true
   },
   "outputs": [],
   "source": [
    "def kNN(metric, data, classes, kernel, cv_params = (1, 10)):\n",
    "    \n",
    "    def compute_score(k, train_suit, test_suit):\n",
    "        true_positive = [0, 0]\n",
    "        false_positive = [0, 0]\n",
    "        all_points = [0, 0]\n",
    "\n",
    "        for point in test_suit:\n",
    "            predicted = predict_class(k, metric, train_suit, classes, point, kernel)\n",
    "            real_class = int(classes[point])\n",
    "            \n",
    "            if predicted == real_class:\n",
    "                true_positive[predicted] += 1\n",
    "            else:\n",
    "                false_positive[predicted] += 1\n",
    "            all_points[real_class] += 1\n",
    "                \n",
    "        if true_positive[1] > 0:\n",
    "            recall = true_positive[1] / all_points[1]\n",
    "            precision = true_positive[1] / (true_positive[1] + false_positive[1])\n",
    "            # F1 measure\n",
    "            return 2 * (precision * recall) / (precision + recall)\n",
    "        return 0\n",
    "\n",
    "\n",
    "    tfold, kfold = cv_params\n",
    "    max_neighbors = 0\n",
    "    max_score = 0\n",
    "    for neighbors in range(2, int(np.sqrt(len(data)))):\n",
    "        average_score = 0\n",
    "        for i in range(tfold):\n",
    "            kfold_index = k_fold_cv(kfold, len(data))\n",
    "            score = 0\n",
    "            for train_suit, test_suit in kfold_index:\n",
    "                training_suit = [data[i] for i in train_suit]\n",
    "                testing_suit = [data[i] for i in test_suit]\n",
    "                score += compute_score(neighbors, training_suit, testing_suit)\n",
    "            average_score += score\n",
    "        \n",
    "        average_score /= (tfold * kfold)\n",
    "        \n",
    "        if average_score > max_score:\n",
    "            max_neighbors = neighbors\n",
    "            max_score = average_score\n",
    "    \n",
    "    return (max_neighbors, max_score)"
   ]
  },
  {
   "cell_type": "code",
   "execution_count": null,
   "metadata": {
    "collapsed": true
   },
   "outputs": [],
   "source": [
    "kernels = [\n",
    "    (lambda x: 1 / 2, 'uniform'),\n",
    "    (lambda x: 1 - abs(x), 'triangular'),\n",
    "    (lambda x: 3 / 4 * (1 - x * x), 'parabolic'),\n",
    "    (lambda x: (1 - x ** 2) ** 2 * 15 / 16, 'quartic')\n",
    "]"
   ]
  },
  {
   "cell_type": "code",
   "execution_count": null,
   "metadata": {
    "collapsed": true,
    "scrolled": false
   },
   "outputs": [],
   "source": [
    "results = pd.DataFrame(columns=['k', 'metric', 'accuracy'])\n",
    "\n",
    "\n",
    "best_accuracy = 0\n",
    "best_kernel   = None\n",
    "best_metric   = None\n",
    "best_data     = None\n",
    "best_neighbor = None\n",
    "best_kfold = None\n",
    "\n",
    "pd.set_option('display.height', 250)\n",
    "pd.set_option('display.max_rows', 250)\n",
    "\n",
    "for kfold in range(5, 11):\n",
    "    for kernel in kernels:\n",
    "        for metric in metrics:\n",
    "            for input_data, classes, transform_name, transform in data:\n",
    "                k, accuracy = (kNN(metric, input_data, classes, kernel[0], (1, kfold)))\n",
    "                raw = pd.DataFrame([[kfold, k, metric_names[metric], transform_name, accuracy, kernel[1]]], columns=['folds', 'k', 'metric', 'transformation name', 'accuracy', 'kernel'])\n",
    "                results = results.append(raw, ignore_index=True)\n",
    "            \n",
    "                if accuracy > best_accuracy:\n",
    "                    best_accuracy = accuracy\n",
    "                    best_kernel = kernel[0]\n",
    "                    best_metric = metric\n",
    "                    best_data = (input_data, classes, transform)\n",
    "                    best_neighbor = k\n",
    "                    best_kfold = kfold\n",
    "                \n",
    "                    best_string = str(accuracy) + ', ' + str(k) + ', ' + kernel[1] + ', ' + metric_names[metric] + \", \" + transform_name + \" folds: \" + str(best_kfold)\n",
    "\n",
    "display(results)"
   ]
  },
  {
   "cell_type": "code",
   "execution_count": null,
   "metadata": {
    "collapsed": true,
    "scrolled": false
   },
   "outputs": [],
   "source": [
    "green = [[], []]\n",
    "blue = [[], []]\n",
    "\n",
    "for x in np.arange(-1, 1.5, 0.01):\n",
    "    for y in np.arange(-1, 1.5, 0.01):\n",
    "        predicted = predict_class(best_neighbor, best_metric, best_data[0], best_data[1], best_data[2](x, y), best_kernel)\n",
    "\n",
    "        if (predicted == 0):\n",
    "            green[0].append(x)\n",
    "            green[1].append(y)\n",
    "        else:\n",
    "            blue[0].append(x)\n",
    "            blue[1].append(y)\n",
    "\n",
    "plt.title(best_string)\n",
    "plt.plot(green[0], green[1], 'g.', blue[0], blue[1], 'b.')"
   ]
  },
  {
   "cell_type": "code",
   "execution_count": null,
   "metadata": {
    "collapsed": true
   },
   "outputs": [],
   "source": [
    "printAllPoints(simpleData[0], simpleData[1])"
   ]
  },
  {
   "cell_type": "code",
   "execution_count": null,
   "metadata": {
    "collapsed": true
   },
   "outputs": [],
   "source": []
  }
 ],
 "metadata": {
  "kernelspec": {
   "display_name": "Python 3",
   "language": "python",
   "name": "python3"
  },
  "language_info": {
   "codemirror_mode": {
    "name": "ipython",
    "version": 3
   },
   "file_extension": ".py",
   "mimetype": "text/x-python",
   "name": "python",
   "nbconvert_exporter": "python",
   "pygments_lexer": "ipython3",
   "version": "3.6.1"
  }
 },
 "nbformat": 4,
 "nbformat_minor": 1
}
