{
 "cells": [
  {
   "cell_type": "code",
   "execution_count": 1,
   "metadata": {
    "collapsed": false
   },
   "outputs": [
    {
     "data": {
      "application/javascript": [
       "IPython.notebook.set_autosave_interval(15000)"
      ]
     },
     "metadata": {},
     "output_type": "display_data"
    },
    {
     "name": "stdout",
     "output_type": "stream",
     "text": [
      "Autosaving every 15 seconds\n"
     ]
    }
   ],
   "source": [
    "%autosave 15\n",
    "%matplotlib inline\n",
    "\n",
    "import numpy as np\n",
    "import scipy as sp\n",
    "import scipy.optimize as sopt\n",
    "import pandas as pd\n",
    "import math\n",
    "import random\n",
    "\n",
    "from mpl_toolkits.mplot3d import Axes3D\n",
    "import matplotlib.pyplot as plt\n",
    "from IPython.display import display, HTML"
   ]
  },
  {
   "cell_type": "code",
   "execution_count": 2,
   "metadata": {
    "collapsed": true
   },
   "outputs": [],
   "source": [
    "def printAllPoints(data, classes):\n",
    "    green = [[], []]\n",
    "    blue = [[], []]\n",
    "    for (x, y) in data:\n",
    "        if (classes[(x, y)] == 0):\n",
    "            green[0].append(x)\n",
    "            green[1].append(y)\n",
    "        else:\n",
    "            blue[0].append(x)\n",
    "            blue[1].append(y)\n",
    "    plt.plot(green[0], green[1], 'g.', blue[0], blue[1], 'b.')"
   ]
  },
  {
   "cell_type": "code",
   "execution_count": 3,
   "metadata": {
    "collapsed": true
   },
   "outputs": [],
   "source": [
    "def get_data(transform, name):\n",
    "    fin = open('chips.txt', 'r')\n",
    "    lines = fin.readlines()\n",
    "    fin.close()\n",
    "    \n",
    "    classes = dict()\n",
    "    data = list()\n",
    "    \n",
    "    for x, y, z in [map(float, x.split(',')) for x in lines]:\n",
    "        a, b = transform(x, y)\n",
    "        data.append((a, b))\n",
    "        classes[(a, b)] = z\n",
    "    \n",
    "    return (data, classes, name, transform)"
   ]
  },
  {
   "cell_type": "code",
   "execution_count": 4,
   "metadata": {
    "collapsed": true
   },
   "outputs": [],
   "source": [
    "def toPolar(x, y, x0, y0):\n",
    "    x, y = x - x0, y - y0\n",
    "    r = (x ** 2 + y ** 2) ** (1 / 2)\n",
    "    a = math.atan2(x, y)\n",
    "    return (r, a)\n",
    "\n",
    "def getCenter():\n",
    "    fin = open('chips.txt', 'r')\n",
    "    lines = fin.readlines()\n",
    "    fin.close()\n",
    "\n",
    "    x0, y0 = 0, 0\n",
    "    for x, y, z in [map(float, x.split(',')) for x in lines]:\n",
    "        x0 += x\n",
    "        y0 += y\n",
    "    x0 = x0 / len(lines)\n",
    "    y0 = y0 / len(lines)\n",
    "    \n",
    "    return (x0, y0)"
   ]
  },
  {
   "cell_type": "code",
   "execution_count": 5,
   "metadata": {
    "collapsed": false
   },
   "outputs": [
    {
     "data": {
      "image/png": "[encoded data removed]",
      "text/plain": [
       "<matplotlib.figure.Figure at 0x1045e2550>"
      ]
     },
     "metadata": {},
     "output_type": "display_data"
    }
   ],
   "source": [
    "simpleData = get_data(lambda x, y:(x, y), '-')\n",
    "sumData = get_data(lambda x, y:(x, x + y), 'x, y -> x, x + y')\n",
    "polarData = get_data(lambda x, y: toPolar(x, y, 0, 0), 'polar(0, 0)')\n",
    "\n",
    "center = getCenter()\n",
    "polarData2 = get_data(lambda x, y: toPolar(x, y, center[0], center[1]), 'polar(center_x, center_y)')\n",
    "\n",
    "\n",
    "\n",
    "wideData = get_data(lambda x, y: (toPolar(x, y, center[0], center[1])[0] * 10, \n",
    "                           toPolar(x, y, center[0], center[1])[0] + toPolar(x, y, center[0], center[1])[1]\n",
    "                          ), \n",
    "             'wide')\n",
    "printAllPoints(wideData[0], wideData[1])\n",
    "\n",
    "\n",
    "data = [simpleData, sumData, polarData, polarData2, wideData]"
   ]
  },
  {
   "cell_type": "code",
   "execution_count": null,
   "metadata": {
    "collapsed": false
   },
   "outputs": [],
   "source": [
    "printAllPoints(wideData[0], wideData[1])"
   ]
  },
  {
   "cell_type": "code",
   "execution_count": null,
   "metadata": {
    "collapsed": false
   },
   "outputs": [],
   "source": [
    "printAllPoints(simpleData[0], simpleData[1])"
   ]
  },
  {
   "cell_type": "code",
   "execution_count": null,
   "metadata": {
    "collapsed": false
   },
   "outputs": [],
   "source": [
    "printAllPoints(sumData[0], sumData[1])"
   ]
  },
  {
   "cell_type": "code",
   "execution_count": null,
   "metadata": {
    "collapsed": false
   },
   "outputs": [],
   "source": [
    "printAllPoints(polarData[0], polarData[1])"
   ]
  },
  {
   "cell_type": "code",
   "execution_count": null,
   "metadata": {
    "collapsed": false
   },
   "outputs": [],
   "source": [
    "printAllPoints(polarData2[0], polarData2[1])"
   ]
  },
  {
   "cell_type": "code",
   "execution_count": 6,
   "metadata": {
    "collapsed": true
   },
   "outputs": [],
   "source": [
    "def minkowskiDistance(x, y, p):\n",
    "    res = 0\n",
    "    for i in range(len(x)):\n",
    "        res += abs(x[i] - y[i]) ** p\n",
    "    return res ** (1 / p)\n",
    "\n",
    "# https://en.wikipedia.org/wiki/Cosine_similarity\n",
    "def cosineSimilarity(x, y):\n",
    "    res, a, b = 0, 0, 0\n",
    "    for i in range(len(x)):\n",
    "        res += x[i] * y[i]\n",
    "        a += x[i] ** 2\n",
    "        b += y[i] ** 2\n",
    "    a = a ** (1 / 2)\n",
    "    b = b ** (1 / 2)\n",
    "    return res / a / b\n",
    "    \n",
    "\n",
    "metrics = [lambda x, y: minkowskiDistance(x, y, 1), \n",
    "           lambda x, y: minkowskiDistance(x, y, 2)\n",
    "          ]\n",
    "#lambda x, y: cosineSimilarity(x, y)]    \n",
    "\n",
    "metric_names = dict()\n",
    "metric_names[metrics[0]] = 'minkowski with p = 1'\n",
    "metric_names[metrics[1]] = 'minkowski with p = 2'\n",
    "#metric_names[metrics[2]] = 'cosine'\n",
    "\n",
    "#for metric in metrics:\n",
    "#    print(metric((1, 1), (2, 2)))"
   ]
  },
  {
   "cell_type": "code",
   "execution_count": 7,
   "metadata": {
    "collapsed": true
   },
   "outputs": [],
   "source": [
    "def k_fold_cv(k, length):\n",
    "    one_fold_length = length // k\n",
    "    others = length % k\n",
    "    indexies = [i for i in range(length)]\n",
    "    result = list()\n",
    "    for i in range(k):\n",
    "        test_suit = list()\n",
    "        train_suit = list()\n",
    "\n",
    "        for j in range(one_fold_length):\n",
    "            index = indexies[int(np.random.uniform(0, len(indexies))) % len(indexies)]\n",
    "            test_suit.append(index)\n",
    "            indexies.remove(index)\n",
    "        if others > 0:\n",
    "            others -= 1\n",
    "            index = indexies[int(np.random.uniform(0, len(indexies))) % len(indexies)]\n",
    "            test_suit.append(index)\n",
    "            indexies.remove(index)\n",
    "        \n",
    "        for j in range(length):\n",
    "            if j not in test_suit:\n",
    "                train_suit.append(j)\n",
    "        \n",
    "        result.append((train_suit, test_suit))\n",
    "    return result"
   ]
  },
  {
   "cell_type": "code",
   "execution_count": 8,
   "metadata": {
    "collapsed": true
   },
   "outputs": [],
   "source": [
    "def predict_class(k, metric, learn_suit, classes, point, kernel):\n",
    "    distances = [(metric(l_point, point), l_point) for l_point in learn_suit]\n",
    "    distances.sort()\n",
    "    \n",
    "    d = distances[k][0]\n",
    "    if (d == 0):\n",
    "        d = 1\n",
    "    \n",
    "    s = [0, 0]\n",
    "    for j in range(k):\n",
    "        dist, p = distances[j]\n",
    "        s[int(classes[p])] += kernel(dist / d)\n",
    "        \n",
    "    if (s[0] > s[1]):\n",
    "        return 0\n",
    "    else:\n",
    "        return 1"
   ]
  },
  {
   "cell_type": "code",
   "execution_count": 9,
   "metadata": {
    "collapsed": true
   },
   "outputs": [],
   "source": [
    "def kNN(metric, data, classes, kernel, cv_params = (1, 10)):\n",
    "    \n",
    "    def compute_score(k, train_suit, test_suit):\n",
    "        true_positive = [0, 0]\n",
    "        false_positive = [0, 0]\n",
    "        all_points = [0, 0]\n",
    "\n",
    "        for point in test_suit:\n",
    "            predicted = predict_class(k, metric, train_suit, classes, point, kernel)\n",
    "            real_class = int(classes[point])\n",
    "            \n",
    "            if predicted == real_class:\n",
    "                true_positive[predicted] += 1\n",
    "            else:\n",
    "                false_positive[predicted] += 1\n",
    "            all_points[real_class] += 1\n",
    "                \n",
    "        if true_positive[1] > 0:\n",
    "            recall = true_positive[1] / all_points[1]\n",
    "            precision = true_positive[1] / (true_positive[1] + false_positive[1])\n",
    "            # F1 measure\n",
    "            return 2 * (precision * recall) / (precision + recall)\n",
    "        return 0\n",
    "\n",
    "\n",
    "    tfold, kfold = cv_params\n",
    "    max_neighbors = 0\n",
    "    max_score = 0\n",
    "    for neighbors in range(2, int(np.sqrt(len(data)))):\n",
    "        average_score = 0\n",
    "        for i in range(tfold):\n",
    "            kfold_index = k_fold_cv(kfold, len(data))\n",
    "            score = 0\n",
    "            for train_suit, test_suit in kfold_index:\n",
    "                training_suit = [data[i] for i in train_suit]\n",
    "                testing_suit = [data[i] for i in test_suit]\n",
    "                score += compute_score(neighbors, training_suit, testing_suit)\n",
    "            average_score += score\n",
    "        \n",
    "        average_score /= (tfold * kfold)\n",
    "        \n",
    "        if average_score > max_score:\n",
    "            max_neighbors = neighbors\n",
    "            max_score = average_score\n",
    "    \n",
    "    return (max_neighbors, max_score)"
   ]
  },
  {
   "cell_type": "code",
   "execution_count": 10,
   "metadata": {
    "collapsed": true
   },
   "outputs": [],
   "source": [
    "kernels = [\n",
    "    (lambda x: 1 / 2, 'uniform'),\n",
    "    (lambda x: 1 - abs(x), 'triangular'),\n",
    "    (lambda x: 3 / 4 * (1 - x * x), 'parabolic'),\n",
    "    (lambda x: (1 - x ** 2) ** 2 * 15 / 16, 'quartic')\n",
    "]"
   ]
  },
  {
   "cell_type": "code",
   "execution_count": 11,
   "metadata": {
    "collapsed": false,
    "scrolled": true
   },
   "outputs": [
    {
     "name": "stdout",
     "output_type": "stream",
     "text": [
      "height has been deprecated.\n",
      "\n"
     ]
    },
    {
     "ename": "KeyboardInterrupt",
     "evalue": "",
     "output_type": "error",
     "traceback": [
      "\u001b[0;31m---------------------------------------------------------------------------\u001b[0m",
      "\u001b[0;31mKeyboardInterrupt\u001b[0m                         Traceback (most recent call last)",
      "\u001b[0;32m<ipython-input-11-7975d2964795>\u001b[0m in \u001b[0;36m<module>\u001b[0;34m()\u001b[0m\n\u001b[1;32m     16\u001b[0m         \u001b[0;32mfor\u001b[0m \u001b[0mmetric\u001b[0m \u001b[0;32min\u001b[0m \u001b[0mmetrics\u001b[0m\u001b[0;34m:\u001b[0m\u001b[0;34m\u001b[0m\u001b[0m\n\u001b[1;32m     17\u001b[0m             \u001b[0;32mfor\u001b[0m \u001b[0minput_data\u001b[0m\u001b[0;34m,\u001b[0m \u001b[0mclasses\u001b[0m\u001b[0;34m,\u001b[0m \u001b[0mtransform_name\u001b[0m\u001b[0;34m,\u001b[0m \u001b[0mtransform\u001b[0m \u001b[0;32min\u001b[0m \u001b[0mdata\u001b[0m\u001b[0;34m:\u001b[0m\u001b[0;34m\u001b[0m\u001b[0m\n\u001b[0;32m---> 18\u001b[0;31m                 \u001b[0mk\u001b[0m\u001b[0;34m,\u001b[0m \u001b[0maccuracy\u001b[0m \u001b[0;34m=\u001b[0m \u001b[0;34m(\u001b[0m\u001b[0mkNN\u001b[0m\u001b[0;34m(\u001b[0m\u001b[0mmetric\u001b[0m\u001b[0;34m,\u001b[0m \u001b[0minput_data\u001b[0m\u001b[0;34m,\u001b[0m \u001b[0mclasses\u001b[0m\u001b[0;34m,\u001b[0m \u001b[0mkernel\u001b[0m\u001b[0;34m[\u001b[0m\u001b[0;36m0\u001b[0m\u001b[0;34m]\u001b[0m\u001b[0;34m,\u001b[0m \u001b[0;34m(\u001b[0m\u001b[0;36m1\u001b[0m\u001b[0;34m,\u001b[0m \u001b[0mkfold\u001b[0m\u001b[0;34m)\u001b[0m\u001b[0;34m)\u001b[0m\u001b[0;34m)\u001b[0m\u001b[0;34m\u001b[0m\u001b[0m\n\u001b[0m\u001b[1;32m     19\u001b[0m                 \u001b[0mraw\u001b[0m \u001b[0;34m=\u001b[0m \u001b[0mpd\u001b[0m\u001b[0;34m.\u001b[0m\u001b[0mDataFrame\u001b[0m\u001b[0;34m(\u001b[0m\u001b[0;34m[\u001b[0m\u001b[0;34m[\u001b[0m\u001b[0mkfold\u001b[0m\u001b[0;34m,\u001b[0m \u001b[0mk\u001b[0m\u001b[0;34m,\u001b[0m \u001b[0mmetric_names\u001b[0m\u001b[0;34m[\u001b[0m\u001b[0mmetric\u001b[0m\u001b[0;34m]\u001b[0m\u001b[0;34m,\u001b[0m \u001b[0mtransform_name\u001b[0m\u001b[0;34m,\u001b[0m \u001b[0maccuracy\u001b[0m\u001b[0;34m,\u001b[0m \u001b[0mkernel\u001b[0m\u001b[0;34m[\u001b[0m\u001b[0;36m1\u001b[0m\u001b[0;34m]\u001b[0m\u001b[0;34m]\u001b[0m\u001b[0;34m]\u001b[0m\u001b[0;34m,\u001b[0m \u001b[0mcolumns\u001b[0m\u001b[0;34m=\u001b[0m\u001b[0;34m[\u001b[0m\u001b[0;34m'folds'\u001b[0m\u001b[0;34m,\u001b[0m \u001b[0;34m'k'\u001b[0m\u001b[0;34m,\u001b[0m \u001b[0;34m'metric'\u001b[0m\u001b[0;34m,\u001b[0m \u001b[0;34m'transformation name'\u001b[0m\u001b[0;34m,\u001b[0m \u001b[0;34m'accuracy'\u001b[0m\u001b[0;34m,\u001b[0m \u001b[0;34m'kernel'\u001b[0m\u001b[0;34m]\u001b[0m\u001b[0;34m)\u001b[0m\u001b[0;34m\u001b[0m\u001b[0m\n\u001b[1;32m     20\u001b[0m                 \u001b[0mresults\u001b[0m \u001b[0;34m=\u001b[0m \u001b[0mresults\u001b[0m\u001b[0;34m.\u001b[0m\u001b[0mappend\u001b[0m\u001b[0;34m(\u001b[0m\u001b[0mraw\u001b[0m\u001b[0;34m,\u001b[0m \u001b[0mignore_index\u001b[0m\u001b[0;34m=\u001b[0m\u001b[0;32mTrue\u001b[0m\u001b[0;34m)\u001b[0m\u001b[0;34m\u001b[0m\u001b[0m\n",
      "\u001b[0;32m<ipython-input-9-fe7a0aa792bb>\u001b[0m in \u001b[0;36mkNN\u001b[0;34m(metric, data, classes, kernel, cv_params)\u001b[0m\n\u001b[1;32m     35\u001b[0m                 \u001b[0mtraining_suit\u001b[0m \u001b[0;34m=\u001b[0m \u001b[0;34m[\u001b[0m\u001b[0mdata\u001b[0m\u001b[0;34m[\u001b[0m\u001b[0mi\u001b[0m\u001b[0;34m]\u001b[0m \u001b[0;32mfor\u001b[0m \u001b[0mi\u001b[0m \u001b[0;32min\u001b[0m \u001b[0mtrain_suit\u001b[0m\u001b[0;34m]\u001b[0m\u001b[0;34m\u001b[0m\u001b[0m\n\u001b[1;32m     36\u001b[0m                 \u001b[0mtesting_suit\u001b[0m \u001b[0;34m=\u001b[0m \u001b[0;34m[\u001b[0m\u001b[0mdata\u001b[0m\u001b[0;34m[\u001b[0m\u001b[0mi\u001b[0m\u001b[0;34m]\u001b[0m \u001b[0;32mfor\u001b[0m \u001b[0mi\u001b[0m \u001b[0;32min\u001b[0m \u001b[0mtest_suit\u001b[0m\u001b[0;34m]\u001b[0m\u001b[0;34m\u001b[0m\u001b[0m\n\u001b[0;32m---> 37\u001b[0;31m                 \u001b[0mscore\u001b[0m \u001b[0;34m+=\u001b[0m \u001b[0mcompute_score\u001b[0m\u001b[0;34m(\u001b[0m\u001b[0mneighbors\u001b[0m\u001b[0;34m,\u001b[0m \u001b[0mtraining_suit\u001b[0m\u001b[0;34m,\u001b[0m \u001b[0mtesting_suit\u001b[0m\u001b[0;34m)\u001b[0m\u001b[0;34m\u001b[0m\u001b[0m\n\u001b[0m\u001b[1;32m     38\u001b[0m             \u001b[0maverage_score\u001b[0m \u001b[0;34m+=\u001b[0m \u001b[0mscore\u001b[0m\u001b[0;34m\u001b[0m\u001b[0m\n\u001b[1;32m     39\u001b[0m \u001b[0;34m\u001b[0m\u001b[0m\n",
      "\u001b[0;32m<ipython-input-9-fe7a0aa792bb>\u001b[0m in \u001b[0;36mcompute_score\u001b[0;34m(k, train_suit, test_suit)\u001b[0m\n\u001b[1;32m      7\u001b[0m \u001b[0;34m\u001b[0m\u001b[0m\n\u001b[1;32m      8\u001b[0m         \u001b[0;32mfor\u001b[0m \u001b[0mpoint\u001b[0m \u001b[0;32min\u001b[0m \u001b[0mtest_suit\u001b[0m\u001b[0;34m:\u001b[0m\u001b[0;34m\u001b[0m\u001b[0m\n\u001b[0;32m----> 9\u001b[0;31m             \u001b[0mpredicted\u001b[0m \u001b[0;34m=\u001b[0m \u001b[0mpredict_class\u001b[0m\u001b[0;34m(\u001b[0m\u001b[0mk\u001b[0m\u001b[0;34m,\u001b[0m \u001b[0mmetric\u001b[0m\u001b[0;34m,\u001b[0m \u001b[0mtrain_suit\u001b[0m\u001b[0;34m,\u001b[0m \u001b[0mclasses\u001b[0m\u001b[0;34m,\u001b[0m \u001b[0mpoint\u001b[0m\u001b[0;34m,\u001b[0m \u001b[0mkernel\u001b[0m\u001b[0;34m)\u001b[0m\u001b[0;34m\u001b[0m\u001b[0m\n\u001b[0m\u001b[1;32m     10\u001b[0m             \u001b[0mreal_class\u001b[0m \u001b[0;34m=\u001b[0m \u001b[0mint\u001b[0m\u001b[0;34m(\u001b[0m\u001b[0mclasses\u001b[0m\u001b[0;34m[\u001b[0m\u001b[0mpoint\u001b[0m\u001b[0;34m]\u001b[0m\u001b[0;34m)\u001b[0m\u001b[0;34m\u001b[0m\u001b[0m\n\u001b[1;32m     11\u001b[0m \u001b[0;34m\u001b[0m\u001b[0m\n",
      "\u001b[0;32m<ipython-input-8-bdaf1d6602a4>\u001b[0m in \u001b[0;36mpredict_class\u001b[0;34m(k, metric, learn_suit, classes, point, kernel)\u001b[0m\n\u001b[1;32m      1\u001b[0m \u001b[0;32mdef\u001b[0m \u001b[0mpredict_class\u001b[0m\u001b[0;34m(\u001b[0m\u001b[0mk\u001b[0m\u001b[0;34m,\u001b[0m \u001b[0mmetric\u001b[0m\u001b[0;34m,\u001b[0m \u001b[0mlearn_suit\u001b[0m\u001b[0;34m,\u001b[0m \u001b[0mclasses\u001b[0m\u001b[0;34m,\u001b[0m \u001b[0mpoint\u001b[0m\u001b[0;34m,\u001b[0m \u001b[0mkernel\u001b[0m\u001b[0;34m)\u001b[0m\u001b[0;34m:\u001b[0m\u001b[0;34m\u001b[0m\u001b[0m\n\u001b[0;32m----> 2\u001b[0;31m     \u001b[0mdistances\u001b[0m \u001b[0;34m=\u001b[0m \u001b[0;34m[\u001b[0m\u001b[0;34m(\u001b[0m\u001b[0mmetric\u001b[0m\u001b[0;34m(\u001b[0m\u001b[0ml_point\u001b[0m\u001b[0;34m,\u001b[0m \u001b[0mpoint\u001b[0m\u001b[0;34m)\u001b[0m\u001b[0;34m,\u001b[0m \u001b[0ml_point\u001b[0m\u001b[0;34m)\u001b[0m \u001b[0;32mfor\u001b[0m \u001b[0ml_point\u001b[0m \u001b[0;32min\u001b[0m \u001b[0mlearn_suit\u001b[0m\u001b[0;34m]\u001b[0m\u001b[0;34m\u001b[0m\u001b[0m\n\u001b[0m\u001b[1;32m      3\u001b[0m     \u001b[0mdistances\u001b[0m\u001b[0;34m.\u001b[0m\u001b[0msort\u001b[0m\u001b[0;34m(\u001b[0m\u001b[0;34m)\u001b[0m\u001b[0;34m\u001b[0m\u001b[0m\n\u001b[1;32m      4\u001b[0m \u001b[0;34m\u001b[0m\u001b[0m\n\u001b[1;32m      5\u001b[0m     \u001b[0md\u001b[0m \u001b[0;34m=\u001b[0m \u001b[0mdistances\u001b[0m\u001b[0;34m[\u001b[0m\u001b[0mk\u001b[0m\u001b[0;34m]\u001b[0m\u001b[0;34m[\u001b[0m\u001b[0;36m0\u001b[0m\u001b[0;34m]\u001b[0m\u001b[0;34m\u001b[0m\u001b[0m\n",
      "\u001b[0;32m<ipython-input-8-bdaf1d6602a4>\u001b[0m in \u001b[0;36m<listcomp>\u001b[0;34m(.0)\u001b[0m\n\u001b[1;32m      1\u001b[0m \u001b[0;32mdef\u001b[0m \u001b[0mpredict_class\u001b[0m\u001b[0;34m(\u001b[0m\u001b[0mk\u001b[0m\u001b[0;34m,\u001b[0m \u001b[0mmetric\u001b[0m\u001b[0;34m,\u001b[0m \u001b[0mlearn_suit\u001b[0m\u001b[0;34m,\u001b[0m \u001b[0mclasses\u001b[0m\u001b[0;34m,\u001b[0m \u001b[0mpoint\u001b[0m\u001b[0;34m,\u001b[0m \u001b[0mkernel\u001b[0m\u001b[0;34m)\u001b[0m\u001b[0;34m:\u001b[0m\u001b[0;34m\u001b[0m\u001b[0m\n\u001b[0;32m----> 2\u001b[0;31m     \u001b[0mdistances\u001b[0m \u001b[0;34m=\u001b[0m \u001b[0;34m[\u001b[0m\u001b[0;34m(\u001b[0m\u001b[0mmetric\u001b[0m\u001b[0;34m(\u001b[0m\u001b[0ml_point\u001b[0m\u001b[0;34m,\u001b[0m \u001b[0mpoint\u001b[0m\u001b[0;34m)\u001b[0m\u001b[0;34m,\u001b[0m \u001b[0ml_point\u001b[0m\u001b[0;34m)\u001b[0m \u001b[0;32mfor\u001b[0m \u001b[0ml_point\u001b[0m \u001b[0;32min\u001b[0m \u001b[0mlearn_suit\u001b[0m\u001b[0;34m]\u001b[0m\u001b[0;34m\u001b[0m\u001b[0m\n\u001b[0m\u001b[1;32m      3\u001b[0m     \u001b[0mdistances\u001b[0m\u001b[0;34m.\u001b[0m\u001b[0msort\u001b[0m\u001b[0;34m(\u001b[0m\u001b[0;34m)\u001b[0m\u001b[0;34m\u001b[0m\u001b[0m\n\u001b[1;32m      4\u001b[0m \u001b[0;34m\u001b[0m\u001b[0m\n\u001b[1;32m      5\u001b[0m     \u001b[0md\u001b[0m \u001b[0;34m=\u001b[0m \u001b[0mdistances\u001b[0m\u001b[0;34m[\u001b[0m\u001b[0mk\u001b[0m\u001b[0;34m]\u001b[0m\u001b[0;34m[\u001b[0m\u001b[0;36m0\u001b[0m\u001b[0;34m]\u001b[0m\u001b[0;34m\u001b[0m\u001b[0m\n",
      "\u001b[0;32m<ipython-input-6-2ab09e7cfda3>\u001b[0m in \u001b[0;36m<lambda>\u001b[0;34m(x, y)\u001b[0m\n\u001b[1;32m     17\u001b[0m \u001b[0;34m\u001b[0m\u001b[0m\n\u001b[1;32m     18\u001b[0m \u001b[0;34m\u001b[0m\u001b[0m\n\u001b[0;32m---> 19\u001b[0;31m metrics = [lambda x, y: minkowskiDistance(x, y, 1), \n\u001b[0m\u001b[1;32m     20\u001b[0m            \u001b[0;32mlambda\u001b[0m \u001b[0mx\u001b[0m\u001b[0;34m,\u001b[0m \u001b[0my\u001b[0m\u001b[0;34m:\u001b[0m \u001b[0mminkowskiDistance\u001b[0m\u001b[0;34m(\u001b[0m\u001b[0mx\u001b[0m\u001b[0;34m,\u001b[0m \u001b[0my\u001b[0m\u001b[0;34m,\u001b[0m \u001b[0;36m2\u001b[0m\u001b[0;34m)\u001b[0m\u001b[0;34m\u001b[0m\u001b[0m\n\u001b[1;32m     21\u001b[0m           ]\n",
      "\u001b[0;32m<ipython-input-6-2ab09e7cfda3>\u001b[0m in \u001b[0;36mminkowskiDistance\u001b[0;34m(x, y, p)\u001b[0m\n\u001b[1;32m      1\u001b[0m \u001b[0;32mdef\u001b[0m \u001b[0mminkowskiDistance\u001b[0m\u001b[0;34m(\u001b[0m\u001b[0mx\u001b[0m\u001b[0;34m,\u001b[0m \u001b[0my\u001b[0m\u001b[0;34m,\u001b[0m \u001b[0mp\u001b[0m\u001b[0;34m)\u001b[0m\u001b[0;34m:\u001b[0m\u001b[0;34m\u001b[0m\u001b[0m\n\u001b[1;32m      2\u001b[0m     \u001b[0mres\u001b[0m \u001b[0;34m=\u001b[0m \u001b[0;36m0\u001b[0m\u001b[0;34m\u001b[0m\u001b[0m\n\u001b[0;32m----> 3\u001b[0;31m     \u001b[0;32mfor\u001b[0m \u001b[0mi\u001b[0m \u001b[0;32min\u001b[0m \u001b[0mrange\u001b[0m\u001b[0;34m(\u001b[0m\u001b[0mlen\u001b[0m\u001b[0;34m(\u001b[0m\u001b[0mx\u001b[0m\u001b[0;34m)\u001b[0m\u001b[0;34m)\u001b[0m\u001b[0;34m:\u001b[0m\u001b[0;34m\u001b[0m\u001b[0m\n\u001b[0m\u001b[1;32m      4\u001b[0m         \u001b[0mres\u001b[0m \u001b[0;34m+=\u001b[0m \u001b[0mabs\u001b[0m\u001b[0;34m(\u001b[0m\u001b[0mx\u001b[0m\u001b[0;34m[\u001b[0m\u001b[0mi\u001b[0m\u001b[0;34m]\u001b[0m \u001b[0;34m-\u001b[0m \u001b[0my\u001b[0m\u001b[0;34m[\u001b[0m\u001b[0mi\u001b[0m\u001b[0;34m]\u001b[0m\u001b[0;34m)\u001b[0m \u001b[0;34m**\u001b[0m \u001b[0mp\u001b[0m\u001b[0;34m\u001b[0m\u001b[0m\n\u001b[1;32m      5\u001b[0m     \u001b[0;32mreturn\u001b[0m \u001b[0mres\u001b[0m \u001b[0;34m**\u001b[0m \u001b[0;34m(\u001b[0m\u001b[0;36m1\u001b[0m \u001b[0;34m/\u001b[0m \u001b[0mp\u001b[0m\u001b[0;34m)\u001b[0m\u001b[0;34m\u001b[0m\u001b[0m\n",
      "\u001b[0;31mKeyboardInterrupt\u001b[0m: "
     ]
    }
   ],
   "source": [
    "results = pd.DataFrame(columns=['k', 'metric', 'accuracy'])\n",
    "\n",
    "\n",
    "best_accuracy = 0\n",
    "best_kernel   = None\n",
    "best_metric   = None\n",
    "best_data     = None\n",
    "best_neighbor = None\n",
    "best_kfold = None\n",
    "\n",
    "pd.set_option('display.height', 250)\n",
    "pd.set_option('display.max_rows', 250)\n",
    "\n",
    "for kfold in range(5, 11):\n",
    "    for kernel in kernels:\n",
    "        for metric in metrics:\n",
    "            for input_data, classes, transform_name, transform in data:\n",
    "                k, accuracy = (kNN(metric, input_data, classes, kernel[0], (1, kfold)))\n",
    "                raw = pd.DataFrame([[kfold, k, metric_names[metric], transform_name, accuracy, kernel[1]]], columns=['folds', 'k', 'metric', 'transformation name', 'accuracy', 'kernel'])\n",
    "                results = results.append(raw, ignore_index=True)\n",
    "            \n",
    "                if accuracy > best_accuracy:\n",
    "                    best_accuracy = accuracy\n",
    "                    best_kernel = kernel[0]\n",
    "                    best_metric = metric\n",
    "                    best_data = (input_data, classes, transform)\n",
    "                    best_neighbor = k\n",
    "                    best_kfold = kfold\n",
    "                \n",
    "                    best_string = str(accuracy) + ', ' + str(k) + ', ' + kernel[1] + ', ' + metric_names[metric] + \", \" + transform_name + \" folds: \" + str(best_kfold)\n",
    "\n",
    "display(results)"
   ]
  },
  {
   "cell_type": "code",
   "execution_count": null,
   "metadata": {
    "collapsed": false,
    "scrolled": false
   },
   "outputs": [],
   "source": [
    "green = [[], []]\n",
    "blue = [[], []]\n",
    "\n",
    "for x in np.arange(-1, 1.5, 0.01):\n",
    "    for y in np.arange(-1, 1.5, 0.01):\n",
    "        predicted = predict_class(best_neighbor, best_metric, best_data[0], best_data[1], best_data[2](x, y), best_kernel)\n",
    "\n",
    "        if (predicted == 0):\n",
    "            green[0].append(x)\n",
    "            green[1].append(y)\n",
    "        else:\n",
    "            blue[0].append(x)\n",
    "            blue[1].append(y)\n",
    "\n",
    "plt.title(best_string)\n",
    "plt.plot(green[0], green[1], 'g.', blue[0], blue[1], 'b.')"
   ]
  },
  {
   "cell_type": "code",
   "execution_count": null,
   "metadata": {
    "collapsed": false
   },
   "outputs": [],
   "source": [
    "printAllPoints(simpleData[0], simpleData[1])"
   ]
  },
  {
   "cell_type": "code",
   "execution_count": 15,
   "metadata": {
    "collapsed": false
   },
   "outputs": [],
   "source": [
    "def get_class(x, classes):\n",
    "    temp = classes[x]\n",
    "    if temp == 0:\n",
    "        return -1\n",
    "    else:\n",
    "        return 1\n",
    "\n",
    "def lagrange(lambdas, train_suit, classes, kernel):\n",
    "    result = -sum(lambdas)\n",
    "    \n",
    "    for i in range(len(train_suit)):\n",
    "        for j in range(len(train_suit)):\n",
    "            x_i = train_suit[i]\n",
    "            x_j = train_suit[j]\n",
    "            result += lambdas[i] * lambdas[j] * get_class(x_i, classes) * get_class(x_j, classes) * kernel(x_i, x_j)\n",
    "    return result\n",
    "\n",
    "def get_constraint(train_suit, classes):\n",
    "    def constraint(x):\n",
    "        result = 0\n",
    "        for i in range(len(x)):\n",
    "            result += get_class(train_suit[i], classes) * x[i]\n",
    "        return result\n",
    "    return constraint\n",
    "    \n",
    "def predict_svm(point, kernel, w, w0):\n",
    "    result = kernel(point, w) - w0\n",
    "    if result < 0:\n",
    "        return 0\n",
    "    return 1\n",
    "\n",
    "# training_suit = []\n",
    "# classes = {}\n",
    "\n",
    "def SVM(data, classes, kernel, C, cv_params = (1, 10)):\n",
    "\n",
    "    tfold, kfold = cv_params\n",
    "    kfold_index = k_fold_cv(kfold, len(data))\n",
    "    max_score = 0\n",
    "    TP  = [0, 0]\n",
    "    FP  = [0, 0]\n",
    "    ALL = [0 , 0]\n",
    "    for train_suit, test_suit in kfold_index:\n",
    "        training_suit = [data[i] for i in train_suit]\n",
    "        testing_suit = [data[i] for i in test_suit]\n",
    "        def lagrange_gradient(x, *args):\n",
    "            def dv_dxi(i):\n",
    "                result = -1\n",
    "                for j in range(len(x)):\n",
    "                    x_i = training_suit[i]\n",
    "                    x_j = training_suit[j]\n",
    "\n",
    "                    result += x[j] * get_class(x_i, classes) * get_class(x_j, classes) * kernel(x_i, x_j)\n",
    "                return result\n",
    "            return [dv_dxi(i) for i in range(len(x))]\n",
    "\n",
    "\n",
    "        lambdas = sopt.minimize(lagrange, \n",
    "                                np.array([0 for i in range(len(training_suit))]), \n",
    "                                (training_suit, classes, kernel), \n",
    "                                jac=lagrange_gradient, \n",
    "                                bounds=[(0,C) for i in range(len(training_suit))],\n",
    "                                constraints={'type':'eq', 'fun':get_constraint(training_suit, classes)})\n",
    "\n",
    "        w = np.array([0 for i in range(len(training_suit[0]))], dtype='float64')\n",
    "        for i in range(len(training_suit)):\n",
    "            lambda_i = lambdas.x[i]\n",
    "            y_i = get_class(training_suit[i], classes)\n",
    "            x_i = training_suit[i]\n",
    "            w += np.array([lambda_i * y_i * x_i[j] for j in range(len(x_i))], dtype='float64')\n",
    "            \n",
    "        w0 = 0\n",
    "        count = 0\n",
    "        for i in range(len(lambdas.x)):\n",
    "            lambda_i = lambdas.x[i]\n",
    "            if lambda_i > 0:\n",
    "                w0 += kernel(w, training_suit[i]) - get_class(training_suit[i], classes)\n",
    "                count += 1\n",
    "        if count != 0:\n",
    "            w0 /= count\n",
    "        \n",
    "        for point in testing_suit:\n",
    "            predicted = int(predict_svm(point, kernel, w, w0))\n",
    "            real_class = int(classes[point])\n",
    "            if predicted == real_class:\n",
    "                TP[predicted] += 1\n",
    "            else:\n",
    "                FP[predicted] += 1\n",
    "            ALL[real_class] += 1\n",
    "        \n",
    "    if TP[1] > 0:\n",
    "        recall = TP[1] / ALL[1]\n",
    "        precision = TP[1] / (TP[1] + FP[1])\n",
    "        # F1 measure\n",
    "        return 2 * (precision * recall) / (precision + recall), (kernel, w, w0)\n",
    "    return 0, (kernel, w, w0)"
   ]
  },
  {
   "cell_type": "code",
   "execution_count": 13,
   "metadata": {
    "collapsed": false
   },
   "outputs": [],
   "source": [
    "def simple_kernel(x, y):\n",
    "    return sum(np.array(x) * np.array(y))\n",
    "\n",
    "def square_kernel(x, y):\n",
    "    return simple_kernel(x, y) ** 2\n",
    "\n",
    "def paraboloid_kernel(x, y):\n",
    "    return simple_kernel([x[0], x[1], x[0]**2 + x[1]**2], [y[0], y[1], y[0]**2 + y[1]**2])\n",
    "\n",
    "def parab(data):\n",
    "    w = np.array([0, 0], dtype='float64')\n",
    "    input_data, classes, transform_name, transform = data\n",
    "    for point in input_data:\n",
    "        w += np.array(point, dtype='float64')\n",
    "    w /= len(data)\n",
    "    def kernel(x, y):\n",
    "        return simple_kernel([x[0], x[1], (x[0] - w[0])**2 + (x[1] - w[1])**2], [y[0], y[1], (y[0] - w[0])**2 + (y[1] - w[1])**2])\n",
    "    return kernel\n",
    "\n",
    "\n",
    "def paraboloid_kernel2(x, y):\n",
    "    return square_kernel([x[0], x[1], x[0]**2 + x[1]**2], [y[0], y[1], y[0]**2 + y[1]**2])\n",
    "\n",
    "def gaussianKernel(sigma=1):\n",
    "    FG = lambda x : np.array([(x[0]**2 + x[1]**2) , x[0], x[1]])\n",
    "    return lambda x, y: np.exp(-np.dot(FG(np.array(x) - np.array(y)),  FG(np.array(x) - np.array(y))) / (2 * (sigma ** 2)))\n",
    "\n",
    "bikernels = [(parab(simpleData), 'square paraboloid'),\n",
    "             (gaussianKernel(1), 'gaussian'),\n",
    "             (simple_kernel, '<x,y>'),\n",
    "             (square_kernel, '<x,y>^2'),\n",
    "             (paraboloid_kernel, 'simple paraboloid'),\n",
    "             ]\n",
    "\n",
    "svm_data = [data[0], data[-2], data[-1]]"
   ]
  },
  {
   "cell_type": "code",
   "execution_count": 16,
   "metadata": {
    "collapsed": false
   },
   "outputs": [
    {
     "name": "stdout",
     "output_type": "stream",
     "text": [
      "square paraboloid - 0.49572649572649574\n",
      "square paraboloid polar(center_x, center_y) 0.5565217391304348\n",
      "square paraboloid wide 0.2434782608695652\n",
      "gaussian - 0.5901639344262296\n",
      "gaussian polar(center_x, center_y) 0.3584905660377358\n",
      "gaussian wide 0.380952380952381\n",
      "<x,y> - 0.3157894736842105\n",
      "<x,y> polar(center_x, center_y) 0.735042735042735\n",
      "<x,y> wide 0.7818181818181817\n",
      "<x,y>^2 - 0.22222222222222224\n",
      "<x,y>^2 polar(center_x, center_y) 0.3619047619047619\n",
      "<x,y>^2 wide 0.16091954022988508\n",
      "simple paraboloid - 0.4285714285714286\n",
      "simple paraboloid polar(center_x, center_y) 0.43636363636363634\n",
      "simple paraboloid wide 0.22608695652173913\n"
     ]
    }
   ],
   "source": [
    "current = 0\n",
    "bext = None\n",
    "for kfold in [5]:\n",
    "    for kernel in bikernels:\n",
    "        for input_data, classes, transform_name, transform in svm_data:\n",
    "            for C in [0.114]:\n",
    "                score, tmp = SVM(input_data, classes, kernel[0], C, cv_params=(1,kfold))\n",
    "                if current < score:\n",
    "                    current = score\n",
    "                    bext = tmp\n",
    "                print(kernel[1], transform_name, score)"
   ]
  },
  {
   "cell_type": "code",
   "execution_count": 17,
   "metadata": {
    "collapsed": false
   },
   "outputs": [
    {
     "data": {
      "text/plain": [
       "[<matplotlib.lines.Line2D at 0x10862fd30>,\n",
       " <matplotlib.lines.Line2D at 0x1091c51d0>]"
      ]
     },
     "execution_count": 17,
     "metadata": {},
     "output_type": "execute_result"
    },
    {
     "data": {
      "image/png": "[encoded data removed]",
      "text/plain": [
       "<matplotlib.figure.Figure at 0x10862fcf8>"
      ]
     },
     "metadata": {},
     "output_type": "display_data"
    }
   ],
   "source": [
    "green = [[], []]\n",
    "blue = [[], []]\n",
    "krnl, w, w0 = bext\n",
    "for x in np.arange(-1, 1.5, 0.01):\n",
    "    for y in np.arange(-1, 1.5, 0.01):\n",
    "        predicted = predict_svm((x,y), krnl, w, w0)\n",
    "\n",
    "        if (predicted == 0):\n",
    "            green[0].append(x)\n",
    "            green[1].append(y)\n",
    "        else:\n",
    "            blue[0].append(x)\n",
    "            blue[1].append(y)\n",
    "\n",
    "plt.title(best_string)\n",
    "plt.plot(green[0], green[1], 'g.', blue[0], blue[1], 'b.')"
   ]
  }
 ],
 "metadata": {
  "kernelspec": {
   "display_name": "Python 3",
   "language": "python",
   "name": "python3"
  },
  "language_info": {
   "codemirror_mode": {
    "name": "ipython",
    "version": 3
   },
   "file_extension": ".py",
   "mimetype": "text/x-python",
   "name": "python",
   "nbconvert_exporter": "python",
   "pygments_lexer": "ipython3",
   "version": "3.5.0"
  }
 },
 "nbformat": 4,
 "nbformat_minor": 1
}
